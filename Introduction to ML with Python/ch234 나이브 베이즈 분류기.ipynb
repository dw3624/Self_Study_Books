{
 "cells": [
  {
   "cell_type": "code",
   "execution_count": 1,
   "id": "fa45ad1e",
   "metadata": {},
   "outputs": [],
   "source": [
    "import warnings\n",
    "warnings.filterwarnings(action='ignore')"
   ]
  },
  {
   "cell_type": "code",
   "execution_count": 2,
   "id": "f3a36998",
   "metadata": {},
   "outputs": [],
   "source": [
    "import mglearn\n",
    "import pandas as pd\n",
    "import numpy as np\n",
    "from sklearn.model_selection import train_test_split\n",
    "import matplotlib\n",
    "import matplotlib.pyplot as plt\n",
    "%matplotlib inline\n",
    "plt.rc('font', family='NanumGothic')\n",
    "matplotlib.rcParams['axes.unicode_minus'] = False   # 마이너스 부호 깨짐"
   ]
  },
  {
   "cell_type": "markdown",
   "id": "91a4fbf3",
   "metadata": {},
   "source": [
    "## 2.3.4 나이브 베이즈 분류기\n",
    "\n",
    "- 훈련속도 빠른 편이지만 일반화 성능 떨어짐\n",
    "- 각 특성을 개별로 취급해 파라미터를 학습하고 각 특성에서 클래스별 통계를 단순하게 취합\n",
    "  - GaussianNB: 연속적인 데이터에도 적용 가능\n",
    "  - BernoulliNB: 이진 데이터에 적용\n",
    "  - MultinomialNB: 카운트 데이터에 적용, 텍스트 데이터에 자주 이용"
   ]
  },
  {
   "cell_type": "code",
   "execution_count": 3,
   "id": "8b8843ad",
   "metadata": {},
   "outputs": [],
   "source": [
    "X = np.array([[0,1,0,1],\n",
    "              [1,0,1,1],\n",
    "              [0,0,0,1],\n",
    "              [1,0,1,0]])\n",
    "y = np.array([0,1,0,1])"
   ]
  },
  {
   "cell_type": "code",
   "execution_count": 4,
   "id": "a7635cb7",
   "metadata": {},
   "outputs": [
    {
     "name": "stdout",
     "output_type": "stream",
     "text": [
      "특성 카운트:\n",
      " {0: array([0, 1, 0, 2]), 1: array([2, 0, 2, 1])}\n"
     ]
    }
   ],
   "source": [
    "# BernoulliNB: 0이 아닌 것의 개수\n",
    "counts = {}\n",
    "for label in np.unique(y):\n",
    "    # 각 클래스에 대해 반복\n",
    "    # 특성마다 1이 나타난 횟수를 센다\n",
    "    counts[label] = X[y==label].sum(axis=0)\n",
    "print('특성 카운트:\\n',counts)"
   ]
  },
  {
   "cell_type": "markdown",
   "id": "6379c172",
   "metadata": {},
   "source": [
    "- GaussianNB : 클래스별로 각 특성의 표준편차와 평균 저장\n",
    "- MultinomialNB : 클래스별로 특성의 평균을 계산\n",
    "\n",
    "### 장단점과 매개변수\n",
    "\n",
    "- 선형모델과 장단점 비슷\n",
    "  - 훈련, 예측 속도 빠름, 훈련 과정 이해하기 쉬움\n",
    "  - 희소한 고차원 데이터에서 잘 작동, 비교적 매개변수에 민감하지 않음\n",
    "- MultinomialNB, GaussianNB : 모델 복잡도 조절하는 alpha 매개변수 존재, 텍스트 등 희소한 데이터 카운트에 자주 사용\n",
    "  - alpha 개수만큼 모든 특성에 양의 값을 가진 가상의 데이터 포인트를 추가\n",
    "  - alpha 클수록 통계 데이터 완만해지고 모델 복잡도 낮아짐\n",
    "  - 성능향상에 크게 기여하지 않으나, 어느정도는 정확도 향상 가능\n",
    "- GaussianNB : 고차원 데이터셋에 자주 사용"
   ]
  },
  {
   "cell_type": "code",
   "execution_count": null,
   "id": "90c2b08e",
   "metadata": {},
   "outputs": [],
   "source": []
  }
 ],
 "metadata": {
  "kernelspec": {
   "display_name": "Python 3",
   "language": "python",
   "name": "python3"
  },
  "language_info": {
   "codemirror_mode": {
    "name": "ipython",
    "version": 3
   },
   "file_extension": ".py",
   "mimetype": "text/x-python",
   "name": "python",
   "nbconvert_exporter": "python",
   "pygments_lexer": "ipython3",
   "version": "3.8.5"
  }
 },
 "nbformat": 4,
 "nbformat_minor": 5
}
