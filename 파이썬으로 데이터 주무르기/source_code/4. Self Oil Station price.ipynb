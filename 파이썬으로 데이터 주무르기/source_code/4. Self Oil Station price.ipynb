{
 "cells": [
  {
   "cell_type": "markdown",
   "metadata": {},
   "source": [
    "# 4장 셀프 주유소는 정말 저렴할까\n",
    "\n",
    "\n",
    "## 4-1 Selenium 사용하기"
   ]
  },
  {
   "cell_type": "code",
   "execution_count": 1,
   "metadata": {},
   "outputs": [],
   "source": [
    "from selenium import webdriver"
   ]
  },
  {
   "cell_type": "markdown",
   "metadata": {},
   "source": [
    " - 크롬설정 > 크롬정보 > 크롬버전 확인\n",
    " - https://chromedriver.chromium.org/downloads 에서 드라이버 설치\n",
    " - C:/Users/user/python/chromedriver.exe"
   ]
  },
  {
   "cell_type": "code",
   "execution_count": 7,
   "metadata": {},
   "outputs": [],
   "source": [
    "driver = webdriver.Chrome('C:/Users/user/python/chromedriver.exe')\n",
    "driver.get('http://naver.com')\n",
    "driver.save_screenshot('../images/0001.png')"
   ]
  },
  {
   "cell_type": "markdown",
   "metadata": {
    "collapsed": true
   },
   "source": [
    "## 4-2 서울시 구별 주유소 가격 정보 얻기"
   ]
  },
  {
   "cell_type": "code",
   "execution_count": 10,
   "metadata": {},
   "outputs": [],
   "source": [
    "driver = webdriver.Chrome('C:/Users/user/python/chromedriver.exe')\n",
    "driver.get('https://www.opinet.co.kr/searRgSelect.do')"
   ]
  },
  {
   "cell_type": "markdown",
   "metadata": {},
   "source": [
    "* Opinet은 사용자가 접속한 지역에 따라 지역을 잡아주는 기능이 있습니다.\n",
    "* 지역에 **서울**이라고 나타나지 않으면 크롬 드라이버에서 손으로 **서울**로 잡아주세요."
   ]
  },
  {
   "cell_type": "code",
   "execution_count": 12,
   "metadata": {},
   "outputs": [],
   "source": [
    "gu_list_raw = driver.find_element_by_xpath(\"\"\"//*[@id=\"SIGUNGU_NM0\"]\"\"\")\n",
    "gu_list = gu_list_raw.find_elements_by_tag_name('option')"
   ]
  },
  {
   "cell_type": "code",
   "execution_count": 13,
   "metadata": {
    "scrolled": true
   },
   "outputs": [
    {
     "data": {
      "text/plain": [
       "['강남구',\n",
       " '강동구',\n",
       " '강북구',\n",
       " '강서구',\n",
       " '관악구',\n",
       " '광진구',\n",
       " '구로구',\n",
       " '금천구',\n",
       " '노원구',\n",
       " '도봉구',\n",
       " '동대문구',\n",
       " '동작구',\n",
       " '마포구',\n",
       " '서대문구',\n",
       " '서초구',\n",
       " '성동구',\n",
       " '성북구',\n",
       " '송파구',\n",
       " '양천구',\n",
       " '영등포구',\n",
       " '용산구',\n",
       " '은평구',\n",
       " '종로구',\n",
       " '중구',\n",
       " '중랑구']"
      ]
     },
     "execution_count": 13,
     "metadata": {},
     "output_type": "execute_result"
    }
   ],
   "source": [
    "gu_names = [option.get_attribute(\"value\") for option in gu_list]\n",
    "gu_names.remove('')\n",
    "gu_names"
   ]
  },
  {
   "cell_type": "code",
   "execution_count": 14,
   "metadata": {},
   "outputs": [],
   "source": [
    "element = driver.find_element_by_id(\"SIGUNGU_NM0\")\n",
    "element.send_keys(gu_names[0])"
   ]
  },
  {
   "cell_type": "code",
   "execution_count": 17,
   "metadata": {},
   "outputs": [],
   "source": [
    "# 조회\n",
    "xpath = \"\"\"//*[@id=\"searRgSelect\"]\"\"\"\n",
    "element_sel_gu = driver.find_element_by_xpath(xpath).click()"
   ]
  },
  {
   "cell_type": "code",
   "execution_count": 18,
   "metadata": {},
   "outputs": [],
   "source": [
    "# 엑셀\n",
    "xpath = \"\"\"//*[@id=\"glopopd_excel\"]\"\"\"\n",
    "element_get_excel = driver.find_element_by_xpath(xpath).click()"
   ]
  },
  {
   "cell_type": "code",
   "execution_count": 19,
   "metadata": {},
   "outputs": [
    {
     "data": {
      "application/vnd.jupyter.widget-view+json": {
       "model_id": "122aeeba72b440848d2ffac45be05791",
       "version_major": 2,
       "version_minor": 0
      },
      "text/plain": [
       "HBox(children=(HTML(value=''), FloatProgress(value=0.0, max=25.0), HTML(value='')))"
      ]
     },
     "metadata": {},
     "output_type": "display_data"
    },
    {
     "name": "stdout",
     "output_type": "stream",
     "text": [
      "\n"
     ]
    }
   ],
   "source": [
    "import time\n",
    "from tqdm.notebook import tqdm\n",
    "\n",
    "for gu in tqdm(gu_names):\n",
    "    element = driver.find_element_by_id(\"SIGUNGU_NM0\")\n",
    "    element.send_keys(gu)\n",
    "    \n",
    "    time.sleep(2)\n",
    "    \n",
    "    xpath = \"\"\"//*[@id=\"searRgSelect\"]\"\"\"\n",
    "    element_sel_gu = driver.find_element_by_xpath(xpath).click()\n",
    "    \n",
    "    time.sleep(1)\n",
    "    \n",
    "    xpath = \"\"\"//*[@id=\"glopopd_excel\"]\"\"\"\n",
    "    element_get_excel = driver.find_element_by_xpath(xpath).click()\n",
    "    \n",
    "    time.sleep(1)"
   ]
  },
  {
   "cell_type": "code",
   "execution_count": 20,
   "metadata": {},
   "outputs": [],
   "source": [
    "driver.close()"
   ]
  },
  {
   "cell_type": "markdown",
   "metadata": {},
   "source": [
    "- get(url) : 웹페이지를 읽음\n",
    "- find_element_by_xpath(query) : xpath를 지정해 요소를 추출\n",
    "- find_element_by_tag_name(name) : 태그이름이 name에 해당하는 요소를 추출\n",
    "- find_elements_by_tag_name(name) : 's' ==> 복수일 경우\n",
    "- get_attribute(name) : 요소 속성중 name에 해당하는 속성 값을 추출\n",
    "- find_element_by_id(id) : id속성으로 요소를 하나 추출\n",
    "- send_keys(value) : 키를 입력\n",
    "- click() : 요소를 클릭\n",
    "\n",
    "https://fenderist.tistory.com/168"
   ]
  },
  {
   "cell_type": "markdown",
   "metadata": {
    "collapsed": true
   },
   "source": [
    "## 4-5. 구별 주유 가격에 대한 데이터의 정리"
   ]
  },
  {
   "cell_type": "code",
   "execution_count": 31,
   "metadata": {},
   "outputs": [],
   "source": [
    "import pandas as pd\n",
    "from glob import glob"
   ]
  },
  {
   "cell_type": "code",
   "execution_count": 38,
   "metadata": {
    "scrolled": false
   },
   "outputs": [
    {
     "data": {
      "text/plain": [
       "['../data\\\\지역_위치별(주유소) (1).xls',\n",
       " '../data\\\\지역_위치별(주유소) (10).xls',\n",
       " '../data\\\\지역_위치별(주유소) (11).xls',\n",
       " '../data\\\\지역_위치별(주유소) (12).xls',\n",
       " '../data\\\\지역_위치별(주유소) (13).xls',\n",
       " '../data\\\\지역_위치별(주유소) (14).xls',\n",
       " '../data\\\\지역_위치별(주유소) (15).xls',\n",
       " '../data\\\\지역_위치별(주유소) (16).xls',\n",
       " '../data\\\\지역_위치별(주유소) (17).xls',\n",
       " '../data\\\\지역_위치별(주유소) (18).xls',\n",
       " '../data\\\\지역_위치별(주유소) (19).xls',\n",
       " '../data\\\\지역_위치별(주유소) (2).xls',\n",
       " '../data\\\\지역_위치별(주유소) (20).xls',\n",
       " '../data\\\\지역_위치별(주유소) (21).xls',\n",
       " '../data\\\\지역_위치별(주유소) (22).xls',\n",
       " '../data\\\\지역_위치별(주유소) (23).xls',\n",
       " '../data\\\\지역_위치별(주유소) (24).xls',\n",
       " '../data\\\\지역_위치별(주유소) (3).xls',\n",
       " '../data\\\\지역_위치별(주유소) (4).xls',\n",
       " '../data\\\\지역_위치별(주유소) (5).xls',\n",
       " '../data\\\\지역_위치별(주유소) (6).xls',\n",
       " '../data\\\\지역_위치별(주유소) (7).xls',\n",
       " '../data\\\\지역_위치별(주유소) (8).xls',\n",
       " '../data\\\\지역_위치별(주유소) (9).xls',\n",
       " '../data\\\\지역_위치별(주유소).xls']"
      ]
     },
     "execution_count": 38,
     "metadata": {},
     "output_type": "execute_result"
    }
   ],
   "source": [
    "stations_files = glob('../data/지역_위치별*xls')\n",
    "stations_files"
   ]
  },
  {
   "cell_type": "code",
   "execution_count": 39,
   "metadata": {},
   "outputs": [],
   "source": [
    "tmp_raw = []\n",
    "\n",
    "for file_name in stations_files:\n",
    "    tmp = pd.read_excel(file_name, header=2)\n",
    "    tmp_raw.append(tmp)\n",
    "    \n",
    "station_raw = pd.concat(tmp_raw)"
   ]
  },
  {
   "cell_type": "code",
   "execution_count": 40,
   "metadata": {},
   "outputs": [
    {
     "name": "stdout",
     "output_type": "stream",
     "text": [
      "<class 'pandas.core.frame.DataFrame'>\n",
      "Int64Index: 537 entries, 0 to 45\n",
      "Data columns (total 10 columns):\n",
      " #   Column  Non-Null Count  Dtype \n",
      "---  ------  --------------  ----- \n",
      " 0   지역      537 non-null    object\n",
      " 1   상호      537 non-null    object\n",
      " 2   주소      537 non-null    object\n",
      " 3   상표      537 non-null    object\n",
      " 4   전화번호    537 non-null    object\n",
      " 5   셀프여부    537 non-null    object\n",
      " 6   고급휘발유   537 non-null    object\n",
      " 7   휘발유     537 non-null    object\n",
      " 8   경유      537 non-null    object\n",
      " 9   실내등유    537 non-null    object\n",
      "dtypes: object(10)\n",
      "memory usage: 46.1+ KB\n"
     ]
    }
   ],
   "source": [
    "station_raw.info()"
   ]
  },
  {
   "cell_type": "code",
   "execution_count": 41,
   "metadata": {},
   "outputs": [
    {
     "data": {
      "text/html": [
       "<div>\n",
       "<style scoped>\n",
       "    .dataframe tbody tr th:only-of-type {\n",
       "        vertical-align: middle;\n",
       "    }\n",
       "\n",
       "    .dataframe tbody tr th {\n",
       "        vertical-align: top;\n",
       "    }\n",
       "\n",
       "    .dataframe thead th {\n",
       "        text-align: right;\n",
       "    }\n",
       "</style>\n",
       "<table border=\"1\" class=\"dataframe\">\n",
       "  <thead>\n",
       "    <tr style=\"text-align: right;\">\n",
       "      <th></th>\n",
       "      <th>지역</th>\n",
       "      <th>상호</th>\n",
       "      <th>주소</th>\n",
       "      <th>상표</th>\n",
       "      <th>전화번호</th>\n",
       "      <th>셀프여부</th>\n",
       "      <th>고급휘발유</th>\n",
       "      <th>휘발유</th>\n",
       "      <th>경유</th>\n",
       "      <th>실내등유</th>\n",
       "    </tr>\n",
       "  </thead>\n",
       "  <tbody>\n",
       "    <tr>\n",
       "      <th>0</th>\n",
       "      <td>서울특별시</td>\n",
       "      <td>오렌지주유소</td>\n",
       "      <td>서울 강동구 성안로 102 (성내동)</td>\n",
       "      <td>SK에너지</td>\n",
       "      <td>02-484-6165</td>\n",
       "      <td>N</td>\n",
       "      <td>-</td>\n",
       "      <td>1554</td>\n",
       "      <td>1354</td>\n",
       "      <td>997</td>\n",
       "    </tr>\n",
       "    <tr>\n",
       "      <th>1</th>\n",
       "      <td>서울특별시</td>\n",
       "      <td>구천면주유소</td>\n",
       "      <td>서울 강동구 구천면로 357 (암사동)</td>\n",
       "      <td>현대오일뱅크</td>\n",
       "      <td>02-441-0536</td>\n",
       "      <td>N</td>\n",
       "      <td>-</td>\n",
       "      <td>1556</td>\n",
       "      <td>1355</td>\n",
       "      <td>-</td>\n",
       "    </tr>\n",
       "    <tr>\n",
       "      <th>2</th>\n",
       "      <td>서울특별시</td>\n",
       "      <td>GS칼텍스㈜직영 신월주유소</td>\n",
       "      <td>서울 강동구 양재대로 1323 (성내동)</td>\n",
       "      <td>GS칼텍스</td>\n",
       "      <td>02-475-2600</td>\n",
       "      <td>N</td>\n",
       "      <td>1855</td>\n",
       "      <td>1559</td>\n",
       "      <td>1349</td>\n",
       "      <td>1000</td>\n",
       "    </tr>\n",
       "    <tr>\n",
       "      <th>3</th>\n",
       "      <td>서울특별시</td>\n",
       "      <td>광성주유소</td>\n",
       "      <td>서울 강동구 올림픽로 673 (천호동)</td>\n",
       "      <td>S-OIL</td>\n",
       "      <td>02-470-5133</td>\n",
       "      <td>N</td>\n",
       "      <td>-</td>\n",
       "      <td>1578</td>\n",
       "      <td>1388</td>\n",
       "      <td>1100</td>\n",
       "    </tr>\n",
       "    <tr>\n",
       "      <th>4</th>\n",
       "      <td>서울특별시</td>\n",
       "      <td>(주)소모에너지엔테크놀러지성내주유소</td>\n",
       "      <td>서울 강동구 올림픽로 578 (성내동)</td>\n",
       "      <td>GS칼텍스</td>\n",
       "      <td>02-479-3838</td>\n",
       "      <td>Y</td>\n",
       "      <td>-</td>\n",
       "      <td>1588</td>\n",
       "      <td>1388</td>\n",
       "      <td>-</td>\n",
       "    </tr>\n",
       "  </tbody>\n",
       "</table>\n",
       "</div>"
      ],
      "text/plain": [
       "      지역                   상호                      주소      상표         전화번호  \\\n",
       "0  서울특별시               오렌지주유소    서울 강동구 성안로 102 (성내동)   SK에너지  02-484-6165   \n",
       "1  서울특별시               구천면주유소   서울 강동구 구천면로 357 (암사동)  현대오일뱅크  02-441-0536   \n",
       "2  서울특별시       GS칼텍스㈜직영 신월주유소  서울 강동구 양재대로 1323 (성내동)   GS칼텍스  02-475-2600   \n",
       "3  서울특별시                광성주유소   서울 강동구 올림픽로 673 (천호동)   S-OIL  02-470-5133   \n",
       "4  서울특별시  (주)소모에너지엔테크놀러지성내주유소   서울 강동구 올림픽로 578 (성내동)   GS칼텍스  02-479-3838   \n",
       "\n",
       "  셀프여부 고급휘발유   휘발유    경유  실내등유  \n",
       "0    N     -  1554  1354   997  \n",
       "1    N     -  1556  1355     -  \n",
       "2    N  1855  1559  1349  1000  \n",
       "3    N     -  1578  1388  1100  \n",
       "4    Y     -  1588  1388     -  "
      ]
     },
     "execution_count": 41,
     "metadata": {},
     "output_type": "execute_result"
    }
   ],
   "source": [
    "station_raw.head()"
   ]
  },
  {
   "cell_type": "code",
   "execution_count": 42,
   "metadata": {},
   "outputs": [
    {
     "data": {
      "text/html": [
       "<div>\n",
       "<style scoped>\n",
       "    .dataframe tbody tr th:only-of-type {\n",
       "        vertical-align: middle;\n",
       "    }\n",
       "\n",
       "    .dataframe tbody tr th {\n",
       "        vertical-align: top;\n",
       "    }\n",
       "\n",
       "    .dataframe thead th {\n",
       "        text-align: right;\n",
       "    }\n",
       "</style>\n",
       "<table border=\"1\" class=\"dataframe\">\n",
       "  <thead>\n",
       "    <tr style=\"text-align: right;\">\n",
       "      <th></th>\n",
       "      <th>Oil_store</th>\n",
       "      <th>주소</th>\n",
       "      <th>가격</th>\n",
       "      <th>셀프</th>\n",
       "      <th>상표</th>\n",
       "    </tr>\n",
       "  </thead>\n",
       "  <tbody>\n",
       "    <tr>\n",
       "      <th>0</th>\n",
       "      <td>오렌지주유소</td>\n",
       "      <td>서울 강동구 성안로 102 (성내동)</td>\n",
       "      <td>1554</td>\n",
       "      <td>N</td>\n",
       "      <td>SK에너지</td>\n",
       "    </tr>\n",
       "    <tr>\n",
       "      <th>1</th>\n",
       "      <td>구천면주유소</td>\n",
       "      <td>서울 강동구 구천면로 357 (암사동)</td>\n",
       "      <td>1556</td>\n",
       "      <td>N</td>\n",
       "      <td>현대오일뱅크</td>\n",
       "    </tr>\n",
       "    <tr>\n",
       "      <th>2</th>\n",
       "      <td>GS칼텍스㈜직영 신월주유소</td>\n",
       "      <td>서울 강동구 양재대로 1323 (성내동)</td>\n",
       "      <td>1559</td>\n",
       "      <td>N</td>\n",
       "      <td>GS칼텍스</td>\n",
       "    </tr>\n",
       "    <tr>\n",
       "      <th>3</th>\n",
       "      <td>광성주유소</td>\n",
       "      <td>서울 강동구 올림픽로 673 (천호동)</td>\n",
       "      <td>1578</td>\n",
       "      <td>N</td>\n",
       "      <td>S-OIL</td>\n",
       "    </tr>\n",
       "    <tr>\n",
       "      <th>4</th>\n",
       "      <td>(주)소모에너지엔테크놀러지성내주유소</td>\n",
       "      <td>서울 강동구 올림픽로 578 (성내동)</td>\n",
       "      <td>1588</td>\n",
       "      <td>Y</td>\n",
       "      <td>GS칼텍스</td>\n",
       "    </tr>\n",
       "  </tbody>\n",
       "</table>\n",
       "</div>"
      ],
      "text/plain": [
       "             Oil_store                      주소    가격 셀프      상표\n",
       "0               오렌지주유소    서울 강동구 성안로 102 (성내동)  1554  N   SK에너지\n",
       "1               구천면주유소   서울 강동구 구천면로 357 (암사동)  1556  N  현대오일뱅크\n",
       "2       GS칼텍스㈜직영 신월주유소  서울 강동구 양재대로 1323 (성내동)  1559  N   GS칼텍스\n",
       "3                광성주유소   서울 강동구 올림픽로 673 (천호동)  1578  N   S-OIL\n",
       "4  (주)소모에너지엔테크놀러지성내주유소   서울 강동구 올림픽로 578 (성내동)  1588  Y   GS칼텍스"
      ]
     },
     "execution_count": 42,
     "metadata": {},
     "output_type": "execute_result"
    }
   ],
   "source": [
    "stations = pd.DataFrame({'Oil_store':station_raw['상호'], \n",
    "                                       '주소':station_raw['주소'],\n",
    "                                       '가격':station_raw['휘발유'],\n",
    "                                       '셀프':station_raw['셀프여부'],\n",
    "                                       '상표':station_raw['상표']  })\n",
    "stations.head()"
   ]
  },
  {
   "cell_type": "code",
   "execution_count": 43,
   "metadata": {},
   "outputs": [
    {
     "data": {
      "text/html": [
       "<div>\n",
       "<style scoped>\n",
       "    .dataframe tbody tr th:only-of-type {\n",
       "        vertical-align: middle;\n",
       "    }\n",
       "\n",
       "    .dataframe tbody tr th {\n",
       "        vertical-align: top;\n",
       "    }\n",
       "\n",
       "    .dataframe thead th {\n",
       "        text-align: right;\n",
       "    }\n",
       "</style>\n",
       "<table border=\"1\" class=\"dataframe\">\n",
       "  <thead>\n",
       "    <tr style=\"text-align: right;\">\n",
       "      <th></th>\n",
       "      <th>Oil_store</th>\n",
       "      <th>주소</th>\n",
       "      <th>가격</th>\n",
       "      <th>셀프</th>\n",
       "      <th>상표</th>\n",
       "      <th>구</th>\n",
       "    </tr>\n",
       "  </thead>\n",
       "  <tbody>\n",
       "    <tr>\n",
       "      <th>0</th>\n",
       "      <td>오렌지주유소</td>\n",
       "      <td>서울 강동구 성안로 102 (성내동)</td>\n",
       "      <td>1554</td>\n",
       "      <td>N</td>\n",
       "      <td>SK에너지</td>\n",
       "      <td>강동구</td>\n",
       "    </tr>\n",
       "    <tr>\n",
       "      <th>1</th>\n",
       "      <td>구천면주유소</td>\n",
       "      <td>서울 강동구 구천면로 357 (암사동)</td>\n",
       "      <td>1556</td>\n",
       "      <td>N</td>\n",
       "      <td>현대오일뱅크</td>\n",
       "      <td>강동구</td>\n",
       "    </tr>\n",
       "    <tr>\n",
       "      <th>2</th>\n",
       "      <td>GS칼텍스㈜직영 신월주유소</td>\n",
       "      <td>서울 강동구 양재대로 1323 (성내동)</td>\n",
       "      <td>1559</td>\n",
       "      <td>N</td>\n",
       "      <td>GS칼텍스</td>\n",
       "      <td>강동구</td>\n",
       "    </tr>\n",
       "    <tr>\n",
       "      <th>3</th>\n",
       "      <td>광성주유소</td>\n",
       "      <td>서울 강동구 올림픽로 673 (천호동)</td>\n",
       "      <td>1578</td>\n",
       "      <td>N</td>\n",
       "      <td>S-OIL</td>\n",
       "      <td>강동구</td>\n",
       "    </tr>\n",
       "    <tr>\n",
       "      <th>4</th>\n",
       "      <td>(주)소모에너지엔테크놀러지성내주유소</td>\n",
       "      <td>서울 강동구 올림픽로 578 (성내동)</td>\n",
       "      <td>1588</td>\n",
       "      <td>Y</td>\n",
       "      <td>GS칼텍스</td>\n",
       "      <td>강동구</td>\n",
       "    </tr>\n",
       "  </tbody>\n",
       "</table>\n",
       "</div>"
      ],
      "text/plain": [
       "             Oil_store                      주소    가격 셀프      상표    구\n",
       "0               오렌지주유소    서울 강동구 성안로 102 (성내동)  1554  N   SK에너지  강동구\n",
       "1               구천면주유소   서울 강동구 구천면로 357 (암사동)  1556  N  현대오일뱅크  강동구\n",
       "2       GS칼텍스㈜직영 신월주유소  서울 강동구 양재대로 1323 (성내동)  1559  N   GS칼텍스  강동구\n",
       "3                광성주유소   서울 강동구 올림픽로 673 (천호동)  1578  N   S-OIL  강동구\n",
       "4  (주)소모에너지엔테크놀러지성내주유소   서울 강동구 올림픽로 578 (성내동)  1588  Y   GS칼텍스  강동구"
      ]
     },
     "execution_count": 43,
     "metadata": {},
     "output_type": "execute_result"
    }
   ],
   "source": [
    "stations['구'] = [eachAddress.split()[1] for eachAddress in stations['주소']]\n",
    "stations.head()"
   ]
  },
  {
   "cell_type": "code",
   "execution_count": 44,
   "metadata": {},
   "outputs": [
    {
     "data": {
      "text/plain": [
       "array(['강동구', '동대문구', '동작구', '마포구', '서대문구', '서초구', '성동구', '서울특별시', '성북구',\n",
       "       '송파구', '양천구', '영등포구', '강북구', '용산구', '은평구', '종로구', '중구', '중랑구',\n",
       "       '강서구', '관악구', '광진구', '구로구', '금천구', '노원구', '도봉구', '특별시', '강남구'],\n",
       "      dtype=object)"
      ]
     },
     "execution_count": 44,
     "metadata": {},
     "output_type": "execute_result"
    }
   ],
   "source": [
    "stations['구'].unique()"
   ]
  },
  {
   "cell_type": "code",
   "execution_count": 45,
   "metadata": {},
   "outputs": [
    {
     "data": {
      "text/html": [
       "<div>\n",
       "<style scoped>\n",
       "    .dataframe tbody tr th:only-of-type {\n",
       "        vertical-align: middle;\n",
       "    }\n",
       "\n",
       "    .dataframe tbody tr th {\n",
       "        vertical-align: top;\n",
       "    }\n",
       "\n",
       "    .dataframe thead th {\n",
       "        text-align: right;\n",
       "    }\n",
       "</style>\n",
       "<table border=\"1\" class=\"dataframe\">\n",
       "  <thead>\n",
       "    <tr style=\"text-align: right;\">\n",
       "      <th></th>\n",
       "      <th>Oil_store</th>\n",
       "      <th>주소</th>\n",
       "      <th>가격</th>\n",
       "      <th>셀프</th>\n",
       "      <th>상표</th>\n",
       "      <th>구</th>\n",
       "    </tr>\n",
       "  </thead>\n",
       "  <tbody>\n",
       "    <tr>\n",
       "      <th>12</th>\n",
       "      <td>SK네트웍스(주)효진주유소</td>\n",
       "      <td>1 서울특별시 성동구 동일로 129 (성수동2가)</td>\n",
       "      <td>1654</td>\n",
       "      <td>N</td>\n",
       "      <td>SK에너지</td>\n",
       "      <td>서울특별시</td>\n",
       "    </tr>\n",
       "  </tbody>\n",
       "</table>\n",
       "</div>"
      ],
      "text/plain": [
       "         Oil_store                           주소    가격 셀프     상표      구\n",
       "12  SK네트웍스(주)효진주유소  1 서울특별시 성동구 동일로 129 (성수동2가)  1654  N  SK에너지  서울특별시"
      ]
     },
     "execution_count": 45,
     "metadata": {},
     "output_type": "execute_result"
    }
   ],
   "source": [
    "stations[stations['구']=='서울특별시']"
   ]
  },
  {
   "cell_type": "code",
   "execution_count": 46,
   "metadata": {},
   "outputs": [
    {
     "data": {
      "text/plain": [
       "array(['강동구', '동대문구', '동작구', '마포구', '서대문구', '서초구', '성동구', '성북구', '송파구',\n",
       "       '양천구', '영등포구', '강북구', '용산구', '은평구', '종로구', '중구', '중랑구', '강서구',\n",
       "       '관악구', '광진구', '구로구', '금천구', '노원구', '도봉구', '특별시', '강남구'],\n",
       "      dtype=object)"
      ]
     },
     "execution_count": 46,
     "metadata": {},
     "output_type": "execute_result"
    }
   ],
   "source": [
    "stations.loc[stations['구']=='서울특별시', '구'] = '성동구'\n",
    "stations['구'].unique()"
   ]
  },
  {
   "cell_type": "code",
   "execution_count": 47,
   "metadata": {},
   "outputs": [
    {
     "data": {
      "text/html": [
       "<div>\n",
       "<style scoped>\n",
       "    .dataframe tbody tr th:only-of-type {\n",
       "        vertical-align: middle;\n",
       "    }\n",
       "\n",
       "    .dataframe tbody tr th {\n",
       "        vertical-align: top;\n",
       "    }\n",
       "\n",
       "    .dataframe thead th {\n",
       "        text-align: right;\n",
       "    }\n",
       "</style>\n",
       "<table border=\"1\" class=\"dataframe\">\n",
       "  <thead>\n",
       "    <tr style=\"text-align: right;\">\n",
       "      <th></th>\n",
       "      <th>Oil_store</th>\n",
       "      <th>주소</th>\n",
       "      <th>가격</th>\n",
       "      <th>셀프</th>\n",
       "      <th>상표</th>\n",
       "      <th>구</th>\n",
       "    </tr>\n",
       "  </thead>\n",
       "  <tbody>\n",
       "    <tr>\n",
       "      <th>10</th>\n",
       "      <td>서현주유소</td>\n",
       "      <td>서울 특별시 도봉구 방학로 142 (방학동)</td>\n",
       "      <td>1524</td>\n",
       "      <td>Y</td>\n",
       "      <td>S-OIL</td>\n",
       "      <td>특별시</td>\n",
       "    </tr>\n",
       "  </tbody>\n",
       "</table>\n",
       "</div>"
      ],
      "text/plain": [
       "   Oil_store                        주소    가격 셀프     상표    구\n",
       "10     서현주유소  서울 특별시 도봉구 방학로 142 (방학동)  1524  Y  S-OIL  특별시"
      ]
     },
     "execution_count": 47,
     "metadata": {},
     "output_type": "execute_result"
    }
   ],
   "source": [
    "stations[stations['구']=='특별시']"
   ]
  },
  {
   "cell_type": "code",
   "execution_count": 48,
   "metadata": {},
   "outputs": [
    {
     "data": {
      "text/plain": [
       "array(['강동구', '동대문구', '동작구', '마포구', '서대문구', '서초구', '성동구', '성북구', '송파구',\n",
       "       '양천구', '영등포구', '강북구', '용산구', '은평구', '종로구', '중구', '중랑구', '강서구',\n",
       "       '관악구', '광진구', '구로구', '금천구', '노원구', '도봉구', '강남구'], dtype=object)"
      ]
     },
     "execution_count": 48,
     "metadata": {},
     "output_type": "execute_result"
    }
   ],
   "source": [
    "stations.loc[stations['구']=='특별시', '구'] = '도봉구'\n",
    "stations['구'].unique()"
   ]
  },
  {
   "cell_type": "code",
   "execution_count": 49,
   "metadata": {},
   "outputs": [
    {
     "data": {
      "text/html": [
       "<div>\n",
       "<style scoped>\n",
       "    .dataframe tbody tr th:only-of-type {\n",
       "        vertical-align: middle;\n",
       "    }\n",
       "\n",
       "    .dataframe tbody tr th {\n",
       "        vertical-align: top;\n",
       "    }\n",
       "\n",
       "    .dataframe thead th {\n",
       "        text-align: right;\n",
       "    }\n",
       "</style>\n",
       "<table border=\"1\" class=\"dataframe\">\n",
       "  <thead>\n",
       "    <tr style=\"text-align: right;\">\n",
       "      <th></th>\n",
       "      <th>Oil_store</th>\n",
       "      <th>주소</th>\n",
       "      <th>가격</th>\n",
       "      <th>셀프</th>\n",
       "      <th>상표</th>\n",
       "      <th>구</th>\n",
       "    </tr>\n",
       "  </thead>\n",
       "  <tbody>\n",
       "    <tr>\n",
       "      <th>18</th>\n",
       "      <td>명진석유(주)동서울주유소</td>\n",
       "      <td>서울특별시 강동구  천호대로 1456 (상일동)</td>\n",
       "      <td>-</td>\n",
       "      <td>Y</td>\n",
       "      <td>GS칼텍스</td>\n",
       "      <td>강동구</td>\n",
       "    </tr>\n",
       "    <tr>\n",
       "      <th>33</th>\n",
       "      <td>하나주유소</td>\n",
       "      <td>서울특별시 영등포구  도림로 236 (신길동)</td>\n",
       "      <td>-</td>\n",
       "      <td>N</td>\n",
       "      <td>S-OIL</td>\n",
       "      <td>영등포구</td>\n",
       "    </tr>\n",
       "    <tr>\n",
       "      <th>12</th>\n",
       "      <td>(주)에이앤이청담주유소</td>\n",
       "      <td>서울특별시 강북구 도봉로 155  (미아동)</td>\n",
       "      <td>-</td>\n",
       "      <td>Y</td>\n",
       "      <td>SK에너지</td>\n",
       "      <td>강북구</td>\n",
       "    </tr>\n",
       "    <tr>\n",
       "      <th>13</th>\n",
       "      <td>송정주유소</td>\n",
       "      <td>서울특별시 강북구 인수봉로 185 (수유동)</td>\n",
       "      <td>-</td>\n",
       "      <td>N</td>\n",
       "      <td>자가상표</td>\n",
       "      <td>강북구</td>\n",
       "    </tr>\n",
       "  </tbody>\n",
       "</table>\n",
       "</div>"
      ],
      "text/plain": [
       "        Oil_store                          주소 가격 셀프     상표     구\n",
       "18  명진석유(주)동서울주유소  서울특별시 강동구  천호대로 1456 (상일동)  -  Y  GS칼텍스   강동구\n",
       "33          하나주유소   서울특별시 영등포구  도림로 236 (신길동)  -  N  S-OIL  영등포구\n",
       "12   (주)에이앤이청담주유소    서울특별시 강북구 도봉로 155  (미아동)  -  Y  SK에너지   강북구\n",
       "13          송정주유소    서울특별시 강북구 인수봉로 185 (수유동)  -  N   자가상표   강북구"
      ]
     },
     "execution_count": 49,
     "metadata": {},
     "output_type": "execute_result"
    }
   ],
   "source": [
    "stations[stations['가격']=='-']"
   ]
  },
  {
   "cell_type": "code",
   "execution_count": 50,
   "metadata": {},
   "outputs": [
    {
     "data": {
      "text/html": [
       "<div>\n",
       "<style scoped>\n",
       "    .dataframe tbody tr th:only-of-type {\n",
       "        vertical-align: middle;\n",
       "    }\n",
       "\n",
       "    .dataframe tbody tr th {\n",
       "        vertical-align: top;\n",
       "    }\n",
       "\n",
       "    .dataframe thead th {\n",
       "        text-align: right;\n",
       "    }\n",
       "</style>\n",
       "<table border=\"1\" class=\"dataframe\">\n",
       "  <thead>\n",
       "    <tr style=\"text-align: right;\">\n",
       "      <th></th>\n",
       "      <th>Oil_store</th>\n",
       "      <th>주소</th>\n",
       "      <th>가격</th>\n",
       "      <th>셀프</th>\n",
       "      <th>상표</th>\n",
       "      <th>구</th>\n",
       "    </tr>\n",
       "  </thead>\n",
       "  <tbody>\n",
       "    <tr>\n",
       "      <th>0</th>\n",
       "      <td>오렌지주유소</td>\n",
       "      <td>서울 강동구 성안로 102 (성내동)</td>\n",
       "      <td>1554</td>\n",
       "      <td>N</td>\n",
       "      <td>SK에너지</td>\n",
       "      <td>강동구</td>\n",
       "    </tr>\n",
       "    <tr>\n",
       "      <th>1</th>\n",
       "      <td>구천면주유소</td>\n",
       "      <td>서울 강동구 구천면로 357 (암사동)</td>\n",
       "      <td>1556</td>\n",
       "      <td>N</td>\n",
       "      <td>현대오일뱅크</td>\n",
       "      <td>강동구</td>\n",
       "    </tr>\n",
       "    <tr>\n",
       "      <th>2</th>\n",
       "      <td>GS칼텍스㈜직영 신월주유소</td>\n",
       "      <td>서울 강동구 양재대로 1323 (성내동)</td>\n",
       "      <td>1559</td>\n",
       "      <td>N</td>\n",
       "      <td>GS칼텍스</td>\n",
       "      <td>강동구</td>\n",
       "    </tr>\n",
       "    <tr>\n",
       "      <th>3</th>\n",
       "      <td>광성주유소</td>\n",
       "      <td>서울 강동구 올림픽로 673 (천호동)</td>\n",
       "      <td>1578</td>\n",
       "      <td>N</td>\n",
       "      <td>S-OIL</td>\n",
       "      <td>강동구</td>\n",
       "    </tr>\n",
       "    <tr>\n",
       "      <th>4</th>\n",
       "      <td>(주)소모에너지엔테크놀러지성내주유소</td>\n",
       "      <td>서울 강동구 올림픽로 578 (성내동)</td>\n",
       "      <td>1588</td>\n",
       "      <td>Y</td>\n",
       "      <td>GS칼텍스</td>\n",
       "      <td>강동구</td>\n",
       "    </tr>\n",
       "  </tbody>\n",
       "</table>\n",
       "</div>"
      ],
      "text/plain": [
       "             Oil_store                      주소    가격 셀프      상표    구\n",
       "0               오렌지주유소    서울 강동구 성안로 102 (성내동)  1554  N   SK에너지  강동구\n",
       "1               구천면주유소   서울 강동구 구천면로 357 (암사동)  1556  N  현대오일뱅크  강동구\n",
       "2       GS칼텍스㈜직영 신월주유소  서울 강동구 양재대로 1323 (성내동)  1559  N   GS칼텍스  강동구\n",
       "3                광성주유소   서울 강동구 올림픽로 673 (천호동)  1578  N   S-OIL  강동구\n",
       "4  (주)소모에너지엔테크놀러지성내주유소   서울 강동구 올림픽로 578 (성내동)  1588  Y   GS칼텍스  강동구"
      ]
     },
     "execution_count": 50,
     "metadata": {},
     "output_type": "execute_result"
    }
   ],
   "source": [
    "stations = stations[stations['가격'] != '-']\n",
    "stations.head()"
   ]
  },
  {
   "cell_type": "code",
   "execution_count": 51,
   "metadata": {},
   "outputs": [],
   "source": [
    "stations['가격'] = [float(value) for value in stations['가격']]"
   ]
  },
  {
   "cell_type": "code",
   "execution_count": 52,
   "metadata": {},
   "outputs": [],
   "source": [
    "stations.reset_index(inplace=True)\n",
    "del stations['index']"
   ]
  },
  {
   "cell_type": "code",
   "execution_count": 53,
   "metadata": {},
   "outputs": [
    {
     "name": "stdout",
     "output_type": "stream",
     "text": [
      "<class 'pandas.core.frame.DataFrame'>\n",
      "RangeIndex: 533 entries, 0 to 532\n",
      "Data columns (total 6 columns):\n",
      " #   Column     Non-Null Count  Dtype  \n",
      "---  ------     --------------  -----  \n",
      " 0   Oil_store  533 non-null    object \n",
      " 1   주소         533 non-null    object \n",
      " 2   가격         533 non-null    float64\n",
      " 3   셀프         533 non-null    object \n",
      " 4   상표         533 non-null    object \n",
      " 5   구          533 non-null    object \n",
      "dtypes: float64(1), object(5)\n",
      "memory usage: 25.1+ KB\n"
     ]
    }
   ],
   "source": [
    "stations.info()"
   ]
  },
  {
   "cell_type": "code",
   "execution_count": 54,
   "metadata": {},
   "outputs": [
    {
     "data": {
      "text/html": [
       "<div>\n",
       "<style scoped>\n",
       "    .dataframe tbody tr th:only-of-type {\n",
       "        vertical-align: middle;\n",
       "    }\n",
       "\n",
       "    .dataframe tbody tr th {\n",
       "        vertical-align: top;\n",
       "    }\n",
       "\n",
       "    .dataframe thead th {\n",
       "        text-align: right;\n",
       "    }\n",
       "</style>\n",
       "<table border=\"1\" class=\"dataframe\">\n",
       "  <thead>\n",
       "    <tr style=\"text-align: right;\">\n",
       "      <th></th>\n",
       "      <th>Oil_store</th>\n",
       "      <th>주소</th>\n",
       "      <th>가격</th>\n",
       "      <th>셀프</th>\n",
       "      <th>상표</th>\n",
       "      <th>구</th>\n",
       "    </tr>\n",
       "  </thead>\n",
       "  <tbody>\n",
       "    <tr>\n",
       "      <th>0</th>\n",
       "      <td>오렌지주유소</td>\n",
       "      <td>서울 강동구 성안로 102 (성내동)</td>\n",
       "      <td>1554.0</td>\n",
       "      <td>N</td>\n",
       "      <td>SK에너지</td>\n",
       "      <td>강동구</td>\n",
       "    </tr>\n",
       "    <tr>\n",
       "      <th>1</th>\n",
       "      <td>구천면주유소</td>\n",
       "      <td>서울 강동구 구천면로 357 (암사동)</td>\n",
       "      <td>1556.0</td>\n",
       "      <td>N</td>\n",
       "      <td>현대오일뱅크</td>\n",
       "      <td>강동구</td>\n",
       "    </tr>\n",
       "    <tr>\n",
       "      <th>2</th>\n",
       "      <td>GS칼텍스㈜직영 신월주유소</td>\n",
       "      <td>서울 강동구 양재대로 1323 (성내동)</td>\n",
       "      <td>1559.0</td>\n",
       "      <td>N</td>\n",
       "      <td>GS칼텍스</td>\n",
       "      <td>강동구</td>\n",
       "    </tr>\n",
       "    <tr>\n",
       "      <th>3</th>\n",
       "      <td>광성주유소</td>\n",
       "      <td>서울 강동구 올림픽로 673 (천호동)</td>\n",
       "      <td>1578.0</td>\n",
       "      <td>N</td>\n",
       "      <td>S-OIL</td>\n",
       "      <td>강동구</td>\n",
       "    </tr>\n",
       "    <tr>\n",
       "      <th>4</th>\n",
       "      <td>(주)소모에너지엔테크놀러지성내주유소</td>\n",
       "      <td>서울 강동구 올림픽로 578 (성내동)</td>\n",
       "      <td>1588.0</td>\n",
       "      <td>Y</td>\n",
       "      <td>GS칼텍스</td>\n",
       "      <td>강동구</td>\n",
       "    </tr>\n",
       "  </tbody>\n",
       "</table>\n",
       "</div>"
      ],
      "text/plain": [
       "             Oil_store                      주소      가격 셀프      상표    구\n",
       "0               오렌지주유소    서울 강동구 성안로 102 (성내동)  1554.0  N   SK에너지  강동구\n",
       "1               구천면주유소   서울 강동구 구천면로 357 (암사동)  1556.0  N  현대오일뱅크  강동구\n",
       "2       GS칼텍스㈜직영 신월주유소  서울 강동구 양재대로 1323 (성내동)  1559.0  N   GS칼텍스  강동구\n",
       "3                광성주유소   서울 강동구 올림픽로 673 (천호동)  1578.0  N   S-OIL  강동구\n",
       "4  (주)소모에너지엔테크놀러지성내주유소   서울 강동구 올림픽로 578 (성내동)  1588.0  Y   GS칼텍스  강동구"
      ]
     },
     "execution_count": 54,
     "metadata": {},
     "output_type": "execute_result"
    }
   ],
   "source": [
    "stations.head()"
   ]
  },
  {
   "cell_type": "markdown",
   "metadata": {
    "collapsed": true
   },
   "source": [
    "## 4-4 셀프 주유소는 정말 저렴한지 boxplot으로 확인하기"
   ]
  },
  {
   "cell_type": "code",
   "execution_count": 55,
   "metadata": {},
   "outputs": [],
   "source": [
    "import matplotlib.pyplot as plt\n",
    "import seaborn as sns\n",
    "%matplotlib inline\n",
    "\n",
    "import platform\n",
    "\n",
    "path = \"c:/Windows/Fonts/malgun.ttf\"\n",
    "from matplotlib import font_manager, rc\n",
    "if platform.system() == 'Darwin':\n",
    "    rc('font', family='AppleGothic')\n",
    "elif platform.system() == 'Windows':\n",
    "    font_name = font_manager.FontProperties(fname=path).get_name()\n",
    "    rc('font', family=font_name)\n",
    "else:\n",
    "    print('Unknown system... sorry~~~~') "
   ]
  },
  {
   "cell_type": "code",
   "execution_count": 56,
   "metadata": {},
   "outputs": [
    {
     "data": {
      "image/png": "[encoded data removed]",
      "text/plain": [
       "<Figure size 864x576 with 1 Axes>"
      ]
     },
     "metadata": {
      "needs_background": "light"
     },
     "output_type": "display_data"
    }
   ],
   "source": [
    "stations.boxplot(column='가격', by='셀프', figsize=(12,8));"
   ]
  },
  {
   "cell_type": "code",
   "execution_count": 57,
   "metadata": {},
   "outputs": [
    {
     "data": {
      "image/png": "[encoded data removed]",
      "text/plain": [
       "<Figure size 864x576 with 1 Axes>"
      ]
     },
     "metadata": {
      "needs_background": "light"
     },
     "output_type": "display_data"
    }
   ],
   "source": [
    "plt.figure(figsize=(12,8))\n",
    "sns.boxplot(x=\"상표\", y=\"가격\", hue=\"셀프\", data=stations, palette=\"Set3\")\n",
    "plt.show()"
   ]
  },
  {
   "cell_type": "code",
   "execution_count": 58,
   "metadata": {},
   "outputs": [
    {
     "name": "stderr",
     "output_type": "stream",
     "text": [
      "C:\\Users\\user\\anaconda3\\lib\\site-packages\\seaborn\\categorical.py:1296: UserWarning: 5.6% of the points cannot be placed; you may want to decrease the size of the markers or use stripplot.\n",
      "  warnings.warn(msg, UserWarning)\n",
      "C:\\Users\\user\\anaconda3\\lib\\site-packages\\seaborn\\categorical.py:1296: UserWarning: 5.5% of the points cannot be placed; you may want to decrease the size of the markers or use stripplot.\n",
      "  warnings.warn(msg, UserWarning)\n"
     ]
    },
    {
     "data": {
      "image/png": "[encoded data removed]",
      "text/plain": [
       "<Figure size 864x576 with 1 Axes>"
      ]
     },
     "metadata": {
      "needs_background": "light"
     },
     "output_type": "display_data"
    }
   ],
   "source": [
    "plt.figure(figsize=(12,8))\n",
    "sns.boxplot(x=\"상표\", y=\"가격\", data=stations, palette=\"Set3\")\n",
    "sns.swarmplot(x=\"상표\", y=\"가격\", data=stations, color=\".6\")\n",
    "plt.show()"
   ]
  },
  {
   "cell_type": "markdown",
   "metadata": {
    "collapsed": true
   },
   "source": [
    "## 4-5 서울시 구별 주유 가격 확인하기"
   ]
  },
  {
   "cell_type": "code",
   "execution_count": 59,
   "metadata": {},
   "outputs": [],
   "source": [
    "import json\n",
    "import folium\n",
    "import googlemaps\n",
    "import warnings\n",
    "warnings.simplefilter(action = \"ignore\", category = FutureWarning)"
   ]
  },
  {
   "cell_type": "code",
   "execution_count": 60,
   "metadata": {},
   "outputs": [
    {
     "data": {
      "text/html": [
       "<div>\n",
       "<style scoped>\n",
       "    .dataframe tbody tr th:only-of-type {\n",
       "        vertical-align: middle;\n",
       "    }\n",
       "\n",
       "    .dataframe tbody tr th {\n",
       "        vertical-align: top;\n",
       "    }\n",
       "\n",
       "    .dataframe thead th {\n",
       "        text-align: right;\n",
       "    }\n",
       "</style>\n",
       "<table border=\"1\" class=\"dataframe\">\n",
       "  <thead>\n",
       "    <tr style=\"text-align: right;\">\n",
       "      <th></th>\n",
       "      <th>Oil_store</th>\n",
       "      <th>주소</th>\n",
       "      <th>가격</th>\n",
       "      <th>셀프</th>\n",
       "      <th>상표</th>\n",
       "      <th>구</th>\n",
       "    </tr>\n",
       "  </thead>\n",
       "  <tbody>\n",
       "    <tr>\n",
       "      <th>325</th>\n",
       "      <td>서남주유소</td>\n",
       "      <td>서울 중구 통일로 30 (봉래동1가)</td>\n",
       "      <td>2132.0</td>\n",
       "      <td>N</td>\n",
       "      <td>SK에너지</td>\n",
       "      <td>중구</td>\n",
       "    </tr>\n",
       "    <tr>\n",
       "      <th>324</th>\n",
       "      <td>장충주유소</td>\n",
       "      <td>서울 중구 장충단로 202 (장충동1가)</td>\n",
       "      <td>2130.0</td>\n",
       "      <td>N</td>\n",
       "      <td>SK에너지</td>\n",
       "      <td>중구</td>\n",
       "    </tr>\n",
       "    <tr>\n",
       "      <th>124</th>\n",
       "      <td>양재주유소</td>\n",
       "      <td>서울 서초구 바우뫼로 178 (양재동)</td>\n",
       "      <td>2128.0</td>\n",
       "      <td>N</td>\n",
       "      <td>SK에너지</td>\n",
       "      <td>서초구</td>\n",
       "    </tr>\n",
       "    <tr>\n",
       "      <th>532</th>\n",
       "      <td>뉴서울(강남)</td>\n",
       "      <td>서울 강남구 언주로 716 (논현동)</td>\n",
       "      <td>2120.0</td>\n",
       "      <td>N</td>\n",
       "      <td>SK에너지</td>\n",
       "      <td>강남구</td>\n",
       "    </tr>\n",
       "    <tr>\n",
       "      <th>531</th>\n",
       "      <td>오천주유소</td>\n",
       "      <td>서울 강남구 봉은사로 503 (삼성동)</td>\n",
       "      <td>2107.0</td>\n",
       "      <td>N</td>\n",
       "      <td>SK에너지</td>\n",
       "      <td>강남구</td>\n",
       "    </tr>\n",
       "    <tr>\n",
       "      <th>313</th>\n",
       "      <td>재동주유소</td>\n",
       "      <td>서울특별시 종로구  율곡로 58 (경운동)</td>\n",
       "      <td>2106.0</td>\n",
       "      <td>N</td>\n",
       "      <td>SK에너지</td>\n",
       "      <td>종로구</td>\n",
       "    </tr>\n",
       "    <tr>\n",
       "      <th>285</th>\n",
       "      <td>청파주유소</td>\n",
       "      <td>서울특별시 용산구  청파로 311 (청파동1가)</td>\n",
       "      <td>2106.0</td>\n",
       "      <td>N</td>\n",
       "      <td>SK에너지</td>\n",
       "      <td>용산구</td>\n",
       "    </tr>\n",
       "    <tr>\n",
       "      <th>284</th>\n",
       "      <td>갈월동주유소</td>\n",
       "      <td>서울특별시 용산구  한강대로 322 (갈월동)</td>\n",
       "      <td>2106.0</td>\n",
       "      <td>N</td>\n",
       "      <td>SK에너지</td>\n",
       "      <td>용산구</td>\n",
       "    </tr>\n",
       "    <tr>\n",
       "      <th>283</th>\n",
       "      <td>강변주유소</td>\n",
       "      <td>서울특별시 용산구  원효로 9 (청암동)</td>\n",
       "      <td>2106.0</td>\n",
       "      <td>N</td>\n",
       "      <td>SK에너지</td>\n",
       "      <td>용산구</td>\n",
       "    </tr>\n",
       "    <tr>\n",
       "      <th>323</th>\n",
       "      <td>통일주유소</td>\n",
       "      <td>서울 중구 동호로 296 (장충동2가)</td>\n",
       "      <td>2106.0</td>\n",
       "      <td>N</td>\n",
       "      <td>SK에너지</td>\n",
       "      <td>중구</td>\n",
       "    </tr>\n",
       "  </tbody>\n",
       "</table>\n",
       "</div>"
      ],
      "text/plain": [
       "    Oil_store                          주소      가격 셀프     상표    구\n",
       "325     서남주유소        서울 중구 통일로 30 (봉래동1가)  2132.0  N  SK에너지   중구\n",
       "324     장충주유소      서울 중구 장충단로 202 (장충동1가)  2130.0  N  SK에너지   중구\n",
       "124     양재주유소       서울 서초구 바우뫼로 178 (양재동)  2128.0  N  SK에너지  서초구\n",
       "532   뉴서울(강남)        서울 강남구 언주로 716 (논현동)  2120.0  N  SK에너지  강남구\n",
       "531     오천주유소       서울 강남구 봉은사로 503 (삼성동)  2107.0  N  SK에너지  강남구\n",
       "313     재동주유소     서울특별시 종로구  율곡로 58 (경운동)  2106.0  N  SK에너지  종로구\n",
       "285     청파주유소  서울특별시 용산구  청파로 311 (청파동1가)  2106.0  N  SK에너지  용산구\n",
       "284    갈월동주유소   서울특별시 용산구  한강대로 322 (갈월동)  2106.0  N  SK에너지  용산구\n",
       "283     강변주유소      서울특별시 용산구  원효로 9 (청암동)  2106.0  N  SK에너지  용산구\n",
       "323     통일주유소       서울 중구 동호로 296 (장충동2가)  2106.0  N  SK에너지   중구"
      ]
     },
     "execution_count": 60,
     "metadata": {},
     "output_type": "execute_result"
    }
   ],
   "source": [
    "stations.sort_values(by='가격', ascending=False).head(10)"
   ]
  },
  {
   "cell_type": "code",
   "execution_count": 61,
   "metadata": {},
   "outputs": [
    {
     "data": {
      "text/html": [
       "<div>\n",
       "<style scoped>\n",
       "    .dataframe tbody tr th:only-of-type {\n",
       "        vertical-align: middle;\n",
       "    }\n",
       "\n",
       "    .dataframe tbody tr th {\n",
       "        vertical-align: top;\n",
       "    }\n",
       "\n",
       "    .dataframe thead th {\n",
       "        text-align: right;\n",
       "    }\n",
       "</style>\n",
       "<table border=\"1\" class=\"dataframe\">\n",
       "  <thead>\n",
       "    <tr style=\"text-align: right;\">\n",
       "      <th></th>\n",
       "      <th>Oil_store</th>\n",
       "      <th>주소</th>\n",
       "      <th>가격</th>\n",
       "      <th>셀프</th>\n",
       "      <th>상표</th>\n",
       "      <th>구</th>\n",
       "    </tr>\n",
       "  </thead>\n",
       "  <tbody>\n",
       "    <tr>\n",
       "      <th>83</th>\n",
       "      <td>만남의광장주유소</td>\n",
       "      <td>서울 서초구 양재대로12길 73-71 (원지동)</td>\n",
       "      <td>1490.0</td>\n",
       "      <td>N</td>\n",
       "      <td>알뜰(ex)</td>\n",
       "      <td>서초구</td>\n",
       "    </tr>\n",
       "    <tr>\n",
       "      <th>344</th>\n",
       "      <td>강서오곡셀프주유소</td>\n",
       "      <td>서울특별시 강서구 벌말로 254 (오곡동)</td>\n",
       "      <td>1497.0</td>\n",
       "      <td>Y</td>\n",
       "      <td>SK에너지</td>\n",
       "      <td>강서구</td>\n",
       "    </tr>\n",
       "    <tr>\n",
       "      <th>451</th>\n",
       "      <td>태릉솔밭주유소</td>\n",
       "      <td>서울특별시 노원구 노원로 49 (공릉동)</td>\n",
       "      <td>1497.0</td>\n",
       "      <td>Y</td>\n",
       "      <td>S-OIL</td>\n",
       "      <td>노원구</td>\n",
       "    </tr>\n",
       "    <tr>\n",
       "      <th>258</th>\n",
       "      <td>수유동주유소</td>\n",
       "      <td>서울특별시 강북구  도봉로 395 (수유동)</td>\n",
       "      <td>1498.0</td>\n",
       "      <td>Y</td>\n",
       "      <td>GS칼텍스</td>\n",
       "      <td>강북구</td>\n",
       "    </tr>\n",
       "    <tr>\n",
       "      <th>227</th>\n",
       "      <td>(주)강서오일</td>\n",
       "      <td>서울 영등포구 도신로 151 (도림동)</td>\n",
       "      <td>1499.0</td>\n",
       "      <td>N</td>\n",
       "      <td>현대오일뱅크</td>\n",
       "      <td>영등포구</td>\n",
       "    </tr>\n",
       "    <tr>\n",
       "      <th>225</th>\n",
       "      <td>도림주유소</td>\n",
       "      <td>서울 영등포구 도림로 343 (도림동)</td>\n",
       "      <td>1499.0</td>\n",
       "      <td>Y</td>\n",
       "      <td>알뜰주유소</td>\n",
       "      <td>영등포구</td>\n",
       "    </tr>\n",
       "    <tr>\n",
       "      <th>226</th>\n",
       "      <td>(주)대청에너지 대청주유소</td>\n",
       "      <td>서울 영등포구 가마산로 328 (대림동)</td>\n",
       "      <td>1499.0</td>\n",
       "      <td>N</td>\n",
       "      <td>GS칼텍스</td>\n",
       "      <td>영등포구</td>\n",
       "    </tr>\n",
       "    <tr>\n",
       "      <th>415</th>\n",
       "      <td>풀페이주유소</td>\n",
       "      <td>서울특별시 구로구 경인로 41 (온수동)</td>\n",
       "      <td>1499.0</td>\n",
       "      <td>N</td>\n",
       "      <td>SK에너지</td>\n",
       "      <td>구로구</td>\n",
       "    </tr>\n",
       "    <tr>\n",
       "      <th>326</th>\n",
       "      <td>신일셀프주유소</td>\n",
       "      <td>서울 중랑구 상봉로 58 (망우동)</td>\n",
       "      <td>1499.0</td>\n",
       "      <td>Y</td>\n",
       "      <td>SK에너지</td>\n",
       "      <td>중랑구</td>\n",
       "    </tr>\n",
       "    <tr>\n",
       "      <th>40</th>\n",
       "      <td>서경주유소</td>\n",
       "      <td>서울 동작구 대림로 46 (신대방동)</td>\n",
       "      <td>1499.0</td>\n",
       "      <td>N</td>\n",
       "      <td>현대오일뱅크</td>\n",
       "      <td>동작구</td>\n",
       "    </tr>\n",
       "  </tbody>\n",
       "</table>\n",
       "</div>"
      ],
      "text/plain": [
       "          Oil_store                          주소      가격 셀프      상표     구\n",
       "83         만남의광장주유소  서울 서초구 양재대로12길 73-71 (원지동)  1490.0  N  알뜰(ex)   서초구\n",
       "344       강서오곡셀프주유소     서울특별시 강서구 벌말로 254 (오곡동)  1497.0  Y   SK에너지   강서구\n",
       "451         태릉솔밭주유소      서울특별시 노원구 노원로 49 (공릉동)  1497.0  Y   S-OIL   노원구\n",
       "258          수유동주유소    서울특별시 강북구  도봉로 395 (수유동)  1498.0  Y   GS칼텍스   강북구\n",
       "227         (주)강서오일       서울 영등포구 도신로 151 (도림동)  1499.0  N  현대오일뱅크  영등포구\n",
       "225           도림주유소       서울 영등포구 도림로 343 (도림동)  1499.0  Y   알뜰주유소  영등포구\n",
       "226  (주)대청에너지 대청주유소      서울 영등포구 가마산로 328 (대림동)  1499.0  N   GS칼텍스  영등포구\n",
       "415          풀페이주유소      서울특별시 구로구 경인로 41 (온수동)  1499.0  N   SK에너지   구로구\n",
       "326         신일셀프주유소         서울 중랑구 상봉로 58 (망우동)  1499.0  Y   SK에너지   중랑구\n",
       "40            서경주유소        서울 동작구 대림로 46 (신대방동)  1499.0  N  현대오일뱅크   동작구"
      ]
     },
     "execution_count": 61,
     "metadata": {},
     "output_type": "execute_result"
    }
   ],
   "source": [
    "stations.sort_values(by='가격', ascending=True).head(10)"
   ]
  },
  {
   "cell_type": "code",
   "execution_count": 62,
   "metadata": {},
   "outputs": [
    {
     "data": {
      "text/html": [
       "<div>\n",
       "<style scoped>\n",
       "    .dataframe tbody tr th:only-of-type {\n",
       "        vertical-align: middle;\n",
       "    }\n",
       "\n",
       "    .dataframe tbody tr th {\n",
       "        vertical-align: top;\n",
       "    }\n",
       "\n",
       "    .dataframe thead th {\n",
       "        text-align: right;\n",
       "    }\n",
       "</style>\n",
       "<table border=\"1\" class=\"dataframe\">\n",
       "  <thead>\n",
       "    <tr style=\"text-align: right;\">\n",
       "      <th></th>\n",
       "      <th>가격</th>\n",
       "    </tr>\n",
       "    <tr>\n",
       "      <th>구</th>\n",
       "      <th></th>\n",
       "    </tr>\n",
       "  </thead>\n",
       "  <tbody>\n",
       "    <tr>\n",
       "      <th>강남구</th>\n",
       "      <td>1791.000000</td>\n",
       "    </tr>\n",
       "    <tr>\n",
       "      <th>강동구</th>\n",
       "      <td>1656.722222</td>\n",
       "    </tr>\n",
       "    <tr>\n",
       "      <th>강북구</th>\n",
       "      <td>1534.333333</td>\n",
       "    </tr>\n",
       "    <tr>\n",
       "      <th>강서구</th>\n",
       "      <td>1576.428571</td>\n",
       "    </tr>\n",
       "    <tr>\n",
       "      <th>관악구</th>\n",
       "      <td>1603.055556</td>\n",
       "    </tr>\n",
       "  </tbody>\n",
       "</table>\n",
       "</div>"
      ],
      "text/plain": [
       "              가격\n",
       "구               \n",
       "강남구  1791.000000\n",
       "강동구  1656.722222\n",
       "강북구  1534.333333\n",
       "강서구  1576.428571\n",
       "관악구  1603.055556"
      ]
     },
     "execution_count": 62,
     "metadata": {},
     "output_type": "execute_result"
    }
   ],
   "source": [
    "import numpy as np\n",
    "\n",
    "gu_data = pd.pivot_table(stations, index=[\"구\"], values=[\"가격\"], \n",
    "                         aggfunc=np.mean)\n",
    "gu_data.head()"
   ]
  },
  {
   "cell_type": "code",
   "execution_count": 63,
   "metadata": {},
   "outputs": [
    {
     "data": {
      "text/html": [
       "<div style=\"width:100%;\"><div style=\"position:relative;width:100%;height:0;padding-bottom:60%;\"><span style=\"color:#565656\">Make this Notebook Trusted to load map: File -> Trust Notebook</span><iframe src=\"about:blank\" style=\"position:absolute;width:100%;height:100%;left:0;top:0;border:none !important;\" data-html=%3C%21DOCTYPE%20html%3E%0A%3Chead%3E%20%20%20%20%0A%20%20%20%20%3Cmeta%20http-equiv%3D%22content-type%22%20content%3D%22text/html%3B%20charset%3DUTF-8%22%20/%3E%0A%20%20%20%20%0A%20%20%20%20%20%20%20%20%3Cscript%3E%0A%20%20%20%20%20%20%20%20%20%20%20%20L_NO_TOUCH%20%3D%20false%3B%0A%20%20%20%20%20%20%20%20%20%20%20%20L_DISABLE_3D%20%3D%20false%3B%0A%20%20%20%20%20%20%20%20%3C/script%3E%0A%20%20%20%20%0A%20%20%20%20%3Cstyle%3Ehtml%2C%20body%20%7Bwidth%3A%20100%25%3Bheight%3A%20100%25%3Bmargin%3A%200%3Bpadding%3A%200%3B%7D%3C/style%3E%0A%20%20%20%20%3Cstyle%3E%23map%20%7Bposition%3Aabsolute%3Btop%3A0%3Bbottom%3A0%3Bright%3A0%3Bleft%3A0%3B%7D%3C/style%3E%0A%20%20%20%20%3Cscript%20src%3D%22https%3A//cdn.jsdelivr.net/npm/leaflet%401.6.0/dist/leaflet.js%22%3E%3C/script%3E%0A%20%20%20%20%3Cscript%20src%3D%22https%3A//code.jquery.com/jquery-1.12.4.min.js%22%3E%3C/script%3E%0A%20%20%20%20%3Cscript%20src%3D%22https%3A//maxcdn.bootstrapcdn.com/bootstrap/3.2.0/js/bootstrap.min.js%22%3E%3C/script%3E%0A%20%20%20%20%3Cscript%20src%3D%22https%3A//cdnjs.cloudflare.com/ajax/libs/Leaflet.awesome-markers/2.0.2/leaflet.awesome-markers.js%22%3E%3C/script%3E%0A%20%20%20%20%3Clink%20rel%3D%22stylesheet%22%20href%3D%22https%3A//cdn.jsdelivr.net/npm/leaflet%401.6.0/dist/leaflet.css%22/%3E%0A%20%20%20%20%3Clink%20rel%3D%22stylesheet%22%20href%3D%22https%3A//maxcdn.bootstrapcdn.com/bootstrap/3.2.0/css/bootstrap.min.css%22/%3E%0A%20%20%20%20%3Clink%20rel%3D%22stylesheet%22%20href%3D%22https%3A//maxcdn.bootstrapcdn.com/bootstrap/3.2.0/css/bootstrap-theme.min.css%22/%3E%0A%20%20%20%20%3Clink%20rel%3D%22stylesheet%22%20href%3D%22https%3A//maxcdn.bootstrapcdn.com/font-awesome/4.6.3/css/font-awesome.min.css%22/%3E%0A%20%20%20%20%3Clink%20rel%3D%22stylesheet%22%20href%3D%22https%3A//cdnjs.cloudflare.com/ajax/libs/Leaflet.awesome-markers/2.0.2/leaflet.awesome-markers.css%22/%3E%0A%20%20%20%20%3Clink%20rel%3D%22stylesheet%22%20href%3D%22https%3A//cdn.jsdelivr.net/gh/python-visualization/folium/folium/templates/leaflet.awesome.rotate.min.css%22/%3E%0A%20%20%20%20%0A%20%20%20%20%20%20%20%20%20%20%20%20%3Cmeta%20name%3D%22viewport%22%20content%3D%22width%3Ddevice-width%2C%0A%20%20%20%20%20%20%20%20%20%20%20%20%20%20%20%20initial-scale%3D1.0%2C%20maximum-scale%3D1.0%2C%20user-scalable%3Dno%22%20/%3E%0A%20%20%20%20%20%20%20%20%20%20%20%20%3Cstyle%3E%0A%20%20%20%20%20%20%20%20%20%20%20%20%20%20%20%20%23map_c85ffe5c82a043eda3758bc4be708029%20%7B%0A%20%20%20%20%20%20%20%20%20%20%20%20%20%20%20%20%20%20%20%20position%3A%20relative%3B%0A%20%20%20%20%20%20%20%20%20%20%20%20%20%20%20%20%20%20%20%20width%3A%20100.0%25%3B%0A%20%20%20%20%20%20%20%20%20%20%20%20%20%20%20%20%20%20%20%20height%3A%20100.0%25%3B%0A%20%20%20%20%20%20%20%20%20%20%20%20%20%20%20%20%20%20%20%20left%3A%200.0%25%3B%0A%20%20%20%20%20%20%20%20%20%20%20%20%20%20%20%20%20%20%20%20top%3A%200.0%25%3B%0A%20%20%20%20%20%20%20%20%20%20%20%20%20%20%20%20%7D%0A%20%20%20%20%20%20%20%20%20%20%20%20%3C/style%3E%0A%20%20%20%20%20%20%20%20%0A%20%20%20%20%3Cscript%20src%3D%22https%3A//cdnjs.cloudflare.com/ajax/libs/d3/3.5.5/d3.min.js%22%3E%3C/script%3E%0A%3C/head%3E%0A%3Cbody%3E%20%20%20%20%0A%20%20%20%20%0A%20%20%20%20%20%20%20%20%20%20%20%20%3Cdiv%20class%3D%22folium-map%22%20id%3D%22map_c85ffe5c82a043eda3758bc4be708029%22%20%3E%3C/div%3E%0A%20%20%20%20%20%20%20%20%0A%3C/body%3E%0A%3Cscript%3E%20%20%20%20%0A%20%20%20%20%0A%20%20%20%20%20%20%20%20%20%20%20%20var%20map_c85ffe5c82a043eda3758bc4be708029%20%3D%20L.map%28%0A%20%20%20%20%20%20%20%20%20%20%20%20%20%20%20%20%22map_c85ffe5c82a043eda3758bc4be708029%22%2C%0A%20%20%20%20%20%20%20%20%20%20%20%20%20%20%20%20%7B%0A%20%20%20%20%20%20%20%20%20%20%20%20%20%20%20%20%20%20%20%20center%3A%20%5B37.5502%2C%20126.982%5D%2C%0A%20%20%20%20%20%20%20%20%20%20%20%20%20%20%20%20%20%20%20%20crs%3A%20L.CRS.EPSG3857%2C%0A%20%20%20%20%20%20%20%20%20%20%20%20%20%20%20%20%20%20%20%20zoom%3A%2010.5%2C%0A%20%20%20%20%20%20%20%20%20%20%20%20%20%20%20%20%20%20%20%20zoomControl%3A%20true%2C%0A%20%20%20%20%20%20%20%20%20%20%20%20%20%20%20%20%20%20%20%20preferCanvas%3A%20false%2C%0A%20%20%20%20%20%20%20%20%20%20%20%20%20%20%20%20%7D%0A%20%20%20%20%20%20%20%20%20%20%20%20%29%3B%0A%0A%20%20%20%20%20%20%20%20%20%20%20%20%0A%0A%20%20%20%20%20%20%20%20%0A%20%20%20%20%0A%20%20%20%20%20%20%20%20%20%20%20%20var%20tile_layer_829860b53640490a8bce7074060fa975%20%3D%20L.tileLayer%28%0A%20%20%20%20%20%20%20%20%20%20%20%20%20%20%20%20%22https%3A//stamen-tiles-%7Bs%7D.a.ssl.fastly.net/toner/%7Bz%7D/%7Bx%7D/%7By%7D.png%22%2C%0A%20%20%20%20%20%20%20%20%20%20%20%20%20%20%20%20%7B%22attribution%22%3A%20%22Map%20tiles%20by%20%5Cu003ca%20href%3D%5C%22http%3A//stamen.com%5C%22%5Cu003eStamen%20Design%5Cu003c/a%5Cu003e%2C%20under%20%5Cu003ca%20href%3D%5C%22http%3A//creativecommons.org/licenses/by/3.0%5C%22%5Cu003eCC%20BY%203.0%5Cu003c/a%5Cu003e.%20Data%20by%20%5Cu0026copy%3B%20%5Cu003ca%20href%3D%5C%22http%3A//openstreetmap.org%5C%22%5Cu003eOpenStreetMap%5Cu003c/a%5Cu003e%2C%20under%20%5Cu003ca%20href%3D%5C%22http%3A//www.openstreetmap.org/copyright%5C%22%5Cu003eODbL%5Cu003c/a%5Cu003e.%22%2C%20%22detectRetina%22%3A%20false%2C%20%22maxNativeZoom%22%3A%2018%2C%20%22maxZoom%22%3A%2018%2C%20%22minZoom%22%3A%200%2C%20%22noWrap%22%3A%20false%2C%20%22opacity%22%3A%201%2C%20%22subdomains%22%3A%20%22abc%22%2C%20%22tms%22%3A%20false%7D%0A%20%20%20%20%20%20%20%20%20%20%20%20%29.addTo%28map_c85ffe5c82a043eda3758bc4be708029%29%3B%0A%20%20%20%20%20%20%20%20%0A%20%20%20%20%0A%20%20%20%20%20%20%20%20%20%20%20%20var%20choropleth_dbea3f9261df4e739a9db85ce5e4ac1a%20%3D%20L.featureGroup%28%0A%20%20%20%20%20%20%20%20%20%20%20%20%20%20%20%20%7B%7D%0A%20%20%20%20%20%20%20%20%20%20%20%20%29.addTo%28map_c85ffe5c82a043eda3758bc4be708029%29%3B%0A%20%20%20%20%20%20%20%20%0A%20%20%20%20%0A%20%20%20%20%20%20%20%20function%20geo_json_372d60f8c63441eabc847f5cd76c16e2_styler%28feature%29%20%7B%0A%20%20%20%20%20%20%20%20%20%20%20%20switch%28feature.id%29%20%7B%0A%20%20%20%20%20%20%20%20%20%20%20%20%20%20%20%20case%20%22%5Cuac15%5Cub3d9%5Cuad6c%22%3A%20case%20%22%5Cuc1a1%5Cud30c%5Cuad6c%22%3A%20case%20%22%5Cuc11c%5Cucd08%5Cuad6c%22%3A%20case%20%22%5Cuc601%5Cub4f1%5Cud3ec%5Cuad6c%22%3A%20case%20%22%5Cuae08%5Cucc9c%5Cuad6c%22%3A%20case%20%22%5Cub178%5Cuc6d0%5Cuad6c%22%3A%20case%20%22%5Cuc131%5Cub3d9%5Cuad6c%22%3A%20%0A%20%20%20%20%20%20%20%20%20%20%20%20%20%20%20%20%20%20%20%20return%20%7B%22color%22%3A%20%22black%22%2C%20%22fillColor%22%3A%20%22%23d4b9da%22%2C%20%22fillOpacity%22%3A%200.6%2C%20%22opacity%22%3A%201%2C%20%22weight%22%3A%201%7D%3B%0A%20%20%20%20%20%20%20%20%20%20%20%20%20%20%20%20case%20%22%5Cuac15%5Cub0a8%5Cuad6c%22%3A%20%0A%20%20%20%20%20%20%20%20%20%20%20%20%20%20%20%20%20%20%20%20return%20%7B%22color%22%3A%20%22black%22%2C%20%22fillColor%22%3A%20%22%23df65b0%22%2C%20%22fillOpacity%22%3A%200.6%2C%20%22opacity%22%3A%201%2C%20%22weight%22%3A%201%7D%3B%0A%20%20%20%20%20%20%20%20%20%20%20%20%20%20%20%20case%20%22%5Cub9c8%5Cud3ec%5Cuad6c%22%3A%20%0A%20%20%20%20%20%20%20%20%20%20%20%20%20%20%20%20%20%20%20%20return%20%7B%22color%22%3A%20%22black%22%2C%20%22fillColor%22%3A%20%22%23c994c7%22%2C%20%22fillOpacity%22%3A%200.6%2C%20%22opacity%22%3A%201%2C%20%22weight%22%3A%201%7D%3B%0A%20%20%20%20%20%20%20%20%20%20%20%20%20%20%20%20case%20%22%5Cuc6a9%5Cuc0b0%5Cuad6c%22%3A%20case%20%22%5Cuc911%5Cuad6c%22%3A%20case%20%22%5Cuc885%5Cub85c%5Cuad6c%22%3A%20%0A%20%20%20%20%20%20%20%20%20%20%20%20%20%20%20%20%20%20%20%20return%20%7B%22color%22%3A%20%22black%22%2C%20%22fillColor%22%3A%20%22%23980043%22%2C%20%22fillOpacity%22%3A%200.6%2C%20%22opacity%22%3A%201%2C%20%22weight%22%3A%201%7D%3B%0A%20%20%20%20%20%20%20%20%20%20%20%20%20%20%20%20default%3A%0A%20%20%20%20%20%20%20%20%20%20%20%20%20%20%20%20%20%20%20%20return%20%7B%22color%22%3A%20%22black%22%2C%20%22fillColor%22%3A%20%22%23f1eef6%22%2C%20%22fillOpacity%22%3A%200.6%2C%20%22opacity%22%3A%201%2C%20%22weight%22%3A%201%7D%3B%0A%20%20%20%20%20%20%20%20%20%20%20%20%7D%0A%20%20%20%20%20%20%20%20%7D%0A%0A%20%20%20%20%20%20%20%20function%20geo_json_372d60f8c63441eabc847f5cd76c16e2_onEachFeature%28feature%2C%20layer%29%20%7B%0A%20%20%20%20%20%20%20%20%20%20%20%20layer.on%28%7B%0A%20%20%20%20%20%20%20%20%20%20%20%20%7D%29%3B%0A%20%20%20%20%20%20%20%20%7D%3B%0A%20%20%20%20%20%20%20%20var%20geo_json_372d60f8c63441eabc847f5cd76c16e2%20%3D%20L.geoJson%28null%2C%20%7B%0A%20%20%20%20%20%20%20%20%20%20%20%20%20%20%20%20onEachFeature%3A%20geo_json_372d60f8c63441eabc847f5cd76c16e2_onEachFeature%2C%0A%20%20%20%20%20%20%20%20%20%20%20%20%0A%20%20%20%20%20%20%20%20%20%20%20%20%20%20%20%20style%3A%20geo_json_372d60f8c63441eabc847f5cd76c16e2_styler%2C%0A%20%20%20%20%20%20%20%20%7D%29%3B%0A%0A%20%20%20%20%20%20%20%20function%20geo_json_372d60f8c63441eabc847f5cd76c16e2_add%20%28data%29%20%7B%0A%20%20%20%20%20%20%20%20%20%20%20%20geo_json_372d60f8c63441eabc847f5cd76c16e2%0A%20%20%20%20%20%20%20%20%20%20%20%20%20%20%20%20.addData%28data%29%0A%20%20%20%20%20%20%20%20%20%20%20%20%20%20%20%20.addTo%28choropleth_dbea3f9261df4e739a9db85ce5e4ac1a%29%3B%0A%20%20%20%20%20%20%20%20%7D%0A%20%20%20%20%20%20%20%20%20%20%20%20geo_json_372d60f8c63441eabc847f5cd76c16e2_add%28%7B%22features%22%3A%20%5B%7B%22geometry%22%3A%20%7B%22coordinates%22%3A%20%5B%5B%5B127.11519584981606%2C%2037.557533180704915%5D%2C%20%5B127.16683184366129%2C%2037.57672487388627%5D%2C%20%5B127.18408792330152%2C%2037.55814280369575%5D%2C%20%5B127.16530984307447%2C%2037.54221851258693%5D%2C%20%5B127.14672806823502%2C%2037.51415680680291%5D%2C%20%5B127.12123165719615%2C%2037.52528270089%5D%2C%20%5B127.1116764203608%2C%2037.540669955324965%5D%2C%20%5B127.11519584981606%2C%2037.557533180704915%5D%5D%5D%2C%20%22type%22%3A%20%22Polygon%22%7D%2C%20%22id%22%3A%20%22%5Cuac15%5Cub3d9%5Cuad6c%22%2C%20%22properties%22%3A%20%7B%22base_year%22%3A%20%222013%22%2C%20%22code%22%3A%20%2211250%22%2C%20%22name%22%3A%20%22%5Cuac15%5Cub3d9%5Cuad6c%22%2C%20%22name_eng%22%3A%20%22Gangdong-gu%22%7D%2C%20%22type%22%3A%20%22Feature%22%7D%2C%20%7B%22geometry%22%3A%20%7B%22coordinates%22%3A%20%5B%5B%5B127.0690698130372%2C%2037.522279423505026%5D%2C%20%5B127.10087519791962%2C%2037.524841220167055%5D%2C%20%5B127.1116764203608%2C%2037.540669955324965%5D%2C%20%5B127.12123165719615%2C%2037.52528270089%5D%2C%20%5B127.14672806823502%2C%2037.51415680680291%5D%2C%20%5B127.1634944215765%2C%2037.497445406097484%5D%2C%20%5B127.14206058413274%2C%2037.47089819098501%5D%2C%20%5B127.12440571080893%2C%2037.46240445587048%5D%2C%20%5B127.11117085201238%2C%2037.485708381512445%5D%2C%20%5B127.0719146000724%2C%2037.50224013587669%5D%2C%20%5B127.0690698130372%2C%2037.522279423505026%5D%5D%5D%2C%20%22type%22%3A%20%22Polygon%22%7D%2C%20%22id%22%3A%20%22%5Cuc1a1%5Cud30c%5Cuad6c%22%2C%20%22properties%22%3A%20%7B%22base_year%22%3A%20%222013%22%2C%20%22code%22%3A%20%2211240%22%2C%20%22name%22%3A%20%22%5Cuc1a1%5Cud30c%5Cuad6c%22%2C%20%22name_eng%22%3A%20%22Songpa-gu%22%7D%2C%20%22type%22%3A%20%22Feature%22%7D%2C%20%7B%22geometry%22%3A%20%7B%22coordinates%22%3A%20%5B%5B%5B127.05867359288398%2C%2037.52629974922568%5D%2C%20%5B127.0690698130372%2C%2037.522279423505026%5D%2C%20%5B127.0719146000724%2C%2037.50224013587669%5D%2C%20%5B127.11117085201238%2C%2037.485708381512445%5D%2C%20%5B127.12440571080893%2C%2037.46240445587048%5D%2C%20%5B127.09842759318751%2C%2037.45862253857461%5D%2C%20%5B127.08640440578156%2C%2037.472697935184655%5D%2C%20%5B127.0559170481904%2C%2037.4659228914077%5D%2C%20%5B127.03621915098798%2C%2037.48175802427603%5D%2C%20%5B127.01397119667513%2C%2037.52503988289669%5D%2C%20%5B127.02302831890559%2C%2037.53231899582663%5D%2C%20%5B127.05867359288398%2C%2037.52629974922568%5D%5D%5D%2C%20%22type%22%3A%20%22Polygon%22%7D%2C%20%22id%22%3A%20%22%5Cuac15%5Cub0a8%5Cuad6c%22%2C%20%22properties%22%3A%20%7B%22base_year%22%3A%20%222013%22%2C%20%22code%22%3A%20%2211230%22%2C%20%22name%22%3A%20%22%5Cuac15%5Cub0a8%5Cuad6c%22%2C%20%22name_eng%22%3A%20%22Gangnam-gu%22%7D%2C%20%22type%22%3A%20%22Feature%22%7D%2C%20%7B%22geometry%22%3A%20%7B%22coordinates%22%3A%20%5B%5B%5B127.01397119667513%2C%2037.52503988289669%5D%2C%20%5B127.03621915098798%2C%2037.48175802427603%5D%2C%20%5B127.0559170481904%2C%2037.4659228914077%5D%2C%20%5B127.08640440578156%2C%2037.472697935184655%5D%2C%20%5B127.09842759318751%2C%2037.45862253857461%5D%2C%20%5B127.09046928565951%2C%2037.44296826114185%5D%2C%20%5B127.06778107605433%2C%2037.426197424057314%5D%2C%20%5B127.04957232987142%2C%2037.42805836845694%5D%2C%20%5B127.03881782597922%2C%2037.45382039851715%5D%2C%20%5B126.99072073195462%2C%2037.455326143310025%5D%2C%20%5B126.98367668291802%2C%2037.473856492692086%5D%2C%20%5B126.98223807916081%2C%2037.509314966770326%5D%2C%20%5B127.01397119667513%2C%2037.52503988289669%5D%5D%5D%2C%20%22type%22%3A%20%22Polygon%22%7D%2C%20%22id%22%3A%20%22%5Cuc11c%5Cucd08%5Cuad6c%22%2C%20%22properties%22%3A%20%7B%22base_year%22%3A%20%222013%22%2C%20%22code%22%3A%20%2211220%22%2C%20%22name%22%3A%20%22%5Cuc11c%5Cucd08%5Cuad6c%22%2C%20%22name_eng%22%3A%20%22Seocho-gu%22%7D%2C%20%22type%22%3A%20%22Feature%22%7D%2C%20%7B%22geometry%22%3A%20%7B%22coordinates%22%3A%20%5B%5B%5B126.98367668291802%2C%2037.473856492692086%5D%2C%20%5B126.99072073195462%2C%2037.455326143310025%5D%2C%20%5B126.96520439085143%2C%2037.438249784006246%5D%2C%20%5B126.95000001010182%2C%2037.43613451165719%5D%2C%20%5B126.93084408056525%2C%2037.447382928333994%5D%2C%20%5B126.9167728146601%2C%2037.45490566423789%5D%2C%20%5B126.90156094129895%2C%2037.47753842789901%5D%2C%20%5B126.90531975801812%2C%2037.48218087575429%5D%2C%20%5B126.94922661389508%2C%2037.49125437495649%5D%2C%20%5B126.9725891850662%2C%2037.472561363278125%5D%2C%20%5B126.98367668291802%2C%2037.473856492692086%5D%5D%5D%2C%20%22type%22%3A%20%22Polygon%22%7D%2C%20%22id%22%3A%20%22%5Cuad00%5Cuc545%5Cuad6c%22%2C%20%22properties%22%3A%20%7B%22base_year%22%3A%20%222013%22%2C%20%22code%22%3A%20%2211210%22%2C%20%22name%22%3A%20%22%5Cuad00%5Cuc545%5Cuad6c%22%2C%20%22name_eng%22%3A%20%22Gwanak-gu%22%7D%2C%20%22type%22%3A%20%22Feature%22%7D%2C%20%7B%22geometry%22%3A%20%7B%22coordinates%22%3A%20%5B%5B%5B126.98223807916081%2C%2037.509314966770326%5D%2C%20%5B126.98367668291802%2C%2037.473856492692086%5D%2C%20%5B126.9725891850662%2C%2037.472561363278125%5D%2C%20%5B126.94922661389508%2C%2037.49125437495649%5D%2C%20%5B126.90531975801812%2C%2037.48218087575429%5D%2C%20%5B126.92177893174825%2C%2037.494889877415176%5D%2C%20%5B126.92810628828279%2C%2037.51329595732015%5D%2C%20%5B126.95249990298159%2C%2037.51722500741813%5D%2C%20%5B126.98223807916081%2C%2037.509314966770326%5D%5D%5D%2C%20%22type%22%3A%20%22Polygon%22%7D%2C%20%22id%22%3A%20%22%5Cub3d9%5Cuc791%5Cuad6c%22%2C%20%22properties%22%3A%20%7B%22base_year%22%3A%20%222013%22%2C%20%22code%22%3A%20%2211200%22%2C%20%22name%22%3A%20%22%5Cub3d9%5Cuc791%5Cuad6c%22%2C%20%22name_eng%22%3A%20%22Dongjak-gu%22%7D%2C%20%22type%22%3A%20%22Feature%22%7D%2C%20%7B%22geometry%22%3A%20%7B%22coordinates%22%3A%20%5B%5B%5B126.89184663862764%2C%2037.547373974997114%5D%2C%20%5B126.94566733083212%2C%2037.526617542453366%5D%2C%20%5B126.95249990298159%2C%2037.51722500741813%5D%2C%20%5B126.92810628828279%2C%2037.51329595732015%5D%2C%20%5B126.92177893174825%2C%2037.494889877415176%5D%2C%20%5B126.90531975801812%2C%2037.48218087575429%5D%2C%20%5B126.89594776782485%2C%2037.504675281309176%5D%2C%20%5B126.88156402353862%2C%2037.513970034765684%5D%2C%20%5B126.88825757860099%2C%2037.54079733630232%5D%2C%20%5B126.89184663862764%2C%2037.547373974997114%5D%5D%5D%2C%20%22type%22%3A%20%22Polygon%22%7D%2C%20%22id%22%3A%20%22%5Cuc601%5Cub4f1%5Cud3ec%5Cuad6c%22%2C%20%22properties%22%3A%20%7B%22base_year%22%3A%20%222013%22%2C%20%22code%22%3A%20%2211190%22%2C%20%22name%22%3A%20%22%5Cuc601%5Cub4f1%5Cud3ec%5Cuad6c%22%2C%20%22name_eng%22%3A%20%22Yeongdeungpo-gu%22%7D%2C%20%22type%22%3A%20%22Feature%22%7D%2C%20%7B%22geometry%22%3A%20%7B%22coordinates%22%3A%20%5B%5B%5B126.90156094129895%2C%2037.47753842789901%5D%2C%20%5B126.9167728146601%2C%2037.45490566423789%5D%2C%20%5B126.93084408056525%2C%2037.447382928333994%5D%2C%20%5B126.9025831711697%2C%2037.434549366349124%5D%2C%20%5B126.87683271502428%2C%2037.482576591607305%5D%2C%20%5B126.90156094129895%2C%2037.47753842789901%5D%5D%5D%2C%20%22type%22%3A%20%22Polygon%22%7D%2C%20%22id%22%3A%20%22%5Cuae08%5Cucc9c%5Cuad6c%22%2C%20%22properties%22%3A%20%7B%22base_year%22%3A%20%222013%22%2C%20%22code%22%3A%20%2211180%22%2C%20%22name%22%3A%20%22%5Cuae08%5Cucc9c%5Cuad6c%22%2C%20%22name_eng%22%3A%20%22Geumcheon-gu%22%7D%2C%20%22type%22%3A%20%22Feature%22%7D%2C%20%7B%22geometry%22%3A%20%7B%22coordinates%22%3A%20%5B%5B%5B126.82688081517314%2C%2037.50548972232896%5D%2C%20%5B126.88156402353862%2C%2037.513970034765684%5D%2C%20%5B126.89594776782485%2C%2037.504675281309176%5D%2C%20%5B126.90531975801812%2C%2037.48218087575429%5D%2C%20%5B126.90156094129895%2C%2037.47753842789901%5D%2C%20%5B126.87683271502428%2C%2037.482576591607305%5D%2C%20%5B126.84762676054953%2C%2037.47146723936323%5D%2C%20%5B126.83549485076196%2C%2037.474098236975095%5D%2C%20%5B126.82264796791348%2C%2037.4878476492147%5D%2C%20%5B126.82504736331406%2C%2037.50302612640443%5D%2C%20%5B126.82688081517314%2C%2037.50548972232896%5D%5D%5D%2C%20%22type%22%3A%20%22Polygon%22%7D%2C%20%22id%22%3A%20%22%5Cuad6c%5Cub85c%5Cuad6c%22%2C%20%22properties%22%3A%20%7B%22base_year%22%3A%20%222013%22%2C%20%22code%22%3A%20%2211170%22%2C%20%22name%22%3A%20%22%5Cuad6c%5Cub85c%5Cuad6c%22%2C%20%22name_eng%22%3A%20%22Guro-gu%22%7D%2C%20%22type%22%3A%20%22Feature%22%7D%2C%20%7B%22geometry%22%3A%20%7B%22coordinates%22%3A%20%5B%5B%5B126.79575768552907%2C%2037.57881087633202%5D%2C%20%5B126.80702115023597%2C%2037.60123001013228%5D%2C%20%5B126.82251438477105%2C%2037.5880430810082%5D%2C%20%5B126.85984199399667%2C%2037.571847855292745%5D%2C%20%5B126.89184663862764%2C%2037.547373974997114%5D%2C%20%5B126.88825757860099%2C%2037.54079733630232%5D%2C%20%5B126.86637464321238%2C%2037.54859191094823%5D%2C%20%5B126.86610073476395%2C%2037.52699964144669%5D%2C%20%5B126.84257291943153%2C%2037.52373707805596%5D%2C%20%5B126.8242331426722%2C%2037.53788078753248%5D%2C%20%5B126.77324417717703%2C%2037.5459123450554%5D%2C%20%5B126.76979180579352%2C%2037.55139183008809%5D%2C%20%5B126.79575768552907%2C%2037.57881087633202%5D%5D%5D%2C%20%22type%22%3A%20%22Polygon%22%7D%2C%20%22id%22%3A%20%22%5Cuac15%5Cuc11c%5Cuad6c%22%2C%20%22properties%22%3A%20%7B%22base_year%22%3A%20%222013%22%2C%20%22code%22%3A%20%2211160%22%2C%20%22name%22%3A%20%22%5Cuac15%5Cuc11c%5Cuad6c%22%2C%20%22name_eng%22%3A%20%22Gangseo-gu%22%7D%2C%20%22type%22%3A%20%22Feature%22%7D%2C%20%7B%22geometry%22%3A%20%7B%22coordinates%22%3A%20%5B%5B%5B126.8242331426722%2C%2037.53788078753248%5D%2C%20%5B126.84257291943153%2C%2037.52373707805596%5D%2C%20%5B126.86610073476395%2C%2037.52699964144669%5D%2C%20%5B126.86637464321238%2C%2037.54859191094823%5D%2C%20%5B126.88825757860099%2C%2037.54079733630232%5D%2C%20%5B126.88156402353862%2C%2037.513970034765684%5D%2C%20%5B126.82688081517314%2C%2037.50548972232896%5D%2C%20%5B126.8242331426722%2C%2037.53788078753248%5D%5D%5D%2C%20%22type%22%3A%20%22Polygon%22%7D%2C%20%22id%22%3A%20%22%5Cuc591%5Cucc9c%5Cuad6c%22%2C%20%22properties%22%3A%20%7B%22base_year%22%3A%20%222013%22%2C%20%22code%22%3A%20%2211150%22%2C%20%22name%22%3A%20%22%5Cuc591%5Cucc9c%5Cuad6c%22%2C%20%22name_eng%22%3A%20%22Yangcheon-gu%22%7D%2C%20%22type%22%3A%20%22Feature%22%7D%2C%20%7B%22geometry%22%3A%20%7B%22coordinates%22%3A%20%5B%5B%5B126.90522065831053%2C%2037.57409700522574%5D%2C%20%5B126.93898161798973%2C%2037.552310003728124%5D%2C%20%5B126.96358226710812%2C%2037.55605635475154%5D%2C%20%5B126.96448570553055%2C%2037.548705692021635%5D%2C%20%5B126.94566733083212%2C%2037.526617542453366%5D%2C%20%5B126.89184663862764%2C%2037.547373974997114%5D%2C%20%5B126.85984199399667%2C%2037.571847855292745%5D%2C%20%5B126.88433284773288%2C%2037.588143322880526%5D%2C%20%5B126.90522065831053%2C%2037.57409700522574%5D%5D%5D%2C%20%22type%22%3A%20%22Polygon%22%7D%2C%20%22id%22%3A%20%22%5Cub9c8%5Cud3ec%5Cuad6c%22%2C%20%22properties%22%3A%20%7B%22base_year%22%3A%20%222013%22%2C%20%22code%22%3A%20%2211140%22%2C%20%22name%22%3A%20%22%5Cub9c8%5Cud3ec%5Cuad6c%22%2C%20%22name_eng%22%3A%20%22Mapo-gu%22%7D%2C%20%22type%22%3A%20%22Feature%22%7D%2C%20%7B%22geometry%22%3A%20%7B%22coordinates%22%3A%20%5B%5B%5B126.9524752030572%2C%2037.60508692737045%5D%2C%20%5B126.95565425846463%2C%2037.576080790881456%5D%2C%20%5B126.96873633279075%2C%2037.56313604690827%5D%2C%20%5B126.96358226710812%2C%2037.55605635475154%5D%2C%20%5B126.93898161798973%2C%2037.552310003728124%5D%2C%20%5B126.90522065831053%2C%2037.57409700522574%5D%2C%20%5B126.9524752030572%2C%2037.60508692737045%5D%5D%5D%2C%20%22type%22%3A%20%22Polygon%22%7D%2C%20%22id%22%3A%20%22%5Cuc11c%5Cub300%5Cubb38%5Cuad6c%22%2C%20%22properties%22%3A%20%7B%22base_year%22%3A%20%222013%22%2C%20%22code%22%3A%20%2211130%22%2C%20%22name%22%3A%20%22%5Cuc11c%5Cub300%5Cubb38%5Cuad6c%22%2C%20%22name_eng%22%3A%20%22Seodaemun-gu%22%7D%2C%20%22type%22%3A%20%22Feature%22%7D%2C%20%7B%22geometry%22%3A%20%7B%22coordinates%22%3A%20%5B%5B%5B126.9738864128702%2C%2037.62949634786888%5D%2C%20%5B126.95427017006129%2C%2037.622033431339425%5D%2C%20%5B126.9524752030572%2C%2037.60508692737045%5D%2C%20%5B126.90522065831053%2C%2037.57409700522574%5D%2C%20%5B126.88433284773288%2C%2037.588143322880526%5D%2C%20%5B126.90396681003595%2C%2037.59227403419942%5D%2C%20%5B126.90303066177668%2C%2037.609977911401344%5D%2C%20%5B126.91455481429648%2C%2037.64150050996935%5D%2C%20%5B126.956473797387%2C%2037.652480737339445%5D%2C%20%5B126.9738864128702%2C%2037.62949634786888%5D%5D%5D%2C%20%22type%22%3A%20%22Polygon%22%7D%2C%20%22id%22%3A%20%22%5Cuc740%5Cud3c9%5Cuad6c%22%2C%20%22properties%22%3A%20%7B%22base_year%22%3A%20%222013%22%2C%20%22code%22%3A%20%2211120%22%2C%20%22name%22%3A%20%22%5Cuc740%5Cud3c9%5Cuad6c%22%2C%20%22name_eng%22%3A%20%22Eunpyeong-gu%22%7D%2C%20%22type%22%3A%20%22Feature%22%7D%2C%20%7B%22geometry%22%3A%20%7B%22coordinates%22%3A%20%5B%5B%5B127.0838752703195%2C%2037.69359534202034%5D%2C%20%5B127.09706391309695%2C%2037.686383719372294%5D%2C%20%5B127.09440766298717%2C%2037.64713490473045%5D%2C%20%5B127.11326795855199%2C%2037.639622905315925%5D%2C%20%5B127.10782277688129%2C%2037.61804244241069%5D%2C%20%5B127.07351243825278%2C%2037.61283660342313%5D%2C%20%5B127.05209373568619%2C%2037.62164065487782%5D%2C%20%5B127.04358800895609%2C%2037.62848931298715%5D%2C%20%5B127.05800075220091%2C%2037.64318263878276%5D%2C%20%5B127.05288479710485%2C%2037.68423857084347%5D%2C%20%5B127.0838752703195%2C%2037.69359534202034%5D%5D%5D%2C%20%22type%22%3A%20%22Polygon%22%7D%2C%20%22id%22%3A%20%22%5Cub178%5Cuc6d0%5Cuad6c%22%2C%20%22properties%22%3A%20%7B%22base_year%22%3A%20%222013%22%2C%20%22code%22%3A%20%2211110%22%2C%20%22name%22%3A%20%22%5Cub178%5Cuc6d0%5Cuad6c%22%2C%20%22name_eng%22%3A%20%22Nowon-gu%22%7D%2C%20%22type%22%3A%20%22Feature%22%7D%2C%20%7B%22geometry%22%3A%20%7B%22coordinates%22%3A%20%5B%5B%5B127.05288479710485%2C%2037.68423857084347%5D%2C%20%5B127.05800075220091%2C%2037.64318263878276%5D%2C%20%5B127.04358800895609%2C%2037.62848931298715%5D%2C%20%5B127.01465935892466%2C%2037.64943687496812%5D%2C%20%5B127.02062116141389%2C%2037.667173575971205%5D%2C%20%5B127.01039666042071%2C%2037.681894589603594%5D%2C%20%5B127.01795099203432%2C%2037.69824412775662%5D%2C%20%5B127.05288479710485%2C%2037.68423857084347%5D%5D%5D%2C%20%22type%22%3A%20%22Polygon%22%7D%2C%20%22id%22%3A%20%22%5Cub3c4%5Cubd09%5Cuad6c%22%2C%20%22properties%22%3A%20%7B%22base_year%22%3A%20%222013%22%2C%20%22code%22%3A%20%2211100%22%2C%20%22name%22%3A%20%22%5Cub3c4%5Cubd09%5Cuad6c%22%2C%20%22name_eng%22%3A%20%22Dobong-gu%22%7D%2C%20%22type%22%3A%20%22Feature%22%7D%2C%20%7B%22geometry%22%3A%20%7B%22coordinates%22%3A%20%5B%5B%5B126.99383903424%2C%2037.676681761199085%5D%2C%20%5B127.01039666042071%2C%2037.681894589603594%5D%2C%20%5B127.02062116141389%2C%2037.667173575971205%5D%2C%20%5B127.01465935892466%2C%2037.64943687496812%5D%2C%20%5B127.04358800895609%2C%2037.62848931298715%5D%2C%20%5B127.05209373568619%2C%2037.62164065487782%5D%2C%20%5B127.03892400992301%2C%2037.609715611023816%5D%2C%20%5B127.0128154749523%2C%2037.613652243470256%5D%2C%20%5B126.98672705513869%2C%2037.63377641288196%5D%2C%20%5B126.9817452676551%2C%2037.65209769387776%5D%2C%20%5B126.99383903424%2C%2037.676681761199085%5D%5D%5D%2C%20%22type%22%3A%20%22Polygon%22%7D%2C%20%22id%22%3A%20%22%5Cuac15%5Cubd81%5Cuad6c%22%2C%20%22properties%22%3A%20%7B%22base_year%22%3A%20%222013%22%2C%20%22code%22%3A%20%2211090%22%2C%20%22name%22%3A%20%22%5Cuac15%5Cubd81%5Cuad6c%22%2C%20%22name_eng%22%3A%20%22Gangbuk-gu%22%7D%2C%20%22type%22%3A%20%22Feature%22%7D%2C%20%7B%22geometry%22%3A%20%7B%22coordinates%22%3A%20%5B%5B%5B126.977175406416%2C%2037.62859715400388%5D%2C%20%5B126.98672705513869%2C%2037.63377641288196%5D%2C%20%5B127.0128154749523%2C%2037.613652243470256%5D%2C%20%5B127.03892400992301%2C%2037.609715611023816%5D%2C%20%5B127.05209373568619%2C%2037.62164065487782%5D%2C%20%5B127.07351243825278%2C%2037.61283660342313%5D%2C%20%5B127.07382707099227%2C%2037.60401928986419%5D%2C%20%5B127.042705222094%2C%2037.59239437593391%5D%2C%20%5B127.02527254528003%2C%2037.57524616245249%5D%2C%20%5B126.99348293358314%2C%2037.588565457216156%5D%2C%20%5B126.98879865992384%2C%2037.6118927319756%5D%2C%20%5B126.977175406416%2C%2037.62859715400388%5D%5D%5D%2C%20%22type%22%3A%20%22Polygon%22%7D%2C%20%22id%22%3A%20%22%5Cuc131%5Cubd81%5Cuad6c%22%2C%20%22properties%22%3A%20%7B%22base_year%22%3A%20%222013%22%2C%20%22code%22%3A%20%2211080%22%2C%20%22name%22%3A%20%22%5Cuc131%5Cubd81%5Cuad6c%22%2C%20%22name_eng%22%3A%20%22Seongbuk-gu%22%7D%2C%20%22type%22%3A%20%22Feature%22%7D%2C%20%7B%22geometry%22%3A%20%7B%22coordinates%22%3A%20%5B%5B%5B127.07351243825278%2C%2037.61283660342313%5D%2C%20%5B127.10782277688129%2C%2037.61804244241069%5D%2C%20%5B127.1201246020114%2C%2037.60178457598188%5D%2C%20%5B127.10304174249214%2C%2037.57076342290955%5D%2C%20%5B127.08068541280403%2C%2037.56906425519017%5D%2C%20%5B127.07382707099227%2C%2037.60401928986419%5D%2C%20%5B127.07351243825278%2C%2037.61283660342313%5D%5D%5D%2C%20%22type%22%3A%20%22Polygon%22%7D%2C%20%22id%22%3A%20%22%5Cuc911%5Cub791%5Cuad6c%22%2C%20%22properties%22%3A%20%7B%22base_year%22%3A%20%222013%22%2C%20%22code%22%3A%20%2211070%22%2C%20%22name%22%3A%20%22%5Cuc911%5Cub791%5Cuad6c%22%2C%20%22name_eng%22%3A%20%22Jungnang-gu%22%7D%2C%20%22type%22%3A%20%22Feature%22%7D%2C%20%7B%22geometry%22%3A%20%7B%22coordinates%22%3A%20%5B%5B%5B127.02527254528003%2C%2037.57524616245249%5D%2C%20%5B127.042705222094%2C%2037.59239437593391%5D%2C%20%5B127.07382707099227%2C%2037.60401928986419%5D%2C%20%5B127.08068541280403%2C%2037.56906425519017%5D%2C%20%5B127.07421053024362%2C%2037.55724769712085%5D%2C%20%5B127.05005601081567%2C%2037.567577612590846%5D%2C%20%5B127.02547266349976%2C%2037.568943552237734%5D%2C%20%5B127.02527254528003%2C%2037.57524616245249%5D%5D%5D%2C%20%22type%22%3A%20%22Polygon%22%7D%2C%20%22id%22%3A%20%22%5Cub3d9%5Cub300%5Cubb38%5Cuad6c%22%2C%20%22properties%22%3A%20%7B%22base_year%22%3A%20%222013%22%2C%20%22code%22%3A%20%2211060%22%2C%20%22name%22%3A%20%22%5Cub3d9%5Cub300%5Cubb38%5Cuad6c%22%2C%20%22name_eng%22%3A%20%22Dongdaemun-gu%22%7D%2C%20%22type%22%3A%20%22Feature%22%7D%2C%20%7B%22geometry%22%3A%20%7B%22coordinates%22%3A%20%5B%5B%5B127.08068541280403%2C%2037.56906425519017%5D%2C%20%5B127.10304174249214%2C%2037.57076342290955%5D%2C%20%5B127.11519584981606%2C%2037.557533180704915%5D%2C%20%5B127.1116764203608%2C%2037.540669955324965%5D%2C%20%5B127.10087519791962%2C%2037.524841220167055%5D%2C%20%5B127.0690698130372%2C%2037.522279423505026%5D%2C%20%5B127.05867359288398%2C%2037.52629974922568%5D%2C%20%5B127.07421053024362%2C%2037.55724769712085%5D%2C%20%5B127.08068541280403%2C%2037.56906425519017%5D%5D%5D%2C%20%22type%22%3A%20%22Polygon%22%7D%2C%20%22id%22%3A%20%22%5Cuad11%5Cuc9c4%5Cuad6c%22%2C%20%22properties%22%3A%20%7B%22base_year%22%3A%20%222013%22%2C%20%22code%22%3A%20%2211050%22%2C%20%22name%22%3A%20%22%5Cuad11%5Cuc9c4%5Cuad6c%22%2C%20%22name_eng%22%3A%20%22Gwangjin-gu%22%7D%2C%20%22type%22%3A%20%22Feature%22%7D%2C%20%7B%22geometry%22%3A%20%7B%22coordinates%22%3A%20%5B%5B%5B127.02547266349976%2C%2037.568943552237734%5D%2C%20%5B127.05005601081567%2C%2037.567577612590846%5D%2C%20%5B127.07421053024362%2C%2037.55724769712085%5D%2C%20%5B127.05867359288398%2C%2037.52629974922568%5D%2C%20%5B127.02302831890559%2C%2037.53231899582663%5D%2C%20%5B127.01070894177482%2C%2037.54118048964762%5D%2C%20%5B127.02547266349976%2C%2037.568943552237734%5D%5D%5D%2C%20%22type%22%3A%20%22Polygon%22%7D%2C%20%22id%22%3A%20%22%5Cuc131%5Cub3d9%5Cuad6c%22%2C%20%22properties%22%3A%20%7B%22base_year%22%3A%20%222013%22%2C%20%22code%22%3A%20%2211040%22%2C%20%22name%22%3A%20%22%5Cuc131%5Cub3d9%5Cuad6c%22%2C%20%22name_eng%22%3A%20%22Seongdong-gu%22%7D%2C%20%22type%22%3A%20%22Feature%22%7D%2C%20%7B%22geometry%22%3A%20%7B%22coordinates%22%3A%20%5B%5B%5B127.01070894177482%2C%2037.54118048964762%5D%2C%20%5B127.02302831890559%2C%2037.53231899582663%5D%2C%20%5B127.01397119667513%2C%2037.52503988289669%5D%2C%20%5B126.98223807916081%2C%2037.509314966770326%5D%2C%20%5B126.95249990298159%2C%2037.51722500741813%5D%2C%20%5B126.94566733083212%2C%2037.526617542453366%5D%2C%20%5B126.96448570553055%2C%2037.548705692021635%5D%2C%20%5B126.98752996903328%2C%2037.55094818807139%5D%2C%20%5B127.01070894177482%2C%2037.54118048964762%5D%5D%5D%2C%20%22type%22%3A%20%22Polygon%22%7D%2C%20%22id%22%3A%20%22%5Cuc6a9%5Cuc0b0%5Cuad6c%22%2C%20%22properties%22%3A%20%7B%22base_year%22%3A%20%222013%22%2C%20%22code%22%3A%20%2211030%22%2C%20%22name%22%3A%20%22%5Cuc6a9%5Cuc0b0%5Cuad6c%22%2C%20%22name_eng%22%3A%20%22Yongsan-gu%22%7D%2C%20%22type%22%3A%20%22Feature%22%7D%2C%20%7B%22geometry%22%3A%20%7B%22coordinates%22%3A%20%5B%5B%5B127.02547266349976%2C%2037.568943552237734%5D%2C%20%5B127.01070894177482%2C%2037.54118048964762%5D%2C%20%5B126.98752996903328%2C%2037.55094818807139%5D%2C%20%5B126.96448570553055%2C%2037.548705692021635%5D%2C%20%5B126.96358226710812%2C%2037.55605635475154%5D%2C%20%5B126.96873633279075%2C%2037.56313604690827%5D%2C%20%5B127.02547266349976%2C%2037.568943552237734%5D%5D%5D%2C%20%22type%22%3A%20%22Polygon%22%7D%2C%20%22id%22%3A%20%22%5Cuc911%5Cuad6c%22%2C%20%22properties%22%3A%20%7B%22base_year%22%3A%20%222013%22%2C%20%22code%22%3A%20%2211020%22%2C%20%22name%22%3A%20%22%5Cuc911%5Cuad6c%22%2C%20%22name_eng%22%3A%20%22Jung-gu%22%7D%2C%20%22type%22%3A%20%22Feature%22%7D%2C%20%7B%22geometry%22%3A%20%7B%22coordinates%22%3A%20%5B%5B%5B126.9738864128702%2C%2037.62949634786888%5D%2C%20%5B126.977175406416%2C%2037.62859715400388%5D%2C%20%5B126.98879865992384%2C%2037.6118927319756%5D%2C%20%5B126.99348293358314%2C%2037.588565457216156%5D%2C%20%5B127.02527254528003%2C%2037.57524616245249%5D%2C%20%5B127.02547266349976%2C%2037.568943552237734%5D%2C%20%5B126.96873633279075%2C%2037.56313604690827%5D%2C%20%5B126.95565425846463%2C%2037.576080790881456%5D%2C%20%5B126.9524752030572%2C%2037.60508692737045%5D%2C%20%5B126.95427017006129%2C%2037.622033431339425%5D%2C%20%5B126.9738864128702%2C%2037.62949634786888%5D%5D%5D%2C%20%22type%22%3A%20%22Polygon%22%7D%2C%20%22id%22%3A%20%22%5Cuc885%5Cub85c%5Cuad6c%22%2C%20%22properties%22%3A%20%7B%22base_year%22%3A%20%222013%22%2C%20%22code%22%3A%20%2211010%22%2C%20%22name%22%3A%20%22%5Cuc885%5Cub85c%5Cuad6c%22%2C%20%22name_eng%22%3A%20%22Jongno-gu%22%7D%2C%20%22type%22%3A%20%22Feature%22%7D%5D%2C%20%22type%22%3A%20%22FeatureCollection%22%7D%29%3B%0A%0A%20%20%20%20%20%20%20%20%0A%20%20%20%20%0A%20%20%20%20var%20color_map_c9a4e421bd324d92a62834f9191feff0%20%3D%20%7B%7D%3B%0A%0A%20%20%20%20%0A%20%20%20%20color_map_c9a4e421bd324d92a62834f9191feff0.color%20%3D%20d3.scale.threshold%28%29%0A%20%20%20%20%20%20%20%20%20%20%20%20%20%20.domain%28%5B1534.3333333333333%2C%201535.194555778223%2C%201536.0557782231128%2C%201536.9170006680026%2C%201537.7782231128924%2C%201538.6394455577822%2C%201539.500668002672%2C%201540.3618904475618%2C%201541.2231128924516%2C%201542.0843353373414%2C%201542.9455577822312%2C%201543.8067802271207%2C%201544.6680026720105%2C%201545.5292251169003%2C%201546.39044756179%2C%201547.25167000668%2C%201548.1128924515697%2C%201548.9741148964595%2C%201549.8353373413493%2C%201550.696559786239%2C%201551.5577822311288%2C%201552.4190046760186%2C%201553.2802271209084%2C%201554.1414495657982%2C%201555.002672010688%2C%201555.8638944555778%2C%201556.7251169004676%2C%201557.5863393453574%2C%201558.4475617902472%2C%201559.308784235137%2C%201560.1700066800267%2C%201561.0312291249165%2C%201561.892451569806%2C%201562.753674014696%2C%201563.6148964595857%2C%201564.4761189044755%2C%201565.3373413493653%2C%201566.198563794255%2C%201567.0597862391448%2C%201567.9210086840346%2C%201568.7822311289244%2C%201569.6434535738142%2C%201570.504676018704%2C%201571.3658984635938%2C%201572.2271209084836%2C%201573.0883433533734%2C%201573.9495657982632%2C%201574.810788243153%2C%201575.6720106880427%2C%201576.5332331329325%2C%201577.3944555778223%2C%201578.2556780227121%2C%201579.1169004676017%2C%201579.9781229124915%2C%201580.8393453573813%2C%201581.700567802271%2C%201582.5617902471608%2C%201583.4230126920506%2C%201584.2842351369404%2C%201585.1454575818302%2C%201586.00668002672%2C%201586.8679024716098%2C%201587.7291249164996%2C%201588.5903473613894%2C%201589.4515698062792%2C%201590.312792251169%2C%201591.1740146960587%2C%201592.0352371409485%2C%201592.8964595858383%2C%201593.7576820307281%2C%201594.618904475618%2C%201595.4801269205077%2C%201596.3413493653975%2C%201597.2025718102873%2C%201598.0637942551768%2C%201598.9250167000666%2C%201599.7862391449564%2C%201600.6474615898462%2C%201601.508684034736%2C%201602.3699064796258%2C%201603.2311289245156%2C%201604.0923513694054%2C%201604.9535738142952%2C%201605.814796259185%2C%201606.6760187040747%2C%201607.5372411489645%2C%201608.3984635938543%2C%201609.2596860387441%2C%201610.120908483634%2C%201610.9821309285237%2C%201611.8433533734135%2C%201612.7045758183033%2C%201613.565798263193%2C%201614.4270207080826%2C%201615.2882431529724%2C%201616.1494655978622%2C%201617.010688042752%2C%201617.8719104876418%2C%201618.7331329325316%2C%201619.5943553774214%2C%201620.4555778223112%2C%201621.316800267201%2C%201622.1780227120908%2C%201623.0392451569805%2C%201623.9004676018703%2C%201624.7616900467601%2C%201625.62291249165%2C%201626.4841349365397%2C%201627.3453573814295%2C%201628.2065798263193%2C%201629.067802271209%2C%201629.9290247160989%2C%201630.7902471609887%2C%201631.6514696058784%2C%201632.5126920507682%2C%201633.373914495658%2C%201634.2351369405476%2C%201635.0963593854374%2C%201635.9575818303272%2C%201636.818804275217%2C%201637.6800267201068%2C%201638.5412491649965%2C%201639.4024716098863%2C%201640.2636940547761%2C%201641.124916499666%2C%201641.9861389445557%2C%201642.8473613894455%2C%201643.7085838343353%2C%201644.569806279225%2C%201645.4310287241149%2C%201646.2922511690047%2C%201647.1534736138944%2C%201648.0146960587842%2C%201648.875918503674%2C%201649.7371409485638%2C%201650.5983633934534%2C%201651.4595858383432%2C%201652.320808283233%2C%201653.1820307281228%2C%201654.0432531730125%2C%201654.9044756179023%2C%201655.7656980627921%2C%201656.626920507682%2C%201657.4881429525717%2C%201658.3493653974615%2C%201659.2105878423513%2C%201660.071810287241%2C%201660.9330327321309%2C%201661.7942551770207%2C%201662.6554776219104%2C%201663.5167000668002%2C%201664.37792251169%2C%201665.2391449565798%2C%201666.1003674014696%2C%201666.9615898463594%2C%201667.8228122912492%2C%201668.684034736139%2C%201669.5452571810288%2C%201670.4064796259183%2C%201671.2677020708081%2C%201672.128924515698%2C%201672.9901469605877%2C%201673.8513694054775%2C%201674.7125918503673%2C%201675.573814295257%2C%201676.4350367401469%2C%201677.2962591850367%2C%201678.1574816299265%2C%201679.0187040748162%2C%201679.879926519706%2C%201680.7411489645958%2C%201681.6023714094856%2C%201682.4635938543754%2C%201683.3248162992652%2C%201684.186038744155%2C%201685.0472611890448%2C%201685.9084836339343%2C%201686.7697060788241%2C%201687.630928523714%2C%201688.4921509686037%2C%201689.3533734134935%2C%201690.2145958583833%2C%201691.075818303273%2C%201691.9370407481629%2C%201692.7982631930527%2C%201693.6594856379425%2C%201694.5207080828322%2C%201695.381930527722%2C%201696.2431529726118%2C%201697.1043754175016%2C%201697.9655978623914%2C%201698.8268203072812%2C%201699.688042752171%2C%201700.5492651970608%2C%201701.4104876419506%2C%201702.2717100868404%2C%201703.1329325317301%2C%201703.99415497662%2C%201704.8553774215097%2C%201705.7165998663993%2C%201706.577822311289%2C%201707.4390447561789%2C%201708.3002672010687%2C%201709.1614896459585%2C%201710.0227120908482%2C%201710.883934535738%2C%201711.7451569806278%2C%201712.6063794255176%2C%201713.4676018704074%2C%201714.3288243152972%2C%201715.190046760187%2C%201716.0512692050768%2C%201716.9124916499666%2C%201717.7737140948564%2C%201718.6349365397461%2C%201719.496158984636%2C%201720.3573814295257%2C%201721.2186038744155%2C%201722.079826319305%2C%201722.9410487641949%2C%201723.8022712090847%2C%201724.6634936539745%2C%201725.5247160988642%2C%201726.385938543754%2C%201727.2471609886438%2C%201728.1083834335336%2C%201728.9696058784234%2C%201729.8308283233132%2C%201730.692050768203%2C%201731.5532732130928%2C%201732.4144956579826%2C%201733.2757181028724%2C%201734.1369405477622%2C%201734.998162992652%2C%201735.8593854375417%2C%201736.7206078824315%2C%201737.5818303273213%2C%201738.443052772211%2C%201739.304275217101%2C%201740.1654976619907%2C%201741.0267201068805%2C%201741.88794255177%2C%201742.7491649966598%2C%201743.6103874415496%2C%201744.4716098864394%2C%201745.3328323313292%2C%201746.194054776219%2C%201747.0552772211088%2C%201747.9164996659986%2C%201748.7777221108884%2C%201749.6389445557782%2C%201750.500167000668%2C%201751.3613894455577%2C%201752.2226118904475%2C%201753.0838343353373%2C%201753.945056780227%2C%201754.806279225117%2C%201755.6675016700067%2C%201756.5287241148965%2C%201757.389946559786%2C%201758.2511690046758%2C%201759.1123914495656%2C%201759.9736138944554%2C%201760.8348363393452%2C%201761.696058784235%2C%201762.5572812291248%2C%201763.4185036740146%2C%201764.2797261189044%2C%201765.1409485637942%2C%201766.002171008684%2C%201766.8633934535737%2C%201767.7246158984635%2C%201768.5858383433533%2C%201769.447060788243%2C%201770.308283233133%2C%201771.1695056780227%2C%201772.0307281229125%2C%201772.8919505678023%2C%201773.753173012692%2C%201774.6143954575818%2C%201775.4756179024716%2C%201776.3368403473614%2C%201777.198062792251%2C%201778.0592852371408%2C%201778.9205076820306%2C%201779.7817301269204%2C%201780.6429525718102%2C%201781.5041750167%2C%201782.3653974615897%2C%201783.2266199064795%2C%201784.0878423513693%2C%201784.949064796259%2C%201785.810287241149%2C%201786.6715096860387%2C%201787.5327321309285%2C%201788.3939545758183%2C%201789.255177020708%2C%201790.1163994655979%2C%201790.9776219104876%2C%201791.8388443553772%2C%201792.700066800267%2C%201793.5612892451568%2C%201794.4225116900466%2C%201795.2837341349364%2C%201796.1449565798262%2C%201797.006179024716%2C%201797.8674014696057%2C%201798.7286239144955%2C%201799.5898463593853%2C%201800.451068804275%2C%201801.312291249165%2C%201802.1735136940547%2C%201803.0347361389445%2C%201803.8959585838343%2C%201804.757181028724%2C%201805.6184034736139%2C%201806.4796259185036%2C%201807.3408483633934%2C%201808.2020708082832%2C%201809.063293253173%2C%201809.9245156980628%2C%201810.7857381429526%2C%201811.6469605878424%2C%201812.5081830327322%2C%201813.369405477622%2C%201814.2306279225115%2C%201815.0918503674013%2C%201815.953072812291%2C%201816.814295257181%2C%201817.6755177020707%2C%201818.5367401469605%2C%201819.3979625918503%2C%201820.25918503674%2C%201821.1204074816299%2C%201821.9816299265196%2C%201822.8428523714094%2C%201823.7040748162992%2C%201824.565297261189%2C%201825.4265197060788%2C%201826.2877421509686%2C%201827.1489645958584%2C%201828.010187040748%2C%201828.8714094856377%2C%201829.7326319305275%2C%201830.5938543754173%2C%201831.455076820307%2C%201832.316299265197%2C%201833.1775217100867%2C%201834.0387441549765%2C%201834.8999665998663%2C%201835.761189044756%2C%201836.6224114896459%2C%201837.4836339345356%2C%201838.3448563794254%2C%201839.2060788243152%2C%201840.067301269205%2C%201840.9285237140948%2C%201841.7897461589846%2C%201842.6509686038744%2C%201843.5121910487642%2C%201844.373413493654%2C%201845.2346359385438%2C%201846.0958583834336%2C%201846.9570808283233%2C%201847.8183032732131%2C%201848.679525718103%2C%201849.5407481629927%2C%201850.4019706078823%2C%201851.263193052772%2C%201852.1244154976619%2C%201852.9856379425516%2C%201853.8468603874414%2C%201854.7080828323312%2C%201855.569305277221%2C%201856.4305277221108%2C%201857.2917501670006%2C%201858.1529726118904%2C%201859.0141950567802%2C%201859.87541750167%2C%201860.7366399465598%2C%201861.5978623914496%2C%201862.4590848363393%2C%201863.3203072812291%2C%201864.1815297261187%2C%201865.0427521710085%2C%201865.9039746158983%2C%201866.765197060788%2C%201867.6264195056779%2C%201868.4876419505676%2C%201869.3488643954574%2C%201870.2100868403472%2C%201871.071309285237%2C%201871.9325317301268%2C%201872.7937541750166%2C%201873.6549766199064%2C%201874.5161990647962%2C%201875.377421509686%2C%201876.2386439545758%2C%201877.0998663994656%2C%201877.9610888443553%2C%201878.8223112892451%2C%201879.683533734135%2C%201880.5447561790247%2C%201881.4059786239145%2C%201882.2672010688043%2C%201883.128423513694%2C%201883.9896459585839%2C%201884.8508684034737%2C%201885.7120908483635%2C%201886.573313293253%2C%201887.4345357381428%2C%201888.2957581830326%2C%201889.1569806279224%2C%201890.0182030728122%2C%201890.879425517702%2C%201891.7406479625918%2C%201892.6018704074816%2C%201893.4630928523713%2C%201894.3243152972611%2C%201895.185537742151%2C%201896.0467601870407%2C%201896.9079826319305%2C%201897.7692050768203%2C%201898.63042752171%2C%201899.4916499665997%2C%201900.3528724114894%2C%201901.2140948563792%2C%201902.075317301269%2C%201902.9365397461588%2C%201903.7977621910486%2C%201904.6589846359384%2C%201905.5202070808282%2C%201906.381429525718%2C%201907.2426519706078%2C%201908.1038744154976%2C%201908.9650968603873%2C%201909.8263193052771%2C%201910.687541750167%2C%201911.5487641950567%2C%201912.4099866399465%2C%201913.2712090848363%2C%201914.132431529726%2C%201914.9936539746159%2C%201915.8548764195057%2C%201916.7160988643955%2C%201917.5773213092853%2C%201918.438543754175%2C%201919.2997661990648%2C%201920.1609886439546%2C%201921.0222110888444%2C%201921.883433533734%2C%201922.7446559786238%2C%201923.6058784235136%2C%201924.4671008684033%2C%201925.3283233132931%2C%201926.189545758183%2C%201927.0507682030727%2C%201927.9119906479625%2C%201928.7732130928523%2C%201929.634435537742%2C%201930.4956579826319%2C%201931.3568804275217%2C%201932.2181028724115%2C%201933.0793253173013%2C%201933.940547762191%2C%201934.8017702070808%2C%201935.6629926519704%2C%201936.5242150968602%2C%201937.38543754175%2C%201938.2466599866398%2C%201939.1078824315296%2C%201939.9691048764194%2C%201940.8303273213091%2C%201941.691549766199%2C%201942.5527722110887%2C%201943.4139946559785%2C%201944.2752171008683%2C%201945.136439545758%2C%201945.9976619906479%2C%201946.8588844355377%2C%201947.7201068804275%2C%201948.5813293253173%2C%201949.442551770207%2C%201950.3037742150968%2C%201951.1649966599866%2C%201952.0262191048764%2C%201952.8874415497662%2C%201953.748663994656%2C%201954.6098864395458%2C%201955.4711088844356%2C%201956.3323313293254%2C%201957.1935537742152%2C%201958.0547762191047%2C%201958.9159986639945%2C%201959.7772211088843%2C%201960.638443553774%2C%201961.4996659986639%2C%201962.3608884435537%2C%201963.2221108884435%2C%201964.0833333333333%5D%29%0A%20%20%20%20%20%20%20%20%20%20%20%20%20%20.range%28%5B%27%23f1eef6ff%27%2C%20%27%23f1eef6ff%27%2C%20%27%23f1eef6ff%27%2C%20%27%23f1eef6ff%27%2C%20%27%23f1eef6ff%27%2C%20%27%23f1eef6ff%27%2C%20%27%23f1eef6ff%27%2C%20%27%23f1eef6ff%27%2C%20%27%23f1eef6ff%27%2C%20%27%23f1eef6ff%27%2C%20%27%23f1eef6ff%27%2C%20%27%23f1eef6ff%27%2C%20%27%23f1eef6ff%27%2C%20%27%23f1eef6ff%27%2C%20%27%23f1eef6ff%27%2C%20%27%23f1eef6ff%27%2C%20%27%23f1eef6ff%27%2C%20%27%23f1eef6ff%27%2C%20%27%23f1eef6ff%27%2C%20%27%23f1eef6ff%27%2C%20%27%23f1eef6ff%27%2C%20%27%23f1eef6ff%27%2C%20%27%23f1eef6ff%27%2C%20%27%23f1eef6ff%27%2C%20%27%23f1eef6ff%27%2C%20%27%23f1eef6ff%27%2C%20%27%23f1eef6ff%27%2C%20%27%23f1eef6ff%27%2C%20%27%23f1eef6ff%27%2C%20%27%23f1eef6ff%27%2C%20%27%23f1eef6ff%27%2C%20%27%23f1eef6ff%27%2C%20%27%23f1eef6ff%27%2C%20%27%23f1eef6ff%27%2C%20%27%23f1eef6ff%27%2C%20%27%23f1eef6ff%27%2C%20%27%23f1eef6ff%27%2C%20%27%23f1eef6ff%27%2C%20%27%23f1eef6ff%27%2C%20%27%23f1eef6ff%27%2C%20%27%23f1eef6ff%27%2C%20%27%23f1eef6ff%27%2C%20%27%23f1eef6ff%27%2C%20%27%23f1eef6ff%27%2C%20%27%23f1eef6ff%27%2C%20%27%23f1eef6ff%27%2C%20%27%23f1eef6ff%27%2C%20%27%23f1eef6ff%27%2C%20%27%23f1eef6ff%27%2C%20%27%23f1eef6ff%27%2C%20%27%23f1eef6ff%27%2C%20%27%23f1eef6ff%27%2C%20%27%23f1eef6ff%27%2C%20%27%23f1eef6ff%27%2C%20%27%23f1eef6ff%27%2C%20%27%23f1eef6ff%27%2C%20%27%23f1eef6ff%27%2C%20%27%23f1eef6ff%27%2C%20%27%23f1eef6ff%27%2C%20%27%23f1eef6ff%27%2C%20%27%23f1eef6ff%27%2C%20%27%23f1eef6ff%27%2C%20%27%23f1eef6ff%27%2C%20%27%23f1eef6ff%27%2C%20%27%23f1eef6ff%27%2C%20%27%23f1eef6ff%27%2C%20%27%23f1eef6ff%27%2C%20%27%23f1eef6ff%27%2C%20%27%23f1eef6ff%27%2C%20%27%23f1eef6ff%27%2C%20%27%23f1eef6ff%27%2C%20%27%23f1eef6ff%27%2C%20%27%23f1eef6ff%27%2C%20%27%23f1eef6ff%27%2C%20%27%23f1eef6ff%27%2C%20%27%23f1eef6ff%27%2C%20%27%23f1eef6ff%27%2C%20%27%23f1eef6ff%27%2C%20%27%23f1eef6ff%27%2C%20%27%23f1eef6ff%27%2C%20%27%23f1eef6ff%27%2C%20%27%23f1eef6ff%27%2C%20%27%23f1eef6ff%27%2C%20%27%23f1eef6ff%27%2C%20%27%23d4b9daff%27%2C%20%27%23d4b9daff%27%2C%20%27%23d4b9daff%27%2C%20%27%23d4b9daff%27%2C%20%27%23d4b9daff%27%2C%20%27%23d4b9daff%27%2C%20%27%23d4b9daff%27%2C%20%27%23d4b9daff%27%2C%20%27%23d4b9daff%27%2C%20%27%23d4b9daff%27%2C%20%27%23d4b9daff%27%2C%20%27%23d4b9daff%27%2C%20%27%23d4b9daff%27%2C%20%27%23d4b9daff%27%2C%20%27%23d4b9daff%27%2C%20%27%23d4b9daff%27%2C%20%27%23d4b9daff%27%2C%20%27%23d4b9daff%27%2C%20%27%23d4b9daff%27%2C%20%27%23d4b9daff%27%2C%20%27%23d4b9daff%27%2C%20%27%23d4b9daff%27%2C%20%27%23d4b9daff%27%2C%20%27%23d4b9daff%27%2C%20%27%23d4b9daff%27%2C%20%27%23d4b9daff%27%2C%20%27%23d4b9daff%27%2C%20%27%23d4b9daff%27%2C%20%27%23d4b9daff%27%2C%20%27%23d4b9daff%27%2C%20%27%23d4b9daff%27%2C%20%27%23d4b9daff%27%2C%20%27%23d4b9daff%27%2C%20%27%23d4b9daff%27%2C%20%27%23d4b9daff%27%2C%20%27%23d4b9daff%27%2C%20%27%23d4b9daff%27%2C%20%27%23d4b9daff%27%2C%20%27%23d4b9daff%27%2C%20%27%23d4b9daff%27%2C%20%27%23d4b9daff%27%2C%20%27%23d4b9daff%27%2C%20%27%23d4b9daff%27%2C%20%27%23d4b9daff%27%2C%20%27%23d4b9daff%27%2C%20%27%23d4b9daff%27%2C%20%27%23d4b9daff%27%2C%20%27%23d4b9daff%27%2C%20%27%23d4b9daff%27%2C%20%27%23d4b9daff%27%2C%20%27%23d4b9daff%27%2C%20%27%23d4b9daff%27%2C%20%27%23d4b9daff%27%2C%20%27%23d4b9daff%27%2C%20%27%23d4b9daff%27%2C%20%27%23d4b9daff%27%2C%20%27%23d4b9daff%27%2C%20%27%23d4b9daff%27%2C%20%27%23d4b9daff%27%2C%20%27%23d4b9daff%27%2C%20%27%23d4b9daff%27%2C%20%27%23d4b9daff%27%2C%20%27%23d4b9daff%27%2C%20%27%23d4b9daff%27%2C%20%27%23d4b9daff%27%2C%20%27%23d4b9daff%27%2C%20%27%23d4b9daff%27%2C%20%27%23d4b9daff%27%2C%20%27%23d4b9daff%27%2C%20%27%23d4b9daff%27%2C%20%27%23d4b9daff%27%2C%20%27%23d4b9daff%27%2C%20%27%23d4b9daff%27%2C%20%27%23d4b9daff%27%2C%20%27%23d4b9daff%27%2C%20%27%23d4b9daff%27%2C%20%27%23d4b9daff%27%2C%20%27%23d4b9daff%27%2C%20%27%23d4b9daff%27%2C%20%27%23d4b9daff%27%2C%20%27%23d4b9daff%27%2C%20%27%23d4b9daff%27%2C%20%27%23d4b9daff%27%2C%20%27%23c994c7ff%27%2C%20%27%23c994c7ff%27%2C%20%27%23c994c7ff%27%2C%20%27%23c994c7ff%27%2C%20%27%23c994c7ff%27%2C%20%27%23c994c7ff%27%2C%20%27%23c994c7ff%27%2C%20%27%23c994c7ff%27%2C%20%27%23c994c7ff%27%2C%20%27%23c994c7ff%27%2C%20%27%23c994c7ff%27%2C%20%27%23c994c7ff%27%2C%20%27%23c994c7ff%27%2C%20%27%23c994c7ff%27%2C%20%27%23c994c7ff%27%2C%20%27%23c994c7ff%27%2C%20%27%23c994c7ff%27%2C%20%27%23c994c7ff%27%2C%20%27%23c994c7ff%27%2C%20%27%23c994c7ff%27%2C%20%27%23c994c7ff%27%2C%20%27%23c994c7ff%27%2C%20%27%23c994c7ff%27%2C%20%27%23c994c7ff%27%2C%20%27%23c994c7ff%27%2C%20%27%23c994c7ff%27%2C%20%27%23c994c7ff%27%2C%20%27%23c994c7ff%27%2C%20%27%23c994c7ff%27%2C%20%27%23c994c7ff%27%2C%20%27%23c994c7ff%27%2C%20%27%23c994c7ff%27%2C%20%27%23c994c7ff%27%2C%20%27%23c994c7ff%27%2C%20%27%23c994c7ff%27%2C%20%27%23c994c7ff%27%2C%20%27%23c994c7ff%27%2C%20%27%23c994c7ff%27%2C%20%27%23c994c7ff%27%2C%20%27%23c994c7ff%27%2C%20%27%23c994c7ff%27%2C%20%27%23c994c7ff%27%2C%20%27%23c994c7ff%27%2C%20%27%23c994c7ff%27%2C%20%27%23c994c7ff%27%2C%20%27%23c994c7ff%27%2C%20%27%23c994c7ff%27%2C%20%27%23c994c7ff%27%2C%20%27%23c994c7ff%27%2C%20%27%23c994c7ff%27%2C%20%27%23c994c7ff%27%2C%20%27%23c994c7ff%27%2C%20%27%23c994c7ff%27%2C%20%27%23c994c7ff%27%2C%20%27%23c994c7ff%27%2C%20%27%23c994c7ff%27%2C%20%27%23c994c7ff%27%2C%20%27%23c994c7ff%27%2C%20%27%23c994c7ff%27%2C%20%27%23c994c7ff%27%2C%20%27%23c994c7ff%27%2C%20%27%23c994c7ff%27%2C%20%27%23c994c7ff%27%2C%20%27%23c994c7ff%27%2C%20%27%23c994c7ff%27%2C%20%27%23c994c7ff%27%2C%20%27%23c994c7ff%27%2C%20%27%23c994c7ff%27%2C%20%27%23c994c7ff%27%2C%20%27%23c994c7ff%27%2C%20%27%23c994c7ff%27%2C%20%27%23c994c7ff%27%2C%20%27%23c994c7ff%27%2C%20%27%23c994c7ff%27%2C%20%27%23c994c7ff%27%2C%20%27%23c994c7ff%27%2C%20%27%23c994c7ff%27%2C%20%27%23c994c7ff%27%2C%20%27%23c994c7ff%27%2C%20%27%23c994c7ff%27%2C%20%27%23c994c7ff%27%2C%20%27%23c994c7ff%27%2C%20%27%23c994c7ff%27%2C%20%27%23df65b0ff%27%2C%20%27%23df65b0ff%27%2C%20%27%23df65b0ff%27%2C%20%27%23df65b0ff%27%2C%20%27%23df65b0ff%27%2C%20%27%23df65b0ff%27%2C%20%27%23df65b0ff%27%2C%20%27%23df65b0ff%27%2C%20%27%23df65b0ff%27%2C%20%27%23df65b0ff%27%2C%20%27%23df65b0ff%27%2C%20%27%23df65b0ff%27%2C%20%27%23df65b0ff%27%2C%20%27%23df65b0ff%27%2C%20%27%23df65b0ff%27%2C%20%27%23df65b0ff%27%2C%20%27%23df65b0ff%27%2C%20%27%23df65b0ff%27%2C%20%27%23df65b0ff%27%2C%20%27%23df65b0ff%27%2C%20%27%23df65b0ff%27%2C%20%27%23df65b0ff%27%2C%20%27%23df65b0ff%27%2C%20%27%23df65b0ff%27%2C%20%27%23df65b0ff%27%2C%20%27%23df65b0ff%27%2C%20%27%23df65b0ff%27%2C%20%27%23df65b0ff%27%2C%20%27%23df65b0ff%27%2C%20%27%23df65b0ff%27%2C%20%27%23df65b0ff%27%2C%20%27%23df65b0ff%27%2C%20%27%23df65b0ff%27%2C%20%27%23df65b0ff%27%2C%20%27%23df65b0ff%27%2C%20%27%23df65b0ff%27%2C%20%27%23df65b0ff%27%2C%20%27%23df65b0ff%27%2C%20%27%23df65b0ff%27%2C%20%27%23df65b0ff%27%2C%20%27%23df65b0ff%27%2C%20%27%23df65b0ff%27%2C%20%27%23df65b0ff%27%2C%20%27%23df65b0ff%27%2C%20%27%23df65b0ff%27%2C%20%27%23df65b0ff%27%2C%20%27%23df65b0ff%27%2C%20%27%23df65b0ff%27%2C%20%27%23df65b0ff%27%2C%20%27%23df65b0ff%27%2C%20%27%23df65b0ff%27%2C%20%27%23df65b0ff%27%2C%20%27%23df65b0ff%27%2C%20%27%23df65b0ff%27%2C%20%27%23df65b0ff%27%2C%20%27%23df65b0ff%27%2C%20%27%23df65b0ff%27%2C%20%27%23df65b0ff%27%2C%20%27%23df65b0ff%27%2C%20%27%23df65b0ff%27%2C%20%27%23df65b0ff%27%2C%20%27%23df65b0ff%27%2C%20%27%23df65b0ff%27%2C%20%27%23df65b0ff%27%2C%20%27%23df65b0ff%27%2C%20%27%23df65b0ff%27%2C%20%27%23df65b0ff%27%2C%20%27%23df65b0ff%27%2C%20%27%23df65b0ff%27%2C%20%27%23df65b0ff%27%2C%20%27%23df65b0ff%27%2C%20%27%23df65b0ff%27%2C%20%27%23df65b0ff%27%2C%20%27%23df65b0ff%27%2C%20%27%23df65b0ff%27%2C%20%27%23df65b0ff%27%2C%20%27%23df65b0ff%27%2C%20%27%23df65b0ff%27%2C%20%27%23df65b0ff%27%2C%20%27%23df65b0ff%27%2C%20%27%23df65b0ff%27%2C%20%27%23df65b0ff%27%2C%20%27%23df65b0ff%27%2C%20%27%23dd1c77ff%27%2C%20%27%23dd1c77ff%27%2C%20%27%23dd1c77ff%27%2C%20%27%23dd1c77ff%27%2C%20%27%23dd1c77ff%27%2C%20%27%23dd1c77ff%27%2C%20%27%23dd1c77ff%27%2C%20%27%23dd1c77ff%27%2C%20%27%23dd1c77ff%27%2C%20%27%23dd1c77ff%27%2C%20%27%23dd1c77ff%27%2C%20%27%23dd1c77ff%27%2C%20%27%23dd1c77ff%27%2C%20%27%23dd1c77ff%27%2C%20%27%23dd1c77ff%27%2C%20%27%23dd1c77ff%27%2C%20%27%23dd1c77ff%27%2C%20%27%23dd1c77ff%27%2C%20%27%23dd1c77ff%27%2C%20%27%23dd1c77ff%27%2C%20%27%23dd1c77ff%27%2C%20%27%23dd1c77ff%27%2C%20%27%23dd1c77ff%27%2C%20%27%23dd1c77ff%27%2C%20%27%23dd1c77ff%27%2C%20%27%23dd1c77ff%27%2C%20%27%23dd1c77ff%27%2C%20%27%23dd1c77ff%27%2C%20%27%23dd1c77ff%27%2C%20%27%23dd1c77ff%27%2C%20%27%23dd1c77ff%27%2C%20%27%23dd1c77ff%27%2C%20%27%23dd1c77ff%27%2C%20%27%23dd1c77ff%27%2C%20%27%23dd1c77ff%27%2C%20%27%23dd1c77ff%27%2C%20%27%23dd1c77ff%27%2C%20%27%23dd1c77ff%27%2C%20%27%23dd1c77ff%27%2C%20%27%23dd1c77ff%27%2C%20%27%23dd1c77ff%27%2C%20%27%23dd1c77ff%27%2C%20%27%23dd1c77ff%27%2C%20%27%23dd1c77ff%27%2C%20%27%23dd1c77ff%27%2C%20%27%23dd1c77ff%27%2C%20%27%23dd1c77ff%27%2C%20%27%23dd1c77ff%27%2C%20%27%23dd1c77ff%27%2C%20%27%23dd1c77ff%27%2C%20%27%23dd1c77ff%27%2C%20%27%23dd1c77ff%27%2C%20%27%23dd1c77ff%27%2C%20%27%23dd1c77ff%27%2C%20%27%23dd1c77ff%27%2C%20%27%23dd1c77ff%27%2C%20%27%23dd1c77ff%27%2C%20%27%23dd1c77ff%27%2C%20%27%23dd1c77ff%27%2C%20%27%23dd1c77ff%27%2C%20%27%23dd1c77ff%27%2C%20%27%23dd1c77ff%27%2C%20%27%23dd1c77ff%27%2C%20%27%23dd1c77ff%27%2C%20%27%23dd1c77ff%27%2C%20%27%23dd1c77ff%27%2C%20%27%23dd1c77ff%27%2C%20%27%23dd1c77ff%27%2C%20%27%23dd1c77ff%27%2C%20%27%23dd1c77ff%27%2C%20%27%23dd1c77ff%27%2C%20%27%23dd1c77ff%27%2C%20%27%23dd1c77ff%27%2C%20%27%23dd1c77ff%27%2C%20%27%23dd1c77ff%27%2C%20%27%23dd1c77ff%27%2C%20%27%23dd1c77ff%27%2C%20%27%23dd1c77ff%27%2C%20%27%23dd1c77ff%27%2C%20%27%23dd1c77ff%27%2C%20%27%23dd1c77ff%27%2C%20%27%23dd1c77ff%27%2C%20%27%23dd1c77ff%27%2C%20%27%23980043ff%27%2C%20%27%23980043ff%27%2C%20%27%23980043ff%27%2C%20%27%23980043ff%27%2C%20%27%23980043ff%27%2C%20%27%23980043ff%27%2C%20%27%23980043ff%27%2C%20%27%23980043ff%27%2C%20%27%23980043ff%27%2C%20%27%23980043ff%27%2C%20%27%23980043ff%27%2C%20%27%23980043ff%27%2C%20%27%23980043ff%27%2C%20%27%23980043ff%27%2C%20%27%23980043ff%27%2C%20%27%23980043ff%27%2C%20%27%23980043ff%27%2C%20%27%23980043ff%27%2C%20%27%23980043ff%27%2C%20%27%23980043ff%27%2C%20%27%23980043ff%27%2C%20%27%23980043ff%27%2C%20%27%23980043ff%27%2C%20%27%23980043ff%27%2C%20%27%23980043ff%27%2C%20%27%23980043ff%27%2C%20%27%23980043ff%27%2C%20%27%23980043ff%27%2C%20%27%23980043ff%27%2C%20%27%23980043ff%27%2C%20%27%23980043ff%27%2C%20%27%23980043ff%27%2C%20%27%23980043ff%27%2C%20%27%23980043ff%27%2C%20%27%23980043ff%27%2C%20%27%23980043ff%27%2C%20%27%23980043ff%27%2C%20%27%23980043ff%27%2C%20%27%23980043ff%27%2C%20%27%23980043ff%27%2C%20%27%23980043ff%27%2C%20%27%23980043ff%27%2C%20%27%23980043ff%27%2C%20%27%23980043ff%27%2C%20%27%23980043ff%27%2C%20%27%23980043ff%27%2C%20%27%23980043ff%27%2C%20%27%23980043ff%27%2C%20%27%23980043ff%27%2C%20%27%23980043ff%27%2C%20%27%23980043ff%27%2C%20%27%23980043ff%27%2C%20%27%23980043ff%27%2C%20%27%23980043ff%27%2C%20%27%23980043ff%27%2C%20%27%23980043ff%27%2C%20%27%23980043ff%27%2C%20%27%23980043ff%27%2C%20%27%23980043ff%27%2C%20%27%23980043ff%27%2C%20%27%23980043ff%27%2C%20%27%23980043ff%27%2C%20%27%23980043ff%27%2C%20%27%23980043ff%27%2C%20%27%23980043ff%27%2C%20%27%23980043ff%27%2C%20%27%23980043ff%27%2C%20%27%23980043ff%27%2C%20%27%23980043ff%27%2C%20%27%23980043ff%27%2C%20%27%23980043ff%27%2C%20%27%23980043ff%27%2C%20%27%23980043ff%27%2C%20%27%23980043ff%27%2C%20%27%23980043ff%27%2C%20%27%23980043ff%27%2C%20%27%23980043ff%27%2C%20%27%23980043ff%27%2C%20%27%23980043ff%27%2C%20%27%23980043ff%27%2C%20%27%23980043ff%27%2C%20%27%23980043ff%27%2C%20%27%23980043ff%27%2C%20%27%23980043ff%27%5D%29%3B%0A%20%20%20%20%0A%0A%20%20%20%20color_map_c9a4e421bd324d92a62834f9191feff0.x%20%3D%20d3.scale.linear%28%29%0A%20%20%20%20%20%20%20%20%20%20%20%20%20%20.domain%28%5B1534.3333333333333%2C%201964.0833333333333%5D%29%0A%20%20%20%20%20%20%20%20%20%20%20%20%20%20.range%28%5B0%2C%20400%5D%29%3B%0A%0A%20%20%20%20color_map_c9a4e421bd324d92a62834f9191feff0.legend%20%3D%20L.control%28%7Bposition%3A%20%27topright%27%7D%29%3B%0A%20%20%20%20color_map_c9a4e421bd324d92a62834f9191feff0.legend.onAdd%20%3D%20function%20%28map%29%20%7Bvar%20div%20%3D%20L.DomUtil.create%28%27div%27%2C%20%27legend%27%29%3B%20return%20div%7D%3B%0A%20%20%20%20color_map_c9a4e421bd324d92a62834f9191feff0.legend.addTo%28map_c85ffe5c82a043eda3758bc4be708029%29%3B%0A%0A%20%20%20%20color_map_c9a4e421bd324d92a62834f9191feff0.xAxis%20%3D%20d3.svg.axis%28%29%0A%20%20%20%20%20%20%20%20.scale%28color_map_c9a4e421bd324d92a62834f9191feff0.x%29%0A%20%20%20%20%20%20%20%20.orient%28%22top%22%29%0A%20%20%20%20%20%20%20%20.tickSize%281%29%0A%20%20%20%20%20%20%20%20.tickValues%28%5B1534.3333333333333%2C%201605.9583333333333%2C%201677.5833333333333%2C%201749.2083333333333%2C%201820.8333333333333%2C%201892.4583333333333%2C%201964.0833333333333%5D%29%3B%0A%0A%20%20%20%20color_map_c9a4e421bd324d92a62834f9191feff0.svg%20%3D%20d3.select%28%22.legend.leaflet-control%22%29.append%28%22svg%22%29%0A%20%20%20%20%20%20%20%20.attr%28%22id%22%2C%20%27legend%27%29%0A%20%20%20%20%20%20%20%20.attr%28%22width%22%2C%20450%29%0A%20%20%20%20%20%20%20%20.attr%28%22height%22%2C%2040%29%3B%0A%0A%20%20%20%20color_map_c9a4e421bd324d92a62834f9191feff0.g%20%3D%20color_map_c9a4e421bd324d92a62834f9191feff0.svg.append%28%22g%22%29%0A%20%20%20%20%20%20%20%20.attr%28%22class%22%2C%20%22key%22%29%0A%20%20%20%20%20%20%20%20.attr%28%22transform%22%2C%20%22translate%2825%2C16%29%22%29%3B%0A%0A%20%20%20%20color_map_c9a4e421bd324d92a62834f9191feff0.g.selectAll%28%22rect%22%29%0A%20%20%20%20%20%20%20%20.data%28color_map_c9a4e421bd324d92a62834f9191feff0.color.range%28%29.map%28function%28d%2C%20i%29%20%7B%0A%20%20%20%20%20%20%20%20%20%20return%20%7B%0A%20%20%20%20%20%20%20%20%20%20%20%20x0%3A%20i%20%3F%20color_map_c9a4e421bd324d92a62834f9191feff0.x%28color_map_c9a4e421bd324d92a62834f9191feff0.color.domain%28%29%5Bi%20-%201%5D%29%20%3A%20color_map_c9a4e421bd324d92a62834f9191feff0.x.range%28%29%5B0%5D%2C%0A%20%20%20%20%20%20%20%20%20%20%20%20x1%3A%20i%20%3C%20color_map_c9a4e421bd324d92a62834f9191feff0.color.domain%28%29.length%20%3F%20color_map_c9a4e421bd324d92a62834f9191feff0.x%28color_map_c9a4e421bd324d92a62834f9191feff0.color.domain%28%29%5Bi%5D%29%20%3A%20color_map_c9a4e421bd324d92a62834f9191feff0.x.range%28%29%5B1%5D%2C%0A%20%20%20%20%20%20%20%20%20%20%20%20z%3A%20d%0A%20%20%20%20%20%20%20%20%20%20%7D%3B%0A%20%20%20%20%20%20%20%20%7D%29%29%0A%20%20%20%20%20%20.enter%28%29.append%28%22rect%22%29%0A%20%20%20%20%20%20%20%20.attr%28%22height%22%2C%2010%29%0A%20%20%20%20%20%20%20%20.attr%28%22x%22%2C%20function%28d%29%20%7B%20return%20d.x0%3B%20%7D%29%0A%20%20%20%20%20%20%20%20.attr%28%22width%22%2C%20function%28d%29%20%7B%20return%20d.x1%20-%20d.x0%3B%20%7D%29%0A%20%20%20%20%20%20%20%20.style%28%22fill%22%2C%20function%28d%29%20%7B%20return%20d.z%3B%20%7D%29%3B%0A%0A%20%20%20%20color_map_c9a4e421bd324d92a62834f9191feff0.g.call%28color_map_c9a4e421bd324d92a62834f9191feff0.xAxis%29.append%28%22text%22%29%0A%20%20%20%20%20%20%20%20.attr%28%22class%22%2C%20%22caption%22%29%0A%20%20%20%20%20%20%20%20.attr%28%22y%22%2C%2021%29%0A%20%20%20%20%20%20%20%20.text%28%27%27%29%3B%0A%3C/script%3E onload=\"this.contentDocument.open();this.contentDocument.write(    decodeURIComponent(this.getAttribute('data-html')));this.contentDocument.close();\" allowfullscreen webkitallowfullscreen mozallowfullscreen></iframe></div></div>"
      ],
      "text/plain": [
       "<folium.folium.Map at 0x28f3a91ca60>"
      ]
     },
     "execution_count": 63,
     "metadata": {},
     "output_type": "execute_result"
    }
   ],
   "source": [
    "geo_path = '../data/02. skorea_municipalities_geo_simple.json'\n",
    "geo_str = json.load(open(geo_path, encoding='utf-8'))\n",
    "\n",
    "map = folium.Map(location=[37.5502, 126.982], zoom_start=10.5, \n",
    "                 tiles='Stamen Toner')\n",
    "\n",
    "map.choropleth(geo_data = geo_str,\n",
    "               data = gu_data,\n",
    "               columns=[gu_data.index, '가격'],\n",
    "               fill_color='PuRd', #PuRd, YlGnBu\n",
    "               key_on='feature.id')\n",
    "map"
   ]
  },
  {
   "cell_type": "markdown",
   "metadata": {},
   "source": [
    "## 4-6 서울시 주유 가격 상하위 10개 주유소 지도에 표기하기"
   ]
  },
  {
   "cell_type": "code",
   "execution_count": 64,
   "metadata": {},
   "outputs": [
    {
     "data": {
      "text/html": [
       "<div>\n",
       "<style scoped>\n",
       "    .dataframe tbody tr th:only-of-type {\n",
       "        vertical-align: middle;\n",
       "    }\n",
       "\n",
       "    .dataframe tbody tr th {\n",
       "        vertical-align: top;\n",
       "    }\n",
       "\n",
       "    .dataframe thead th {\n",
       "        text-align: right;\n",
       "    }\n",
       "</style>\n",
       "<table border=\"1\" class=\"dataframe\">\n",
       "  <thead>\n",
       "    <tr style=\"text-align: right;\">\n",
       "      <th></th>\n",
       "      <th>Oil_store</th>\n",
       "      <th>주소</th>\n",
       "      <th>가격</th>\n",
       "      <th>셀프</th>\n",
       "      <th>상표</th>\n",
       "      <th>구</th>\n",
       "    </tr>\n",
       "  </thead>\n",
       "  <tbody>\n",
       "    <tr>\n",
       "      <th>325</th>\n",
       "      <td>서남주유소</td>\n",
       "      <td>서울 중구 통일로 30 (봉래동1가)</td>\n",
       "      <td>2132.0</td>\n",
       "      <td>N</td>\n",
       "      <td>SK에너지</td>\n",
       "      <td>중구</td>\n",
       "    </tr>\n",
       "    <tr>\n",
       "      <th>324</th>\n",
       "      <td>장충주유소</td>\n",
       "      <td>서울 중구 장충단로 202 (장충동1가)</td>\n",
       "      <td>2130.0</td>\n",
       "      <td>N</td>\n",
       "      <td>SK에너지</td>\n",
       "      <td>중구</td>\n",
       "    </tr>\n",
       "    <tr>\n",
       "      <th>124</th>\n",
       "      <td>양재주유소</td>\n",
       "      <td>서울 서초구 바우뫼로 178 (양재동)</td>\n",
       "      <td>2128.0</td>\n",
       "      <td>N</td>\n",
       "      <td>SK에너지</td>\n",
       "      <td>서초구</td>\n",
       "    </tr>\n",
       "    <tr>\n",
       "      <th>532</th>\n",
       "      <td>뉴서울(강남)</td>\n",
       "      <td>서울 강남구 언주로 716 (논현동)</td>\n",
       "      <td>2120.0</td>\n",
       "      <td>N</td>\n",
       "      <td>SK에너지</td>\n",
       "      <td>강남구</td>\n",
       "    </tr>\n",
       "    <tr>\n",
       "      <th>531</th>\n",
       "      <td>오천주유소</td>\n",
       "      <td>서울 강남구 봉은사로 503 (삼성동)</td>\n",
       "      <td>2107.0</td>\n",
       "      <td>N</td>\n",
       "      <td>SK에너지</td>\n",
       "      <td>강남구</td>\n",
       "    </tr>\n",
       "    <tr>\n",
       "      <th>313</th>\n",
       "      <td>재동주유소</td>\n",
       "      <td>서울특별시 종로구  율곡로 58 (경운동)</td>\n",
       "      <td>2106.0</td>\n",
       "      <td>N</td>\n",
       "      <td>SK에너지</td>\n",
       "      <td>종로구</td>\n",
       "    </tr>\n",
       "    <tr>\n",
       "      <th>285</th>\n",
       "      <td>청파주유소</td>\n",
       "      <td>서울특별시 용산구  청파로 311 (청파동1가)</td>\n",
       "      <td>2106.0</td>\n",
       "      <td>N</td>\n",
       "      <td>SK에너지</td>\n",
       "      <td>용산구</td>\n",
       "    </tr>\n",
       "    <tr>\n",
       "      <th>284</th>\n",
       "      <td>갈월동주유소</td>\n",
       "      <td>서울특별시 용산구  한강대로 322 (갈월동)</td>\n",
       "      <td>2106.0</td>\n",
       "      <td>N</td>\n",
       "      <td>SK에너지</td>\n",
       "      <td>용산구</td>\n",
       "    </tr>\n",
       "    <tr>\n",
       "      <th>283</th>\n",
       "      <td>강변주유소</td>\n",
       "      <td>서울특별시 용산구  원효로 9 (청암동)</td>\n",
       "      <td>2106.0</td>\n",
       "      <td>N</td>\n",
       "      <td>SK에너지</td>\n",
       "      <td>용산구</td>\n",
       "    </tr>\n",
       "    <tr>\n",
       "      <th>323</th>\n",
       "      <td>통일주유소</td>\n",
       "      <td>서울 중구 동호로 296 (장충동2가)</td>\n",
       "      <td>2106.0</td>\n",
       "      <td>N</td>\n",
       "      <td>SK에너지</td>\n",
       "      <td>중구</td>\n",
       "    </tr>\n",
       "  </tbody>\n",
       "</table>\n",
       "</div>"
      ],
      "text/plain": [
       "    Oil_store                          주소      가격 셀프     상표    구\n",
       "325     서남주유소        서울 중구 통일로 30 (봉래동1가)  2132.0  N  SK에너지   중구\n",
       "324     장충주유소      서울 중구 장충단로 202 (장충동1가)  2130.0  N  SK에너지   중구\n",
       "124     양재주유소       서울 서초구 바우뫼로 178 (양재동)  2128.0  N  SK에너지  서초구\n",
       "532   뉴서울(강남)        서울 강남구 언주로 716 (논현동)  2120.0  N  SK에너지  강남구\n",
       "531     오천주유소       서울 강남구 봉은사로 503 (삼성동)  2107.0  N  SK에너지  강남구\n",
       "313     재동주유소     서울특별시 종로구  율곡로 58 (경운동)  2106.0  N  SK에너지  종로구\n",
       "285     청파주유소  서울특별시 용산구  청파로 311 (청파동1가)  2106.0  N  SK에너지  용산구\n",
       "284    갈월동주유소   서울특별시 용산구  한강대로 322 (갈월동)  2106.0  N  SK에너지  용산구\n",
       "283     강변주유소      서울특별시 용산구  원효로 9 (청암동)  2106.0  N  SK에너지  용산구\n",
       "323     통일주유소       서울 중구 동호로 296 (장충동2가)  2106.0  N  SK에너지   중구"
      ]
     },
     "execution_count": 64,
     "metadata": {},
     "output_type": "execute_result"
    }
   ],
   "source": [
    "oil_price_top10 = stations.sort_values(by='가격', ascending=False).head(10)\n",
    "oil_price_top10"
   ]
  },
  {
   "cell_type": "code",
   "execution_count": 65,
   "metadata": {},
   "outputs": [
    {
     "data": {
      "text/html": [
       "<div>\n",
       "<style scoped>\n",
       "    .dataframe tbody tr th:only-of-type {\n",
       "        vertical-align: middle;\n",
       "    }\n",
       "\n",
       "    .dataframe tbody tr th {\n",
       "        vertical-align: top;\n",
       "    }\n",
       "\n",
       "    .dataframe thead th {\n",
       "        text-align: right;\n",
       "    }\n",
       "</style>\n",
       "<table border=\"1\" class=\"dataframe\">\n",
       "  <thead>\n",
       "    <tr style=\"text-align: right;\">\n",
       "      <th></th>\n",
       "      <th>Oil_store</th>\n",
       "      <th>주소</th>\n",
       "      <th>가격</th>\n",
       "      <th>셀프</th>\n",
       "      <th>상표</th>\n",
       "      <th>구</th>\n",
       "    </tr>\n",
       "  </thead>\n",
       "  <tbody>\n",
       "    <tr>\n",
       "      <th>83</th>\n",
       "      <td>만남의광장주유소</td>\n",
       "      <td>서울 서초구 양재대로12길 73-71 (원지동)</td>\n",
       "      <td>1490.0</td>\n",
       "      <td>N</td>\n",
       "      <td>알뜰(ex)</td>\n",
       "      <td>서초구</td>\n",
       "    </tr>\n",
       "    <tr>\n",
       "      <th>344</th>\n",
       "      <td>강서오곡셀프주유소</td>\n",
       "      <td>서울특별시 강서구 벌말로 254 (오곡동)</td>\n",
       "      <td>1497.0</td>\n",
       "      <td>Y</td>\n",
       "      <td>SK에너지</td>\n",
       "      <td>강서구</td>\n",
       "    </tr>\n",
       "    <tr>\n",
       "      <th>451</th>\n",
       "      <td>태릉솔밭주유소</td>\n",
       "      <td>서울특별시 노원구 노원로 49 (공릉동)</td>\n",
       "      <td>1497.0</td>\n",
       "      <td>Y</td>\n",
       "      <td>S-OIL</td>\n",
       "      <td>노원구</td>\n",
       "    </tr>\n",
       "    <tr>\n",
       "      <th>258</th>\n",
       "      <td>수유동주유소</td>\n",
       "      <td>서울특별시 강북구  도봉로 395 (수유동)</td>\n",
       "      <td>1498.0</td>\n",
       "      <td>Y</td>\n",
       "      <td>GS칼텍스</td>\n",
       "      <td>강북구</td>\n",
       "    </tr>\n",
       "    <tr>\n",
       "      <th>227</th>\n",
       "      <td>(주)강서오일</td>\n",
       "      <td>서울 영등포구 도신로 151 (도림동)</td>\n",
       "      <td>1499.0</td>\n",
       "      <td>N</td>\n",
       "      <td>현대오일뱅크</td>\n",
       "      <td>영등포구</td>\n",
       "    </tr>\n",
       "    <tr>\n",
       "      <th>225</th>\n",
       "      <td>도림주유소</td>\n",
       "      <td>서울 영등포구 도림로 343 (도림동)</td>\n",
       "      <td>1499.0</td>\n",
       "      <td>Y</td>\n",
       "      <td>알뜰주유소</td>\n",
       "      <td>영등포구</td>\n",
       "    </tr>\n",
       "    <tr>\n",
       "      <th>226</th>\n",
       "      <td>(주)대청에너지 대청주유소</td>\n",
       "      <td>서울 영등포구 가마산로 328 (대림동)</td>\n",
       "      <td>1499.0</td>\n",
       "      <td>N</td>\n",
       "      <td>GS칼텍스</td>\n",
       "      <td>영등포구</td>\n",
       "    </tr>\n",
       "    <tr>\n",
       "      <th>415</th>\n",
       "      <td>풀페이주유소</td>\n",
       "      <td>서울특별시 구로구 경인로 41 (온수동)</td>\n",
       "      <td>1499.0</td>\n",
       "      <td>N</td>\n",
       "      <td>SK에너지</td>\n",
       "      <td>구로구</td>\n",
       "    </tr>\n",
       "    <tr>\n",
       "      <th>326</th>\n",
       "      <td>신일셀프주유소</td>\n",
       "      <td>서울 중랑구 상봉로 58 (망우동)</td>\n",
       "      <td>1499.0</td>\n",
       "      <td>Y</td>\n",
       "      <td>SK에너지</td>\n",
       "      <td>중랑구</td>\n",
       "    </tr>\n",
       "    <tr>\n",
       "      <th>40</th>\n",
       "      <td>서경주유소</td>\n",
       "      <td>서울 동작구 대림로 46 (신대방동)</td>\n",
       "      <td>1499.0</td>\n",
       "      <td>N</td>\n",
       "      <td>현대오일뱅크</td>\n",
       "      <td>동작구</td>\n",
       "    </tr>\n",
       "  </tbody>\n",
       "</table>\n",
       "</div>"
      ],
      "text/plain": [
       "          Oil_store                          주소      가격 셀프      상표     구\n",
       "83         만남의광장주유소  서울 서초구 양재대로12길 73-71 (원지동)  1490.0  N  알뜰(ex)   서초구\n",
       "344       강서오곡셀프주유소     서울특별시 강서구 벌말로 254 (오곡동)  1497.0  Y   SK에너지   강서구\n",
       "451         태릉솔밭주유소      서울특별시 노원구 노원로 49 (공릉동)  1497.0  Y   S-OIL   노원구\n",
       "258          수유동주유소    서울특별시 강북구  도봉로 395 (수유동)  1498.0  Y   GS칼텍스   강북구\n",
       "227         (주)강서오일       서울 영등포구 도신로 151 (도림동)  1499.0  N  현대오일뱅크  영등포구\n",
       "225           도림주유소       서울 영등포구 도림로 343 (도림동)  1499.0  Y   알뜰주유소  영등포구\n",
       "226  (주)대청에너지 대청주유소      서울 영등포구 가마산로 328 (대림동)  1499.0  N   GS칼텍스  영등포구\n",
       "415          풀페이주유소      서울특별시 구로구 경인로 41 (온수동)  1499.0  N   SK에너지   구로구\n",
       "326         신일셀프주유소         서울 중랑구 상봉로 58 (망우동)  1499.0  Y   SK에너지   중랑구\n",
       "40            서경주유소        서울 동작구 대림로 46 (신대방동)  1499.0  N  현대오일뱅크   동작구"
      ]
     },
     "execution_count": 65,
     "metadata": {},
     "output_type": "execute_result"
    }
   ],
   "source": [
    "oil_price_bottom10 = stations.sort_values(by='가격', ascending=True).head(10)\n",
    "oil_price_bottom10"
   ]
  },
  {
   "cell_type": "code",
   "execution_count": 69,
   "metadata": {},
   "outputs": [],
   "source": [
    "gmap_key = \"***************************************\" # 2장에서 구한 자신의 key를 입력\n",
    "gmaps = googlemaps.Client(key=gmap_key)"
   ]
  },
  {
   "cell_type": "code",
   "execution_count": 71,
   "metadata": {},
   "outputs": [
    {
     "data": {
      "application/vnd.jupyter.widget-view+json": {
       "model_id": "9b622c9ae99348a0be4364a789e9d9ba",
       "version_major": 2,
       "version_minor": 0
      },
      "text/plain": [
       "HBox(children=(HTML(value=''), FloatProgress(value=0.0, max=10.0), HTML(value='')))"
      ]
     },
     "metadata": {},
     "output_type": "display_data"
    },
    {
     "name": "stdout",
     "output_type": "stream",
     "text": [
      "\n"
     ]
    },
    {
     "data": {
      "text/html": [
       "<div>\n",
       "<style scoped>\n",
       "    .dataframe tbody tr th:only-of-type {\n",
       "        vertical-align: middle;\n",
       "    }\n",
       "\n",
       "    .dataframe tbody tr th {\n",
       "        vertical-align: top;\n",
       "    }\n",
       "\n",
       "    .dataframe thead th {\n",
       "        text-align: right;\n",
       "    }\n",
       "</style>\n",
       "<table border=\"1\" class=\"dataframe\">\n",
       "  <thead>\n",
       "    <tr style=\"text-align: right;\">\n",
       "      <th></th>\n",
       "      <th>Oil_store</th>\n",
       "      <th>주소</th>\n",
       "      <th>가격</th>\n",
       "      <th>셀프</th>\n",
       "      <th>상표</th>\n",
       "      <th>구</th>\n",
       "      <th>lat</th>\n",
       "      <th>lng</th>\n",
       "    </tr>\n",
       "  </thead>\n",
       "  <tbody>\n",
       "    <tr>\n",
       "      <th>325</th>\n",
       "      <td>서남주유소</td>\n",
       "      <td>서울 중구 통일로 30 (봉래동1가)</td>\n",
       "      <td>2132.0</td>\n",
       "      <td>N</td>\n",
       "      <td>SK에너지</td>\n",
       "      <td>중구</td>\n",
       "      <td>37.558348</td>\n",
       "      <td>126.972090</td>\n",
       "    </tr>\n",
       "    <tr>\n",
       "      <th>324</th>\n",
       "      <td>장충주유소</td>\n",
       "      <td>서울 중구 장충단로 202 (장충동1가)</td>\n",
       "      <td>2130.0</td>\n",
       "      <td>N</td>\n",
       "      <td>SK에너지</td>\n",
       "      <td>중구</td>\n",
       "      <td>37.562719</td>\n",
       "      <td>127.007010</td>\n",
       "    </tr>\n",
       "    <tr>\n",
       "      <th>124</th>\n",
       "      <td>양재주유소</td>\n",
       "      <td>서울 서초구 바우뫼로 178 (양재동)</td>\n",
       "      <td>2128.0</td>\n",
       "      <td>N</td>\n",
       "      <td>SK에너지</td>\n",
       "      <td>서초구</td>\n",
       "      <td>37.478071</td>\n",
       "      <td>127.039610</td>\n",
       "    </tr>\n",
       "    <tr>\n",
       "      <th>532</th>\n",
       "      <td>뉴서울(강남)</td>\n",
       "      <td>서울 강남구 언주로 716 (논현동)</td>\n",
       "      <td>2120.0</td>\n",
       "      <td>N</td>\n",
       "      <td>SK에너지</td>\n",
       "      <td>강남구</td>\n",
       "      <td>37.517636</td>\n",
       "      <td>127.035756</td>\n",
       "    </tr>\n",
       "    <tr>\n",
       "      <th>531</th>\n",
       "      <td>오천주유소</td>\n",
       "      <td>서울 강남구 봉은사로 503 (삼성동)</td>\n",
       "      <td>2107.0</td>\n",
       "      <td>N</td>\n",
       "      <td>SK에너지</td>\n",
       "      <td>강남구</td>\n",
       "      <td>37.513458</td>\n",
       "      <td>127.053786</td>\n",
       "    </tr>\n",
       "    <tr>\n",
       "      <th>313</th>\n",
       "      <td>재동주유소</td>\n",
       "      <td>서울특별시 종로구  율곡로 58 (경운동)</td>\n",
       "      <td>2106.0</td>\n",
       "      <td>N</td>\n",
       "      <td>SK에너지</td>\n",
       "      <td>종로구</td>\n",
       "      <td>37.576388</td>\n",
       "      <td>126.985851</td>\n",
       "    </tr>\n",
       "    <tr>\n",
       "      <th>285</th>\n",
       "      <td>청파주유소</td>\n",
       "      <td>서울특별시 용산구  청파로 311 (청파동1가)</td>\n",
       "      <td>2106.0</td>\n",
       "      <td>N</td>\n",
       "      <td>SK에너지</td>\n",
       "      <td>용산구</td>\n",
       "      <td>37.547451</td>\n",
       "      <td>126.969904</td>\n",
       "    </tr>\n",
       "    <tr>\n",
       "      <th>284</th>\n",
       "      <td>갈월동주유소</td>\n",
       "      <td>서울특별시 용산구  한강대로 322 (갈월동)</td>\n",
       "      <td>2106.0</td>\n",
       "      <td>N</td>\n",
       "      <td>SK에너지</td>\n",
       "      <td>용산구</td>\n",
       "      <td>37.546955</td>\n",
       "      <td>126.972218</td>\n",
       "    </tr>\n",
       "    <tr>\n",
       "      <th>283</th>\n",
       "      <td>강변주유소</td>\n",
       "      <td>서울특별시 용산구  원효로 9 (청암동)</td>\n",
       "      <td>2106.0</td>\n",
       "      <td>N</td>\n",
       "      <td>SK에너지</td>\n",
       "      <td>용산구</td>\n",
       "      <td>37.534910</td>\n",
       "      <td>126.945869</td>\n",
       "    </tr>\n",
       "    <tr>\n",
       "      <th>323</th>\n",
       "      <td>통일주유소</td>\n",
       "      <td>서울 중구 동호로 296 (장충동2가)</td>\n",
       "      <td>2106.0</td>\n",
       "      <td>N</td>\n",
       "      <td>SK에너지</td>\n",
       "      <td>중구</td>\n",
       "      <td>37.560714</td>\n",
       "      <td>127.003177</td>\n",
       "    </tr>\n",
       "  </tbody>\n",
       "</table>\n",
       "</div>"
      ],
      "text/plain": [
       "    Oil_store                          주소      가격 셀프     상표    구        lat  \\\n",
       "325     서남주유소        서울 중구 통일로 30 (봉래동1가)  2132.0  N  SK에너지   중구  37.558348   \n",
       "324     장충주유소      서울 중구 장충단로 202 (장충동1가)  2130.0  N  SK에너지   중구  37.562719   \n",
       "124     양재주유소       서울 서초구 바우뫼로 178 (양재동)  2128.0  N  SK에너지  서초구  37.478071   \n",
       "532   뉴서울(강남)        서울 강남구 언주로 716 (논현동)  2120.0  N  SK에너지  강남구  37.517636   \n",
       "531     오천주유소       서울 강남구 봉은사로 503 (삼성동)  2107.0  N  SK에너지  강남구  37.513458   \n",
       "313     재동주유소     서울특별시 종로구  율곡로 58 (경운동)  2106.0  N  SK에너지  종로구  37.576388   \n",
       "285     청파주유소  서울특별시 용산구  청파로 311 (청파동1가)  2106.0  N  SK에너지  용산구  37.547451   \n",
       "284    갈월동주유소   서울특별시 용산구  한강대로 322 (갈월동)  2106.0  N  SK에너지  용산구  37.546955   \n",
       "283     강변주유소      서울특별시 용산구  원효로 9 (청암동)  2106.0  N  SK에너지  용산구  37.534910   \n",
       "323     통일주유소       서울 중구 동호로 296 (장충동2가)  2106.0  N  SK에너지   중구  37.560714   \n",
       "\n",
       "            lng  \n",
       "325  126.972090  \n",
       "324  127.007010  \n",
       "124  127.039610  \n",
       "532  127.035756  \n",
       "531  127.053786  \n",
       "313  126.985851  \n",
       "285  126.969904  \n",
       "284  126.972218  \n",
       "283  126.945869  \n",
       "323  127.003177  "
      ]
     },
     "execution_count": 71,
     "metadata": {},
     "output_type": "execute_result"
    }
   ],
   "source": [
    "from tqdm.notebook import tqdm\n",
    "\n",
    "lat = []\n",
    "lng = []\n",
    "\n",
    "for n in tqdm(oil_price_top10.index):\n",
    "    try:\n",
    "        tmp_add = str(oil_price_top10['주소'][n]).split('(')[0]\n",
    "        tmp_map = gmaps.geocode(tmp_add)\n",
    "\n",
    "        tmp_loc = tmp_map[0].get('geometry')\n",
    "        lat.append(tmp_loc['location']['lat'])\n",
    "        lng.append(tmp_loc['location']['lng'])\n",
    "        \n",
    "    except:\n",
    "        lat.append(np.nan)\n",
    "        lng.append(np.nan)\n",
    "        print(\"Here is nan !\")\n",
    "        \n",
    "oil_price_top10['lat'] = lat\n",
    "oil_price_top10['lng'] = lng\n",
    "oil_price_top10"
   ]
  },
  {
   "cell_type": "code",
   "execution_count": 72,
   "metadata": {},
   "outputs": [
    {
     "data": {
      "application/vnd.jupyter.widget-view+json": {
       "model_id": "d7dcb7fa440a48a9bd57b2416fe5003e",
       "version_major": 2,
       "version_minor": 0
      },
      "text/plain": [
       "HBox(children=(HTML(value=''), FloatProgress(value=0.0, max=10.0), HTML(value='')))"
      ]
     },
     "metadata": {},
     "output_type": "display_data"
    },
    {
     "name": "stdout",
     "output_type": "stream",
     "text": [
      "\n"
     ]
    },
    {
     "data": {
      "text/html": [
       "<div>\n",
       "<style scoped>\n",
       "    .dataframe tbody tr th:only-of-type {\n",
       "        vertical-align: middle;\n",
       "    }\n",
       "\n",
       "    .dataframe tbody tr th {\n",
       "        vertical-align: top;\n",
       "    }\n",
       "\n",
       "    .dataframe thead th {\n",
       "        text-align: right;\n",
       "    }\n",
       "</style>\n",
       "<table border=\"1\" class=\"dataframe\">\n",
       "  <thead>\n",
       "    <tr style=\"text-align: right;\">\n",
       "      <th></th>\n",
       "      <th>Oil_store</th>\n",
       "      <th>주소</th>\n",
       "      <th>가격</th>\n",
       "      <th>셀프</th>\n",
       "      <th>상표</th>\n",
       "      <th>구</th>\n",
       "      <th>lat</th>\n",
       "      <th>lng</th>\n",
       "    </tr>\n",
       "  </thead>\n",
       "  <tbody>\n",
       "    <tr>\n",
       "      <th>83</th>\n",
       "      <td>만남의광장주유소</td>\n",
       "      <td>서울 서초구 양재대로12길 73-71 (원지동)</td>\n",
       "      <td>1490.0</td>\n",
       "      <td>N</td>\n",
       "      <td>알뜰(ex)</td>\n",
       "      <td>서초구</td>\n",
       "      <td>37.459906</td>\n",
       "      <td>127.042060</td>\n",
       "    </tr>\n",
       "    <tr>\n",
       "      <th>344</th>\n",
       "      <td>강서오곡셀프주유소</td>\n",
       "      <td>서울특별시 강서구 벌말로 254 (오곡동)</td>\n",
       "      <td>1497.0</td>\n",
       "      <td>Y</td>\n",
       "      <td>SK에너지</td>\n",
       "      <td>강서구</td>\n",
       "      <td>37.555284</td>\n",
       "      <td>126.768567</td>\n",
       "    </tr>\n",
       "    <tr>\n",
       "      <th>451</th>\n",
       "      <td>태릉솔밭주유소</td>\n",
       "      <td>서울특별시 노원구 노원로 49 (공릉동)</td>\n",
       "      <td>1497.0</td>\n",
       "      <td>Y</td>\n",
       "      <td>S-OIL</td>\n",
       "      <td>노원구</td>\n",
       "      <td>37.625918</td>\n",
       "      <td>127.085533</td>\n",
       "    </tr>\n",
       "    <tr>\n",
       "      <th>258</th>\n",
       "      <td>수유동주유소</td>\n",
       "      <td>서울특별시 강북구  도봉로 395 (수유동)</td>\n",
       "      <td>1498.0</td>\n",
       "      <td>Y</td>\n",
       "      <td>GS칼텍스</td>\n",
       "      <td>강북구</td>\n",
       "      <td>37.642140</td>\n",
       "      <td>127.029568</td>\n",
       "    </tr>\n",
       "    <tr>\n",
       "      <th>227</th>\n",
       "      <td>(주)강서오일</td>\n",
       "      <td>서울 영등포구 도신로 151 (도림동)</td>\n",
       "      <td>1499.0</td>\n",
       "      <td>N</td>\n",
       "      <td>현대오일뱅크</td>\n",
       "      <td>영등포구</td>\n",
       "      <td>37.509969</td>\n",
       "      <td>126.908231</td>\n",
       "    </tr>\n",
       "    <tr>\n",
       "      <th>225</th>\n",
       "      <td>도림주유소</td>\n",
       "      <td>서울 영등포구 도림로 343 (도림동)</td>\n",
       "      <td>1499.0</td>\n",
       "      <td>Y</td>\n",
       "      <td>알뜰주유소</td>\n",
       "      <td>영등포구</td>\n",
       "      <td>37.507656</td>\n",
       "      <td>126.900191</td>\n",
       "    </tr>\n",
       "    <tr>\n",
       "      <th>226</th>\n",
       "      <td>(주)대청에너지 대청주유소</td>\n",
       "      <td>서울 영등포구 가마산로 328 (대림동)</td>\n",
       "      <td>1499.0</td>\n",
       "      <td>N</td>\n",
       "      <td>GS칼텍스</td>\n",
       "      <td>영등포구</td>\n",
       "      <td>37.498556</td>\n",
       "      <td>126.895791</td>\n",
       "    </tr>\n",
       "    <tr>\n",
       "      <th>415</th>\n",
       "      <td>풀페이주유소</td>\n",
       "      <td>서울특별시 구로구 경인로 41 (온수동)</td>\n",
       "      <td>1499.0</td>\n",
       "      <td>N</td>\n",
       "      <td>SK에너지</td>\n",
       "      <td>구로구</td>\n",
       "      <td>37.491009</td>\n",
       "      <td>126.826675</td>\n",
       "    </tr>\n",
       "    <tr>\n",
       "      <th>326</th>\n",
       "      <td>신일셀프주유소</td>\n",
       "      <td>서울 중랑구 상봉로 58 (망우동)</td>\n",
       "      <td>1499.0</td>\n",
       "      <td>Y</td>\n",
       "      <td>SK에너지</td>\n",
       "      <td>중랑구</td>\n",
       "      <td>37.590907</td>\n",
       "      <td>127.093834</td>\n",
       "    </tr>\n",
       "    <tr>\n",
       "      <th>40</th>\n",
       "      <td>서경주유소</td>\n",
       "      <td>서울 동작구 대림로 46 (신대방동)</td>\n",
       "      <td>1499.0</td>\n",
       "      <td>N</td>\n",
       "      <td>현대오일뱅크</td>\n",
       "      <td>동작구</td>\n",
       "      <td>37.487947</td>\n",
       "      <td>126.908240</td>\n",
       "    </tr>\n",
       "  </tbody>\n",
       "</table>\n",
       "</div>"
      ],
      "text/plain": [
       "          Oil_store                          주소      가격 셀프      상표     구  \\\n",
       "83         만남의광장주유소  서울 서초구 양재대로12길 73-71 (원지동)  1490.0  N  알뜰(ex)   서초구   \n",
       "344       강서오곡셀프주유소     서울특별시 강서구 벌말로 254 (오곡동)  1497.0  Y   SK에너지   강서구   \n",
       "451         태릉솔밭주유소      서울특별시 노원구 노원로 49 (공릉동)  1497.0  Y   S-OIL   노원구   \n",
       "258          수유동주유소    서울특별시 강북구  도봉로 395 (수유동)  1498.0  Y   GS칼텍스   강북구   \n",
       "227         (주)강서오일       서울 영등포구 도신로 151 (도림동)  1499.0  N  현대오일뱅크  영등포구   \n",
       "225           도림주유소       서울 영등포구 도림로 343 (도림동)  1499.0  Y   알뜰주유소  영등포구   \n",
       "226  (주)대청에너지 대청주유소      서울 영등포구 가마산로 328 (대림동)  1499.0  N   GS칼텍스  영등포구   \n",
       "415          풀페이주유소      서울특별시 구로구 경인로 41 (온수동)  1499.0  N   SK에너지   구로구   \n",
       "326         신일셀프주유소         서울 중랑구 상봉로 58 (망우동)  1499.0  Y   SK에너지   중랑구   \n",
       "40            서경주유소        서울 동작구 대림로 46 (신대방동)  1499.0  N  현대오일뱅크   동작구   \n",
       "\n",
       "           lat         lng  \n",
       "83   37.459906  127.042060  \n",
       "344  37.555284  126.768567  \n",
       "451  37.625918  127.085533  \n",
       "258  37.642140  127.029568  \n",
       "227  37.509969  126.908231  \n",
       "225  37.507656  126.900191  \n",
       "226  37.498556  126.895791  \n",
       "415  37.491009  126.826675  \n",
       "326  37.590907  127.093834  \n",
       "40   37.487947  126.908240  "
      ]
     },
     "execution_count": 72,
     "metadata": {},
     "output_type": "execute_result"
    }
   ],
   "source": [
    "lat = []\n",
    "lng = []\n",
    "\n",
    "for n in tqdm(oil_price_bottom10.index):\n",
    "    try:\n",
    "        tmp_add = oil_price_bottom10['주소'][n].split('(')[0]\n",
    "        tmp_map = gmaps.geocode(tmp_add)\n",
    "\n",
    "        tmp_loc = tmp_map[0]['geometry']\n",
    "        lat.append(tmp_loc['location']['lat'])\n",
    "        lng.append(tmp_loc['location']['lng'])\n",
    "        \n",
    "    except:\n",
    "        lat.append(np.nan)\n",
    "        lng.append(np.nan)\n",
    "        print(\"Here is nan !\")\n",
    "    \n",
    "oil_price_bottom10['lat'] = lat\n",
    "oil_price_bottom10['lng'] = lng\n",
    "oil_price_bottom10"
   ]
  },
  {
   "cell_type": "code",
   "execution_count": 73,
   "metadata": {},
   "outputs": [
    {
     "data": {
      "text/html": [
       "<div style=\"width:100%;\"><div style=\"position:relative;width:100%;height:0;padding-bottom:60%;\"><span style=\"color:#565656\">Make this Notebook Trusted to load map: File -> Trust Notebook</span><iframe src=\"about:blank\" style=\"position:absolute;width:100%;height:100%;left:0;top:0;border:none !important;\" data-html=%3C%21DOCTYPE%20html%3E%0A%3Chead%3E%20%20%20%20%0A%20%20%20%20%3Cmeta%20http-equiv%3D%22content-type%22%20content%3D%22text/html%3B%20charset%3DUTF-8%22%20/%3E%0A%20%20%20%20%0A%20%20%20%20%20%20%20%20%3Cscript%3E%0A%20%20%20%20%20%20%20%20%20%20%20%20L_NO_TOUCH%20%3D%20false%3B%0A%20%20%20%20%20%20%20%20%20%20%20%20L_DISABLE_3D%20%3D%20false%3B%0A%20%20%20%20%20%20%20%20%3C/script%3E%0A%20%20%20%20%0A%20%20%20%20%3Cstyle%3Ehtml%2C%20body%20%7Bwidth%3A%20100%25%3Bheight%3A%20100%25%3Bmargin%3A%200%3Bpadding%3A%200%3B%7D%3C/style%3E%0A%20%20%20%20%3Cstyle%3E%23map%20%7Bposition%3Aabsolute%3Btop%3A0%3Bbottom%3A0%3Bright%3A0%3Bleft%3A0%3B%7D%3C/style%3E%0A%20%20%20%20%3Cscript%20src%3D%22https%3A//cdn.jsdelivr.net/npm/leaflet%401.6.0/dist/leaflet.js%22%3E%3C/script%3E%0A%20%20%20%20%3Cscript%20src%3D%22https%3A//code.jquery.com/jquery-1.12.4.min.js%22%3E%3C/script%3E%0A%20%20%20%20%3Cscript%20src%3D%22https%3A//maxcdn.bootstrapcdn.com/bootstrap/3.2.0/js/bootstrap.min.js%22%3E%3C/script%3E%0A%20%20%20%20%3Cscript%20src%3D%22https%3A//cdnjs.cloudflare.com/ajax/libs/Leaflet.awesome-markers/2.0.2/leaflet.awesome-markers.js%22%3E%3C/script%3E%0A%20%20%20%20%3Clink%20rel%3D%22stylesheet%22%20href%3D%22https%3A//cdn.jsdelivr.net/npm/leaflet%401.6.0/dist/leaflet.css%22/%3E%0A%20%20%20%20%3Clink%20rel%3D%22stylesheet%22%20href%3D%22https%3A//maxcdn.bootstrapcdn.com/bootstrap/3.2.0/css/bootstrap.min.css%22/%3E%0A%20%20%20%20%3Clink%20rel%3D%22stylesheet%22%20href%3D%22https%3A//maxcdn.bootstrapcdn.com/bootstrap/3.2.0/css/bootstrap-theme.min.css%22/%3E%0A%20%20%20%20%3Clink%20rel%3D%22stylesheet%22%20href%3D%22https%3A//maxcdn.bootstrapcdn.com/font-awesome/4.6.3/css/font-awesome.min.css%22/%3E%0A%20%20%20%20%3Clink%20rel%3D%22stylesheet%22%20href%3D%22https%3A//cdnjs.cloudflare.com/ajax/libs/Leaflet.awesome-markers/2.0.2/leaflet.awesome-markers.css%22/%3E%0A%20%20%20%20%3Clink%20rel%3D%22stylesheet%22%20href%3D%22https%3A//cdn.jsdelivr.net/gh/python-visualization/folium/folium/templates/leaflet.awesome.rotate.min.css%22/%3E%0A%20%20%20%20%0A%20%20%20%20%20%20%20%20%20%20%20%20%3Cmeta%20name%3D%22viewport%22%20content%3D%22width%3Ddevice-width%2C%0A%20%20%20%20%20%20%20%20%20%20%20%20%20%20%20%20initial-scale%3D1.0%2C%20maximum-scale%3D1.0%2C%20user-scalable%3Dno%22%20/%3E%0A%20%20%20%20%20%20%20%20%20%20%20%20%3Cstyle%3E%0A%20%20%20%20%20%20%20%20%20%20%20%20%20%20%20%20%23map_3ec274c21c304bc69bb3746ddc6cc330%20%7B%0A%20%20%20%20%20%20%20%20%20%20%20%20%20%20%20%20%20%20%20%20position%3A%20relative%3B%0A%20%20%20%20%20%20%20%20%20%20%20%20%20%20%20%20%20%20%20%20width%3A%20100.0%25%3B%0A%20%20%20%20%20%20%20%20%20%20%20%20%20%20%20%20%20%20%20%20height%3A%20100.0%25%3B%0A%20%20%20%20%20%20%20%20%20%20%20%20%20%20%20%20%20%20%20%20left%3A%200.0%25%3B%0A%20%20%20%20%20%20%20%20%20%20%20%20%20%20%20%20%20%20%20%20top%3A%200.0%25%3B%0A%20%20%20%20%20%20%20%20%20%20%20%20%20%20%20%20%7D%0A%20%20%20%20%20%20%20%20%20%20%20%20%3C/style%3E%0A%20%20%20%20%20%20%20%20%0A%3C/head%3E%0A%3Cbody%3E%20%20%20%20%0A%20%20%20%20%0A%20%20%20%20%20%20%20%20%20%20%20%20%3Cdiv%20class%3D%22folium-map%22%20id%3D%22map_3ec274c21c304bc69bb3746ddc6cc330%22%20%3E%3C/div%3E%0A%20%20%20%20%20%20%20%20%0A%3C/body%3E%0A%3Cscript%3E%20%20%20%20%0A%20%20%20%20%0A%20%20%20%20%20%20%20%20%20%20%20%20var%20map_3ec274c21c304bc69bb3746ddc6cc330%20%3D%20L.map%28%0A%20%20%20%20%20%20%20%20%20%20%20%20%20%20%20%20%22map_3ec274c21c304bc69bb3746ddc6cc330%22%2C%0A%20%20%20%20%20%20%20%20%20%20%20%20%20%20%20%20%7B%0A%20%20%20%20%20%20%20%20%20%20%20%20%20%20%20%20%20%20%20%20center%3A%20%5B37.5202%2C%20126.975%5D%2C%0A%20%20%20%20%20%20%20%20%20%20%20%20%20%20%20%20%20%20%20%20crs%3A%20L.CRS.EPSG3857%2C%0A%20%20%20%20%20%20%20%20%20%20%20%20%20%20%20%20%20%20%20%20zoom%3A%2010.5%2C%0A%20%20%20%20%20%20%20%20%20%20%20%20%20%20%20%20%20%20%20%20zoomControl%3A%20true%2C%0A%20%20%20%20%20%20%20%20%20%20%20%20%20%20%20%20%20%20%20%20preferCanvas%3A%20false%2C%0A%20%20%20%20%20%20%20%20%20%20%20%20%20%20%20%20%7D%0A%20%20%20%20%20%20%20%20%20%20%20%20%29%3B%0A%0A%20%20%20%20%20%20%20%20%20%20%20%20%0A%0A%20%20%20%20%20%20%20%20%0A%20%20%20%20%0A%20%20%20%20%20%20%20%20%20%20%20%20var%20tile_layer_e3d391bbfec146259e313353711f5c58%20%3D%20L.tileLayer%28%0A%20%20%20%20%20%20%20%20%20%20%20%20%20%20%20%20%22https%3A//%7Bs%7D.tile.openstreetmap.org/%7Bz%7D/%7Bx%7D/%7By%7D.png%22%2C%0A%20%20%20%20%20%20%20%20%20%20%20%20%20%20%20%20%7B%22attribution%22%3A%20%22Data%20by%20%5Cu0026copy%3B%20%5Cu003ca%20href%3D%5C%22http%3A//openstreetmap.org%5C%22%5Cu003eOpenStreetMap%5Cu003c/a%5Cu003e%2C%20under%20%5Cu003ca%20href%3D%5C%22http%3A//www.openstreetmap.org/copyright%5C%22%5Cu003eODbL%5Cu003c/a%5Cu003e.%22%2C%20%22detectRetina%22%3A%20false%2C%20%22maxNativeZoom%22%3A%2018%2C%20%22maxZoom%22%3A%2018%2C%20%22minZoom%22%3A%200%2C%20%22noWrap%22%3A%20false%2C%20%22opacity%22%3A%201%2C%20%22subdomains%22%3A%20%22abc%22%2C%20%22tms%22%3A%20false%7D%0A%20%20%20%20%20%20%20%20%20%20%20%20%29.addTo%28map_3ec274c21c304bc69bb3746ddc6cc330%29%3B%0A%20%20%20%20%20%20%20%20%0A%20%20%20%20%0A%20%20%20%20%20%20%20%20%20%20%20%20var%20circle_marker_dd1e42e2269f48fb9315d67d936220e2%20%3D%20L.circleMarker%28%0A%20%20%20%20%20%20%20%20%20%20%20%20%20%20%20%20%5B37.5583477%2C%20126.9720901%5D%2C%0A%20%20%20%20%20%20%20%20%20%20%20%20%20%20%20%20%7B%22bubblingMouseEvents%22%3A%20true%2C%20%22color%22%3A%20%22%23CD3181%22%2C%20%22dashArray%22%3A%20null%2C%20%22dashOffset%22%3A%20null%2C%20%22fill%22%3A%20true%2C%20%22fillColor%22%3A%20%22%23CD3181%22%2C%20%22fillOpacity%22%3A%200.2%2C%20%22fillRule%22%3A%20%22evenodd%22%2C%20%22lineCap%22%3A%20%22round%22%2C%20%22lineJoin%22%3A%20%22round%22%2C%20%22opacity%22%3A%201.0%2C%20%22radius%22%3A%2015%2C%20%22stroke%22%3A%20true%2C%20%22weight%22%3A%203%7D%0A%20%20%20%20%20%20%20%20%20%20%20%20%29.addTo%28map_3ec274c21c304bc69bb3746ddc6cc330%29%3B%0A%20%20%20%20%20%20%20%20%0A%20%20%20%20%0A%20%20%20%20%20%20%20%20%20%20%20%20var%20circle_marker_d818a7b858f742e5a73249de15370117%20%3D%20L.circleMarker%28%0A%20%20%20%20%20%20%20%20%20%20%20%20%20%20%20%20%5B37.5627192%2C%20127.0070101%5D%2C%0A%20%20%20%20%20%20%20%20%20%20%20%20%20%20%20%20%7B%22bubblingMouseEvents%22%3A%20true%2C%20%22color%22%3A%20%22%23CD3181%22%2C%20%22dashArray%22%3A%20null%2C%20%22dashOffset%22%3A%20null%2C%20%22fill%22%3A%20true%2C%20%22fillColor%22%3A%20%22%23CD3181%22%2C%20%22fillOpacity%22%3A%200.2%2C%20%22fillRule%22%3A%20%22evenodd%22%2C%20%22lineCap%22%3A%20%22round%22%2C%20%22lineJoin%22%3A%20%22round%22%2C%20%22opacity%22%3A%201.0%2C%20%22radius%22%3A%2015%2C%20%22stroke%22%3A%20true%2C%20%22weight%22%3A%203%7D%0A%20%20%20%20%20%20%20%20%20%20%20%20%29.addTo%28map_3ec274c21c304bc69bb3746ddc6cc330%29%3B%0A%20%20%20%20%20%20%20%20%0A%20%20%20%20%0A%20%20%20%20%20%20%20%20%20%20%20%20var%20circle_marker_33b381e1c2fb42fe8eb41c5a2d148d88%20%3D%20L.circleMarker%28%0A%20%20%20%20%20%20%20%20%20%20%20%20%20%20%20%20%5B37.4780706%2C%20127.03961%5D%2C%0A%20%20%20%20%20%20%20%20%20%20%20%20%20%20%20%20%7B%22bubblingMouseEvents%22%3A%20true%2C%20%22color%22%3A%20%22%23CD3181%22%2C%20%22dashArray%22%3A%20null%2C%20%22dashOffset%22%3A%20null%2C%20%22fill%22%3A%20true%2C%20%22fillColor%22%3A%20%22%23CD3181%22%2C%20%22fillOpacity%22%3A%200.2%2C%20%22fillRule%22%3A%20%22evenodd%22%2C%20%22lineCap%22%3A%20%22round%22%2C%20%22lineJoin%22%3A%20%22round%22%2C%20%22opacity%22%3A%201.0%2C%20%22radius%22%3A%2015%2C%20%22stroke%22%3A%20true%2C%20%22weight%22%3A%203%7D%0A%20%20%20%20%20%20%20%20%20%20%20%20%29.addTo%28map_3ec274c21c304bc69bb3746ddc6cc330%29%3B%0A%20%20%20%20%20%20%20%20%0A%20%20%20%20%0A%20%20%20%20%20%20%20%20%20%20%20%20var%20circle_marker_93c992ed6e3e4de8a32c7656478684fb%20%3D%20L.circleMarker%28%0A%20%20%20%20%20%20%20%20%20%20%20%20%20%20%20%20%5B37.51763589999999%2C%20127.0357559%5D%2C%0A%20%20%20%20%20%20%20%20%20%20%20%20%20%20%20%20%7B%22bubblingMouseEvents%22%3A%20true%2C%20%22color%22%3A%20%22%23CD3181%22%2C%20%22dashArray%22%3A%20null%2C%20%22dashOffset%22%3A%20null%2C%20%22fill%22%3A%20true%2C%20%22fillColor%22%3A%20%22%23CD3181%22%2C%20%22fillOpacity%22%3A%200.2%2C%20%22fillRule%22%3A%20%22evenodd%22%2C%20%22lineCap%22%3A%20%22round%22%2C%20%22lineJoin%22%3A%20%22round%22%2C%20%22opacity%22%3A%201.0%2C%20%22radius%22%3A%2015%2C%20%22stroke%22%3A%20true%2C%20%22weight%22%3A%203%7D%0A%20%20%20%20%20%20%20%20%20%20%20%20%29.addTo%28map_3ec274c21c304bc69bb3746ddc6cc330%29%3B%0A%20%20%20%20%20%20%20%20%0A%20%20%20%20%0A%20%20%20%20%20%20%20%20%20%20%20%20var%20circle_marker_0041af38af194b979b399836f4aa5178%20%3D%20L.circleMarker%28%0A%20%20%20%20%20%20%20%20%20%20%20%20%20%20%20%20%5B37.5134585%2C%20127.053786%5D%2C%0A%20%20%20%20%20%20%20%20%20%20%20%20%20%20%20%20%7B%22bubblingMouseEvents%22%3A%20true%2C%20%22color%22%3A%20%22%23CD3181%22%2C%20%22dashArray%22%3A%20null%2C%20%22dashOffset%22%3A%20null%2C%20%22fill%22%3A%20true%2C%20%22fillColor%22%3A%20%22%23CD3181%22%2C%20%22fillOpacity%22%3A%200.2%2C%20%22fillRule%22%3A%20%22evenodd%22%2C%20%22lineCap%22%3A%20%22round%22%2C%20%22lineJoin%22%3A%20%22round%22%2C%20%22opacity%22%3A%201.0%2C%20%22radius%22%3A%2015%2C%20%22stroke%22%3A%20true%2C%20%22weight%22%3A%203%7D%0A%20%20%20%20%20%20%20%20%20%20%20%20%29.addTo%28map_3ec274c21c304bc69bb3746ddc6cc330%29%3B%0A%20%20%20%20%20%20%20%20%0A%20%20%20%20%0A%20%20%20%20%20%20%20%20%20%20%20%20var%20circle_marker_68c0829dc4a040c1b8e4211c6768afbc%20%3D%20L.circleMarker%28%0A%20%20%20%20%20%20%20%20%20%20%20%20%20%20%20%20%5B37.5763883%2C%20126.9858508%5D%2C%0A%20%20%20%20%20%20%20%20%20%20%20%20%20%20%20%20%7B%22bubblingMouseEvents%22%3A%20true%2C%20%22color%22%3A%20%22%23CD3181%22%2C%20%22dashArray%22%3A%20null%2C%20%22dashOffset%22%3A%20null%2C%20%22fill%22%3A%20true%2C%20%22fillColor%22%3A%20%22%23CD3181%22%2C%20%22fillOpacity%22%3A%200.2%2C%20%22fillRule%22%3A%20%22evenodd%22%2C%20%22lineCap%22%3A%20%22round%22%2C%20%22lineJoin%22%3A%20%22round%22%2C%20%22opacity%22%3A%201.0%2C%20%22radius%22%3A%2015%2C%20%22stroke%22%3A%20true%2C%20%22weight%22%3A%203%7D%0A%20%20%20%20%20%20%20%20%20%20%20%20%29.addTo%28map_3ec274c21c304bc69bb3746ddc6cc330%29%3B%0A%20%20%20%20%20%20%20%20%0A%20%20%20%20%0A%20%20%20%20%20%20%20%20%20%20%20%20var%20circle_marker_aabcb65f887642bab9e512c9ddfe6a36%20%3D%20L.circleMarker%28%0A%20%20%20%20%20%20%20%20%20%20%20%20%20%20%20%20%5B37.54745130000001%2C%20126.969904%5D%2C%0A%20%20%20%20%20%20%20%20%20%20%20%20%20%20%20%20%7B%22bubblingMouseEvents%22%3A%20true%2C%20%22color%22%3A%20%22%23CD3181%22%2C%20%22dashArray%22%3A%20null%2C%20%22dashOffset%22%3A%20null%2C%20%22fill%22%3A%20true%2C%20%22fillColor%22%3A%20%22%23CD3181%22%2C%20%22fillOpacity%22%3A%200.2%2C%20%22fillRule%22%3A%20%22evenodd%22%2C%20%22lineCap%22%3A%20%22round%22%2C%20%22lineJoin%22%3A%20%22round%22%2C%20%22opacity%22%3A%201.0%2C%20%22radius%22%3A%2015%2C%20%22stroke%22%3A%20true%2C%20%22weight%22%3A%203%7D%0A%20%20%20%20%20%20%20%20%20%20%20%20%29.addTo%28map_3ec274c21c304bc69bb3746ddc6cc330%29%3B%0A%20%20%20%20%20%20%20%20%0A%20%20%20%20%0A%20%20%20%20%20%20%20%20%20%20%20%20var%20circle_marker_01fc765bec8143ffbd92212569559872%20%3D%20L.circleMarker%28%0A%20%20%20%20%20%20%20%20%20%20%20%20%20%20%20%20%5B37.5469552%2C%20126.9722183%5D%2C%0A%20%20%20%20%20%20%20%20%20%20%20%20%20%20%20%20%7B%22bubblingMouseEvents%22%3A%20true%2C%20%22color%22%3A%20%22%23CD3181%22%2C%20%22dashArray%22%3A%20null%2C%20%22dashOffset%22%3A%20null%2C%20%22fill%22%3A%20true%2C%20%22fillColor%22%3A%20%22%23CD3181%22%2C%20%22fillOpacity%22%3A%200.2%2C%20%22fillRule%22%3A%20%22evenodd%22%2C%20%22lineCap%22%3A%20%22round%22%2C%20%22lineJoin%22%3A%20%22round%22%2C%20%22opacity%22%3A%201.0%2C%20%22radius%22%3A%2015%2C%20%22stroke%22%3A%20true%2C%20%22weight%22%3A%203%7D%0A%20%20%20%20%20%20%20%20%20%20%20%20%29.addTo%28map_3ec274c21c304bc69bb3746ddc6cc330%29%3B%0A%20%20%20%20%20%20%20%20%0A%20%20%20%20%0A%20%20%20%20%20%20%20%20%20%20%20%20var%20circle_marker_cb59a6d6d4ac472693f796a564df1add%20%3D%20L.circleMarker%28%0A%20%20%20%20%20%20%20%20%20%20%20%20%20%20%20%20%5B37.5349103%2C%20126.9458687%5D%2C%0A%20%20%20%20%20%20%20%20%20%20%20%20%20%20%20%20%7B%22bubblingMouseEvents%22%3A%20true%2C%20%22color%22%3A%20%22%23CD3181%22%2C%20%22dashArray%22%3A%20null%2C%20%22dashOffset%22%3A%20null%2C%20%22fill%22%3A%20true%2C%20%22fillColor%22%3A%20%22%23CD3181%22%2C%20%22fillOpacity%22%3A%200.2%2C%20%22fillRule%22%3A%20%22evenodd%22%2C%20%22lineCap%22%3A%20%22round%22%2C%20%22lineJoin%22%3A%20%22round%22%2C%20%22opacity%22%3A%201.0%2C%20%22radius%22%3A%2015%2C%20%22stroke%22%3A%20true%2C%20%22weight%22%3A%203%7D%0A%20%20%20%20%20%20%20%20%20%20%20%20%29.addTo%28map_3ec274c21c304bc69bb3746ddc6cc330%29%3B%0A%20%20%20%20%20%20%20%20%0A%20%20%20%20%0A%20%20%20%20%20%20%20%20%20%20%20%20var%20circle_marker_a38af197fba644a383ac1fe1f1b4c81f%20%3D%20L.circleMarker%28%0A%20%20%20%20%20%20%20%20%20%20%20%20%20%20%20%20%5B37.5607136%2C%20127.0031771%5D%2C%0A%20%20%20%20%20%20%20%20%20%20%20%20%20%20%20%20%7B%22bubblingMouseEvents%22%3A%20true%2C%20%22color%22%3A%20%22%23CD3181%22%2C%20%22dashArray%22%3A%20null%2C%20%22dashOffset%22%3A%20null%2C%20%22fill%22%3A%20true%2C%20%22fillColor%22%3A%20%22%23CD3181%22%2C%20%22fillOpacity%22%3A%200.2%2C%20%22fillRule%22%3A%20%22evenodd%22%2C%20%22lineCap%22%3A%20%22round%22%2C%20%22lineJoin%22%3A%20%22round%22%2C%20%22opacity%22%3A%201.0%2C%20%22radius%22%3A%2015%2C%20%22stroke%22%3A%20true%2C%20%22weight%22%3A%203%7D%0A%20%20%20%20%20%20%20%20%20%20%20%20%29.addTo%28map_3ec274c21c304bc69bb3746ddc6cc330%29%3B%0A%20%20%20%20%20%20%20%20%0A%20%20%20%20%0A%20%20%20%20%20%20%20%20%20%20%20%20var%20circle_marker_794a4464547642d79cf67116a9f34047%20%3D%20L.circleMarker%28%0A%20%20%20%20%20%20%20%20%20%20%20%20%20%20%20%20%5B37.4599063%2C%20127.0420601%5D%2C%0A%20%20%20%20%20%20%20%20%20%20%20%20%20%20%20%20%7B%22bubblingMouseEvents%22%3A%20true%2C%20%22color%22%3A%20%22%233186cc%22%2C%20%22dashArray%22%3A%20null%2C%20%22dashOffset%22%3A%20null%2C%20%22fill%22%3A%20true%2C%20%22fillColor%22%3A%20%22%233186cc%22%2C%20%22fillOpacity%22%3A%200.2%2C%20%22fillRule%22%3A%20%22evenodd%22%2C%20%22lineCap%22%3A%20%22round%22%2C%20%22lineJoin%22%3A%20%22round%22%2C%20%22opacity%22%3A%201.0%2C%20%22radius%22%3A%2015%2C%20%22stroke%22%3A%20true%2C%20%22weight%22%3A%203%7D%0A%20%20%20%20%20%20%20%20%20%20%20%20%29.addTo%28map_3ec274c21c304bc69bb3746ddc6cc330%29%3B%0A%20%20%20%20%20%20%20%20%0A%20%20%20%20%0A%20%20%20%20%20%20%20%20%20%20%20%20var%20circle_marker_9769ddb7a3254c2c9539a577459e8eda%20%3D%20L.circleMarker%28%0A%20%20%20%20%20%20%20%20%20%20%20%20%20%20%20%20%5B37.5552839%2C%20126.7685674%5D%2C%0A%20%20%20%20%20%20%20%20%20%20%20%20%20%20%20%20%7B%22bubblingMouseEvents%22%3A%20true%2C%20%22color%22%3A%20%22%233186cc%22%2C%20%22dashArray%22%3A%20null%2C%20%22dashOffset%22%3A%20null%2C%20%22fill%22%3A%20true%2C%20%22fillColor%22%3A%20%22%233186cc%22%2C%20%22fillOpacity%22%3A%200.2%2C%20%22fillRule%22%3A%20%22evenodd%22%2C%20%22lineCap%22%3A%20%22round%22%2C%20%22lineJoin%22%3A%20%22round%22%2C%20%22opacity%22%3A%201.0%2C%20%22radius%22%3A%2015%2C%20%22stroke%22%3A%20true%2C%20%22weight%22%3A%203%7D%0A%20%20%20%20%20%20%20%20%20%20%20%20%29.addTo%28map_3ec274c21c304bc69bb3746ddc6cc330%29%3B%0A%20%20%20%20%20%20%20%20%0A%20%20%20%20%0A%20%20%20%20%20%20%20%20%20%20%20%20var%20circle_marker_9779bc51a3c04860ae991da012d8a802%20%3D%20L.circleMarker%28%0A%20%20%20%20%20%20%20%20%20%20%20%20%20%20%20%20%5B37.6259181%2C%20127.0855335%5D%2C%0A%20%20%20%20%20%20%20%20%20%20%20%20%20%20%20%20%7B%22bubblingMouseEvents%22%3A%20true%2C%20%22color%22%3A%20%22%233186cc%22%2C%20%22dashArray%22%3A%20null%2C%20%22dashOffset%22%3A%20null%2C%20%22fill%22%3A%20true%2C%20%22fillColor%22%3A%20%22%233186cc%22%2C%20%22fillOpacity%22%3A%200.2%2C%20%22fillRule%22%3A%20%22evenodd%22%2C%20%22lineCap%22%3A%20%22round%22%2C%20%22lineJoin%22%3A%20%22round%22%2C%20%22opacity%22%3A%201.0%2C%20%22radius%22%3A%2015%2C%20%22stroke%22%3A%20true%2C%20%22weight%22%3A%203%7D%0A%20%20%20%20%20%20%20%20%20%20%20%20%29.addTo%28map_3ec274c21c304bc69bb3746ddc6cc330%29%3B%0A%20%20%20%20%20%20%20%20%0A%20%20%20%20%0A%20%20%20%20%20%20%20%20%20%20%20%20var%20circle_marker_bd86ebe9ce574b4c801e58277f0cf1c4%20%3D%20L.circleMarker%28%0A%20%20%20%20%20%20%20%20%20%20%20%20%20%20%20%20%5B37.6421401%2C%20127.0295678%5D%2C%0A%20%20%20%20%20%20%20%20%20%20%20%20%20%20%20%20%7B%22bubblingMouseEvents%22%3A%20true%2C%20%22color%22%3A%20%22%233186cc%22%2C%20%22dashArray%22%3A%20null%2C%20%22dashOffset%22%3A%20null%2C%20%22fill%22%3A%20true%2C%20%22fillColor%22%3A%20%22%233186cc%22%2C%20%22fillOpacity%22%3A%200.2%2C%20%22fillRule%22%3A%20%22evenodd%22%2C%20%22lineCap%22%3A%20%22round%22%2C%20%22lineJoin%22%3A%20%22round%22%2C%20%22opacity%22%3A%201.0%2C%20%22radius%22%3A%2015%2C%20%22stroke%22%3A%20true%2C%20%22weight%22%3A%203%7D%0A%20%20%20%20%20%20%20%20%20%20%20%20%29.addTo%28map_3ec274c21c304bc69bb3746ddc6cc330%29%3B%0A%20%20%20%20%20%20%20%20%0A%20%20%20%20%0A%20%20%20%20%20%20%20%20%20%20%20%20var%20circle_marker_b3f7d7e4fdcd4a5993a03368c6ba76a9%20%3D%20L.circleMarker%28%0A%20%20%20%20%20%20%20%20%20%20%20%20%20%20%20%20%5B37.5099691%2C%20126.9082307%5D%2C%0A%20%20%20%20%20%20%20%20%20%20%20%20%20%20%20%20%7B%22bubblingMouseEvents%22%3A%20true%2C%20%22color%22%3A%20%22%233186cc%22%2C%20%22dashArray%22%3A%20null%2C%20%22dashOffset%22%3A%20null%2C%20%22fill%22%3A%20true%2C%20%22fillColor%22%3A%20%22%233186cc%22%2C%20%22fillOpacity%22%3A%200.2%2C%20%22fillRule%22%3A%20%22evenodd%22%2C%20%22lineCap%22%3A%20%22round%22%2C%20%22lineJoin%22%3A%20%22round%22%2C%20%22opacity%22%3A%201.0%2C%20%22radius%22%3A%2015%2C%20%22stroke%22%3A%20true%2C%20%22weight%22%3A%203%7D%0A%20%20%20%20%20%20%20%20%20%20%20%20%29.addTo%28map_3ec274c21c304bc69bb3746ddc6cc330%29%3B%0A%20%20%20%20%20%20%20%20%0A%20%20%20%20%0A%20%20%20%20%20%20%20%20%20%20%20%20var%20circle_marker_b1f8045b90bc4e5f8ff88073e6e87f8e%20%3D%20L.circleMarker%28%0A%20%20%20%20%20%20%20%20%20%20%20%20%20%20%20%20%5B37.5076563%2C%20126.900191%5D%2C%0A%20%20%20%20%20%20%20%20%20%20%20%20%20%20%20%20%7B%22bubblingMouseEvents%22%3A%20true%2C%20%22color%22%3A%20%22%233186cc%22%2C%20%22dashArray%22%3A%20null%2C%20%22dashOffset%22%3A%20null%2C%20%22fill%22%3A%20true%2C%20%22fillColor%22%3A%20%22%233186cc%22%2C%20%22fillOpacity%22%3A%200.2%2C%20%22fillRule%22%3A%20%22evenodd%22%2C%20%22lineCap%22%3A%20%22round%22%2C%20%22lineJoin%22%3A%20%22round%22%2C%20%22opacity%22%3A%201.0%2C%20%22radius%22%3A%2015%2C%20%22stroke%22%3A%20true%2C%20%22weight%22%3A%203%7D%0A%20%20%20%20%20%20%20%20%20%20%20%20%29.addTo%28map_3ec274c21c304bc69bb3746ddc6cc330%29%3B%0A%20%20%20%20%20%20%20%20%0A%20%20%20%20%0A%20%20%20%20%20%20%20%20%20%20%20%20var%20circle_marker_d4d586a6295d4f149dbc1a0c29f51148%20%3D%20L.circleMarker%28%0A%20%20%20%20%20%20%20%20%20%20%20%20%20%20%20%20%5B37.4985562%2C%20126.8957906%5D%2C%0A%20%20%20%20%20%20%20%20%20%20%20%20%20%20%20%20%7B%22bubblingMouseEvents%22%3A%20true%2C%20%22color%22%3A%20%22%233186cc%22%2C%20%22dashArray%22%3A%20null%2C%20%22dashOffset%22%3A%20null%2C%20%22fill%22%3A%20true%2C%20%22fillColor%22%3A%20%22%233186cc%22%2C%20%22fillOpacity%22%3A%200.2%2C%20%22fillRule%22%3A%20%22evenodd%22%2C%20%22lineCap%22%3A%20%22round%22%2C%20%22lineJoin%22%3A%20%22round%22%2C%20%22opacity%22%3A%201.0%2C%20%22radius%22%3A%2015%2C%20%22stroke%22%3A%20true%2C%20%22weight%22%3A%203%7D%0A%20%20%20%20%20%20%20%20%20%20%20%20%29.addTo%28map_3ec274c21c304bc69bb3746ddc6cc330%29%3B%0A%20%20%20%20%20%20%20%20%0A%20%20%20%20%0A%20%20%20%20%20%20%20%20%20%20%20%20var%20circle_marker_21debf85d9cf46e2bd72506e523b6ed0%20%3D%20L.circleMarker%28%0A%20%20%20%20%20%20%20%20%20%20%20%20%20%20%20%20%5B37.4910087%2C%20126.8266753%5D%2C%0A%20%20%20%20%20%20%20%20%20%20%20%20%20%20%20%20%7B%22bubblingMouseEvents%22%3A%20true%2C%20%22color%22%3A%20%22%233186cc%22%2C%20%22dashArray%22%3A%20null%2C%20%22dashOffset%22%3A%20null%2C%20%22fill%22%3A%20true%2C%20%22fillColor%22%3A%20%22%233186cc%22%2C%20%22fillOpacity%22%3A%200.2%2C%20%22fillRule%22%3A%20%22evenodd%22%2C%20%22lineCap%22%3A%20%22round%22%2C%20%22lineJoin%22%3A%20%22round%22%2C%20%22opacity%22%3A%201.0%2C%20%22radius%22%3A%2015%2C%20%22stroke%22%3A%20true%2C%20%22weight%22%3A%203%7D%0A%20%20%20%20%20%20%20%20%20%20%20%20%29.addTo%28map_3ec274c21c304bc69bb3746ddc6cc330%29%3B%0A%20%20%20%20%20%20%20%20%0A%20%20%20%20%0A%20%20%20%20%20%20%20%20%20%20%20%20var%20circle_marker_b5c059c02b04460ea1c1e5db72f1e8fb%20%3D%20L.circleMarker%28%0A%20%20%20%20%20%20%20%20%20%20%20%20%20%20%20%20%5B37.5909065%2C%20127.093834%5D%2C%0A%20%20%20%20%20%20%20%20%20%20%20%20%20%20%20%20%7B%22bubblingMouseEvents%22%3A%20true%2C%20%22color%22%3A%20%22%233186cc%22%2C%20%22dashArray%22%3A%20null%2C%20%22dashOffset%22%3A%20null%2C%20%22fill%22%3A%20true%2C%20%22fillColor%22%3A%20%22%233186cc%22%2C%20%22fillOpacity%22%3A%200.2%2C%20%22fillRule%22%3A%20%22evenodd%22%2C%20%22lineCap%22%3A%20%22round%22%2C%20%22lineJoin%22%3A%20%22round%22%2C%20%22opacity%22%3A%201.0%2C%20%22radius%22%3A%2015%2C%20%22stroke%22%3A%20true%2C%20%22weight%22%3A%203%7D%0A%20%20%20%20%20%20%20%20%20%20%20%20%29.addTo%28map_3ec274c21c304bc69bb3746ddc6cc330%29%3B%0A%20%20%20%20%20%20%20%20%0A%20%20%20%20%0A%20%20%20%20%20%20%20%20%20%20%20%20var%20circle_marker_9d036257806441c89b36a911b34c5169%20%3D%20L.circleMarker%28%0A%20%20%20%20%20%20%20%20%20%20%20%20%20%20%20%20%5B37.4879468%2C%20126.9082404%5D%2C%0A%20%20%20%20%20%20%20%20%20%20%20%20%20%20%20%20%7B%22bubblingMouseEvents%22%3A%20true%2C%20%22color%22%3A%20%22%233186cc%22%2C%20%22dashArray%22%3A%20null%2C%20%22dashOffset%22%3A%20null%2C%20%22fill%22%3A%20true%2C%20%22fillColor%22%3A%20%22%233186cc%22%2C%20%22fillOpacity%22%3A%200.2%2C%20%22fillRule%22%3A%20%22evenodd%22%2C%20%22lineCap%22%3A%20%22round%22%2C%20%22lineJoin%22%3A%20%22round%22%2C%20%22opacity%22%3A%201.0%2C%20%22radius%22%3A%2015%2C%20%22stroke%22%3A%20true%2C%20%22weight%22%3A%203%7D%0A%20%20%20%20%20%20%20%20%20%20%20%20%29.addTo%28map_3ec274c21c304bc69bb3746ddc6cc330%29%3B%0A%20%20%20%20%20%20%20%20%0A%3C/script%3E onload=\"this.contentDocument.open();this.contentDocument.write(    decodeURIComponent(this.getAttribute('data-html')));this.contentDocument.close();\" allowfullscreen webkitallowfullscreen mozallowfullscreen></iframe></div></div>"
      ],
      "text/plain": [
       "<folium.folium.Map at 0x28f3d3858e0>"
      ]
     },
     "execution_count": 73,
     "metadata": {},
     "output_type": "execute_result"
    }
   ],
   "source": [
    "map = folium.Map(location=[37.5202, 126.975], zoom_start=10.5)\n",
    "\n",
    "for n in oil_price_top10.index:\n",
    "    if pd.notnull(oil_price_top10['lat'][n]):\n",
    "        folium.CircleMarker([oil_price_top10['lat'][n], oil_price_top10['lng'][n]], \n",
    "                                  radius=15, color='#CD3181', \n",
    "                                  fill_color='#CD3181',\n",
    "                                  fill=True).add_to(map)\n",
    "    \n",
    "for n in oil_price_bottom10.index:\n",
    "    if pd.notnull(oil_price_bottom10['lat'][n]): \n",
    "        folium.CircleMarker([oil_price_bottom10['lat'][n], \n",
    "                                  oil_price_bottom10['lng'][n]], \n",
    "                                  radius=15, color='#3186cc', \n",
    "                                  fill_color='#3186cc',\n",
    "                                  fill=True).add_to(map)\n",
    "        \n",
    "map"
   ]
  },
  {
   "cell_type": "code",
   "execution_count": null,
   "metadata": {},
   "outputs": [],
   "source": []
  }
 ],
 "metadata": {
  "kernelspec": {
   "display_name": "Python 3",
   "language": "python",
   "name": "python3"
  },
  "language_info": {
   "codemirror_mode": {
    "name": "ipython",
    "version": 3
   },
   "file_extension": ".py",
   "mimetype": "text/x-python",
   "name": "python",
   "nbconvert_exporter": "python",
   "pygments_lexer": "ipython3",
   "version": "3.8.5"
  }
 },
 "nbformat": 4,
 "nbformat_minor": 1
}
